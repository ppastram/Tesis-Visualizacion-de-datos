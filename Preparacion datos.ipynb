{
 "cells": [
  {
   "cell_type": "markdown",
   "id": "e730ee09-aa48-44a6-a73b-c37647584ed7",
   "metadata": {},
   "source": [
    "## Entendimiento y preparación de datos C8\n",
    "### Notebook 1\n",
    "\n",
    "#### Tesis Visualización de datos\n",
    "Benjamin Reyes - Pablo Pastrana"
   ]
  },
  {
   "cell_type": "code",
   "execution_count": 1,
   "id": "08ea5181-d10b-40bd-9af7-1ff7f4ef57e4",
   "metadata": {},
   "outputs": [],
   "source": [
    "# Carga de librerías a utilizar\n",
    "\n",
    "# Librería para comandos del sistema\n",
    "import os\n",
    "\n",
    "# Librerías para manejo de datos\n",
    "import pandas as pd\n",
    "import numpy as np\n",
    "\n",
    "import matplotlib.pyplot as plt\n",
    "import seaborn as sns\n",
    "\n",
    "import statsmodels.api as sm \n",
    "import joblib\n",
    "\n",
    "# Librerías de aprendizaje automático.\n",
    "\n",
    "# Para realizar la separación del conjunto de aprendizaje en entrenamiento y test.\n",
    "from sklearn.model_selection import train_test_split\n",
    "# Para construir un modelo con el algoritmo de regresión lineal\n",
    "from sklearn.linear_model import LinearRegression\n",
    "# Para determinar el rendimiento del modelo con las métricas MSE, MAE y R2\n",
    "from sklearn.metrics import mean_squared_error, mean_absolute_error, r2_score\n",
    "# Para sacar un reporte estadístico que podemos usar para determinar las importancia de las variables explicativas.\n",
    "import statsmodels.api as sm \n",
    "\n",
    "from sklearn.preprocessing import PolynomialFeatures\n",
    "from sklearn.linear_model import Perceptron\n",
    "from sklearn.pipeline import Pipeline"
   ]
  },
  {
   "cell_type": "markdown",
   "id": "b692e528-765e-41e5-8325-17f40d4528ce",
   "metadata": {},
   "source": [
    "## 1. Entendimiento de los datos"
   ]
  },
  {
   "cell_type": "markdown",
   "id": "8cfb4ec6-2f6e-4982-bff7-709c45ec51dd",
   "metadata": {},
   "source": [
    "### 1.1 Carga de datos"
   ]
  },
  {
   "cell_type": "code",
   "execution_count": 2,
   "id": "a495fa5c-f9e2-4cd6-b64d-de124471a729",
   "metadata": {},
   "outputs": [],
   "source": [
    "# Se cargan los datos\n",
    "data = pd.read_csv('./data/ENUT_C8.csv', sep=',', encoding = 'utf-8')"
   ]
  },
  {
   "cell_type": "markdown",
   "id": "398c8ecc-cd41-4efd-8fed-55ed20d3dbf8",
   "metadata": {},
   "source": [
    "### 1.2 Visualización de los datos"
   ]
  },
  {
   "cell_type": "code",
   "execution_count": 3,
   "id": "83420ed9-f84a-46ae-8d2b-ae456f0cfe21",
   "metadata": {},
   "outputs": [
    {
     "data": {
      "text/plain": [
       "(126753, 399)"
      ]
     },
     "execution_count": 3,
     "metadata": {},
     "output_type": "execute_result"
    }
   ],
   "source": [
    "# Cantidad de datos y número de variables\n",
    "data.shape"
   ]
  },
  {
   "cell_type": "code",
   "execution_count": 4,
   "id": "4c510376-9f68-4470-94db-c1b93ed1bb38",
   "metadata": {},
   "outputs": [
    {
     "data": {
      "text/html": [
       "<div>\n",
       "<style scoped>\n",
       "    .dataframe tbody tr th:only-of-type {\n",
       "        vertical-align: middle;\n",
       "    }\n",
       "\n",
       "    .dataframe tbody tr th {\n",
       "        vertical-align: top;\n",
       "    }\n",
       "\n",
       "    .dataframe thead th {\n",
       "        text-align: right;\n",
       "    }\n",
       "</style>\n",
       "<table border=\"1\" class=\"dataframe\">\n",
       "  <thead>\n",
       "    <tr style=\"text-align: right;\">\n",
       "      <th></th>\n",
       "      <th>DIRECTORIO</th>\n",
       "      <th>SECUENCIA_P</th>\n",
       "      <th>ORDEN</th>\n",
       "      <th>P1144S1</th>\n",
       "      <th>P1144S1A1</th>\n",
       "      <th>P1144S1A2</th>\n",
       "      <th>P1144S2</th>\n",
       "      <th>P1144S2A1</th>\n",
       "      <th>P1144S2A2</th>\n",
       "      <th>P1144S3</th>\n",
       "      <th>...</th>\n",
       "      <th>P1120S7</th>\n",
       "      <th>P1120S8</th>\n",
       "      <th>P1183S1</th>\n",
       "      <th>P1183S2</th>\n",
       "      <th>P1183S3</th>\n",
       "      <th>P1183S4</th>\n",
       "      <th>P1183S5</th>\n",
       "      <th>P1183S6</th>\n",
       "      <th>P1183S7</th>\n",
       "      <th>F_EXP</th>\n",
       "    </tr>\n",
       "  </thead>\n",
       "  <tbody>\n",
       "    <tr>\n",
       "      <th>0</th>\n",
       "      <td>3</td>\n",
       "      <td>1</td>\n",
       "      <td>1</td>\n",
       "      <td>1.0</td>\n",
       "      <td>8.0</td>\n",
       "      <td>0.0</td>\n",
       "      <td>1.0</td>\n",
       "      <td>1.0</td>\n",
       "      <td>0.0</td>\n",
       "      <td>1.0</td>\n",
       "      <td>...</td>\n",
       "      <td>2</td>\n",
       "      <td>2</td>\n",
       "      <td>2.0</td>\n",
       "      <td>2.0</td>\n",
       "      <td>1.0</td>\n",
       "      <td>1.0</td>\n",
       "      <td>2.0</td>\n",
       "      <td>2.0</td>\n",
       "      <td>2.0</td>\n",
       "      <td>239.883220</td>\n",
       "    </tr>\n",
       "    <tr>\n",
       "      <th>1</th>\n",
       "      <td>3</td>\n",
       "      <td>1</td>\n",
       "      <td>2</td>\n",
       "      <td>1.0</td>\n",
       "      <td>7.0</td>\n",
       "      <td>0.0</td>\n",
       "      <td>1.0</td>\n",
       "      <td>1.0</td>\n",
       "      <td>0.0</td>\n",
       "      <td>1.0</td>\n",
       "      <td>...</td>\n",
       "      <td>2</td>\n",
       "      <td>2</td>\n",
       "      <td>2.0</td>\n",
       "      <td>2.0</td>\n",
       "      <td>2.0</td>\n",
       "      <td>1.0</td>\n",
       "      <td>2.0</td>\n",
       "      <td>2.0</td>\n",
       "      <td>2.0</td>\n",
       "      <td>239.883220</td>\n",
       "    </tr>\n",
       "    <tr>\n",
       "      <th>2</th>\n",
       "      <td>7</td>\n",
       "      <td>1</td>\n",
       "      <td>1</td>\n",
       "      <td>1.0</td>\n",
       "      <td>8.0</td>\n",
       "      <td>30.0</td>\n",
       "      <td>1.0</td>\n",
       "      <td>1.0</td>\n",
       "      <td>0.0</td>\n",
       "      <td>1.0</td>\n",
       "      <td>...</td>\n",
       "      <td>2</td>\n",
       "      <td>2</td>\n",
       "      <td>NaN</td>\n",
       "      <td>NaN</td>\n",
       "      <td>NaN</td>\n",
       "      <td>NaN</td>\n",
       "      <td>NaN</td>\n",
       "      <td>NaN</td>\n",
       "      <td>NaN</td>\n",
       "      <td>274.641682</td>\n",
       "    </tr>\n",
       "    <tr>\n",
       "      <th>3</th>\n",
       "      <td>7</td>\n",
       "      <td>1</td>\n",
       "      <td>2</td>\n",
       "      <td>1.0</td>\n",
       "      <td>9.0</td>\n",
       "      <td>30.0</td>\n",
       "      <td>1.0</td>\n",
       "      <td>1.0</td>\n",
       "      <td>0.0</td>\n",
       "      <td>1.0</td>\n",
       "      <td>...</td>\n",
       "      <td>2</td>\n",
       "      <td>2</td>\n",
       "      <td>NaN</td>\n",
       "      <td>NaN</td>\n",
       "      <td>NaN</td>\n",
       "      <td>NaN</td>\n",
       "      <td>NaN</td>\n",
       "      <td>NaN</td>\n",
       "      <td>NaN</td>\n",
       "      <td>274.641682</td>\n",
       "    </tr>\n",
       "    <tr>\n",
       "      <th>4</th>\n",
       "      <td>7</td>\n",
       "      <td>1</td>\n",
       "      <td>3</td>\n",
       "      <td>1.0</td>\n",
       "      <td>9.0</td>\n",
       "      <td>0.0</td>\n",
       "      <td>1.0</td>\n",
       "      <td>1.0</td>\n",
       "      <td>0.0</td>\n",
       "      <td>1.0</td>\n",
       "      <td>...</td>\n",
       "      <td>2</td>\n",
       "      <td>2</td>\n",
       "      <td>NaN</td>\n",
       "      <td>NaN</td>\n",
       "      <td>NaN</td>\n",
       "      <td>NaN</td>\n",
       "      <td>NaN</td>\n",
       "      <td>NaN</td>\n",
       "      <td>NaN</td>\n",
       "      <td>274.641682</td>\n",
       "    </tr>\n",
       "  </tbody>\n",
       "</table>\n",
       "<p>5 rows × 399 columns</p>\n",
       "</div>"
      ],
      "text/plain": [
       "   DIRECTORIO  SECUENCIA_P  ORDEN  P1144S1  P1144S1A1  P1144S1A2  P1144S2  \\\n",
       "0           3            1      1      1.0        8.0        0.0      1.0   \n",
       "1           3            1      2      1.0        7.0        0.0      1.0   \n",
       "2           7            1      1      1.0        8.0       30.0      1.0   \n",
       "3           7            1      2      1.0        9.0       30.0      1.0   \n",
       "4           7            1      3      1.0        9.0        0.0      1.0   \n",
       "\n",
       "   P1144S2A1  P1144S2A2  P1144S3  ...  P1120S7  P1120S8  P1183S1  P1183S2  \\\n",
       "0        1.0        0.0      1.0  ...        2        2      2.0      2.0   \n",
       "1        1.0        0.0      1.0  ...        2        2      2.0      2.0   \n",
       "2        1.0        0.0      1.0  ...        2        2      NaN      NaN   \n",
       "3        1.0        0.0      1.0  ...        2        2      NaN      NaN   \n",
       "4        1.0        0.0      1.0  ...        2        2      NaN      NaN   \n",
       "\n",
       "   P1183S3  P1183S4  P1183S5  P1183S6  P1183S7       F_EXP  \n",
       "0      1.0      1.0      2.0      2.0      2.0  239.883220  \n",
       "1      2.0      1.0      2.0      2.0      2.0  239.883220  \n",
       "2      NaN      NaN      NaN      NaN      NaN  274.641682  \n",
       "3      NaN      NaN      NaN      NaN      NaN  274.641682  \n",
       "4      NaN      NaN      NaN      NaN      NaN  274.641682  \n",
       "\n",
       "[5 rows x 399 columns]"
      ]
     },
     "execution_count": 4,
     "metadata": {},
     "output_type": "execute_result"
    }
   ],
   "source": [
    "# Visualizamos los primeros datos\n",
    "data.head()"
   ]
  },
  {
   "cell_type": "markdown",
   "metadata": {},
   "source": [
    "1.3 Remover Duplicados\n"
   ]
  },
  {
   "cell_type": "code",
   "execution_count": 5,
   "id": "e1482b4c-e22b-4649-b947-cbabee5cb4ca",
   "metadata": {},
   "outputs": [
    {
     "data": {
      "text/plain": [
       "(126753, 399)"
      ]
     },
     "execution_count": 5,
     "metadata": {},
     "output_type": "execute_result"
    }
   ],
   "source": [
    "data.drop_duplicates\n",
    "data.shape"
   ]
  },
  {
   "cell_type": "code",
   "execution_count": null,
   "metadata": {},
   "outputs": [],
   "source": []
  }
 ],
 "metadata": {
  "kernelspec": {
   "display_name": "Python 3 (ipykernel)",
   "language": "python",
   "name": "python3"
  },
  "language_info": {
   "codemirror_mode": {
    "name": "ipython",
    "version": 3
   },
   "file_extension": ".py",
   "mimetype": "text/x-python",
   "name": "python",
   "nbconvert_exporter": "python",
   "pygments_lexer": "ipython3",
   "version": "3.11.6"
  }
 },
 "nbformat": 4,
 "nbformat_minor": 5
}
