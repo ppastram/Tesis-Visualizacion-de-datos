{
 "cells": [
  {
   "cell_type": "markdown",
   "id": "e730ee09-aa48-44a6-a73b-c37647584ed7",
   "metadata": {},
   "source": [
    "## Entendimiento y preparación de datos C1 y C8\n",
    "### Notebook 1\n",
    "\n",
    "#### Tesis Análisis, predicción y visualización de datos\n",
    "Benjamin Reyes - Pablo Pastrana"
   ]
  },
  {
   "cell_type": "code",
   "execution_count": 1,
   "id": "08ea5181-d10b-40bd-9af7-1ff7f4ef57e4",
   "metadata": {},
   "outputs": [],
   "source": [
    "# Carga de librerías a utilizar\n",
    "\n",
    "# Librería para comandos del sistema\n",
    "import os\n",
    "\n",
    "# Librerías para manejo de datos\n",
    "import pandas as pd\n",
    "import numpy as np\n",
    "\n",
    "import matplotlib.pyplot as plt\n",
    "import seaborn as sns\n",
    "\n",
    "import statsmodels.api as sm \n",
    "import joblib\n",
    "\n",
    "# Librerías de aprendizaje automático.\n",
    "\n",
    "# Para realizar la separación del conjunto de aprendizaje en entrenamiento y test.\n",
    "from sklearn.model_selection import train_test_split\n",
    "# Para construir un modelo con el algoritmo de regresión lineal\n",
    "from sklearn.linear_model import LinearRegression\n",
    "# Para determinar el rendimiento del modelo con las métricas MSE, MAE y R2\n",
    "from sklearn.metrics import mean_squared_error, mean_absolute_error, r2_score\n",
    "# Para sacar un reporte estadístico que podemos usar para determinar las importancia de las variables explicativas.\n",
    "import statsmodels.api as sm \n",
    "\n",
    "from sklearn.preprocessing import PolynomialFeatures\n",
    "from sklearn.linear_model import Perceptron\n",
    "from sklearn.pipeline import Pipeline"
   ]
  },
  {
   "cell_type": "markdown",
   "id": "6681d66a",
   "metadata": {},
   "source": [
    "## 1. Entendimiento de los datos"
   ]
  },
  {
   "cell_type": "markdown",
   "id": "8cfb4ec6-2f6e-4982-bff7-709c45ec51dd",
   "metadata": {},
   "source": [
    "### 1.1 Carga de datos"
   ]
  },
  {
   "cell_type": "code",
   "execution_count": 2,
   "id": "a495fa5c-f9e2-4cd6-b64d-de124471a729",
   "metadata": {},
   "outputs": [],
   "source": [
    "# Se cargan los datasets\n",
    "\n",
    "data_c1 = pd.read_csv('./data/ENUT_C1.csv', sep=',', encoding = 'utf-8')\n",
    "data_c3 = pd.read_csv('./data/ENUT_C3.csv', sep=',', encoding = 'utf-8')\n",
    "data_c8 = pd.read_csv('./data/ENUT_C8.csv', sep=',', encoding = 'utf-8')\n"
   ]
  },
  {
   "cell_type": "markdown",
   "id": "25dacc95",
   "metadata": {},
   "source": [
    "### 1.2 Visualización de los datos"
   ]
  },
  {
   "cell_type": "code",
   "execution_count": 3,
   "id": "65419dc1",
   "metadata": {},
   "outputs": [
    {
     "data": {
      "text/plain": [
       "(49051, 15)"
      ]
     },
     "execution_count": 3,
     "metadata": {},
     "output_type": "execute_result"
    }
   ],
   "source": [
    "# Cantidad de datos y número de variables C1\n",
    "data_c1.shape"
   ]
  },
  {
   "cell_type": "code",
   "execution_count": 4,
   "id": "83420ed9-f84a-46ae-8d2b-ae456f0cfe21",
   "metadata": {},
   "outputs": [
    {
     "data": {
      "text/plain": [
       "(147579, 40)"
      ]
     },
     "execution_count": 4,
     "metadata": {},
     "output_type": "execute_result"
    }
   ],
   "source": [
    "# Cantidad de datos y número de variables C3\n",
    "data_c3.shape"
   ]
  },
  {
   "cell_type": "code",
   "execution_count": 5,
   "id": "4c28506a",
   "metadata": {},
   "outputs": [
    {
     "data": {
      "text/plain": [
       "(126753, 399)"
      ]
     },
     "execution_count": 5,
     "metadata": {},
     "output_type": "execute_result"
    }
   ],
   "source": [
    "# Cantidad de datos y número de variables C8\n",
    "data_c8.shape"
   ]
  },
  {
   "cell_type": "code",
   "execution_count": 6,
   "id": "4c510376-9f68-4470-94db-c1b93ed1bb38",
   "metadata": {},
   "outputs": [
    {
     "data": {
      "text/html": [
       "<div>\n",
       "<style scoped>\n",
       "    .dataframe tbody tr th:only-of-type {\n",
       "        vertical-align: middle;\n",
       "    }\n",
       "\n",
       "    .dataframe tbody tr th {\n",
       "        vertical-align: top;\n",
       "    }\n",
       "\n",
       "    .dataframe thead th {\n",
       "        text-align: right;\n",
       "    }\n",
       "</style>\n",
       "<table border=\"1\" class=\"dataframe\">\n",
       "  <thead>\n",
       "    <tr style=\"text-align: right;\">\n",
       "      <th></th>\n",
       "      <th>DIRECTORIO</th>\n",
       "      <th>P424</th>\n",
       "      <th>P4030S1</th>\n",
       "      <th>P4030S1A1</th>\n",
       "      <th>P4030S5</th>\n",
       "      <th>P4030S3</th>\n",
       "      <th>P4030S4</th>\n",
       "      <th>P4030S4A1</th>\n",
       "      <th>P4030S6</th>\n",
       "      <th>P4030S2</th>\n",
       "      <th>MES_REF</th>\n",
       "      <th>DIA_REF</th>\n",
       "      <th>CLASE</th>\n",
       "      <th>REGION</th>\n",
       "      <th>F_EXP_VIV</th>\n",
       "    </tr>\n",
       "  </thead>\n",
       "  <tbody>\n",
       "    <tr>\n",
       "      <th>0</th>\n",
       "      <td>3</td>\n",
       "      <td>2</td>\n",
       "      <td>1</td>\n",
       "      <td>4.0</td>\n",
       "      <td>1</td>\n",
       "      <td>1</td>\n",
       "      <td>1</td>\n",
       "      <td>3.0</td>\n",
       "      <td>1</td>\n",
       "      <td>1</td>\n",
       "      <td>9</td>\n",
       "      <td>5</td>\n",
       "      <td>1</td>\n",
       "      <td>2</td>\n",
       "      <td>239.883220</td>\n",
       "    </tr>\n",
       "    <tr>\n",
       "      <th>1</th>\n",
       "      <td>7</td>\n",
       "      <td>1</td>\n",
       "      <td>1</td>\n",
       "      <td>2.0</td>\n",
       "      <td>1</td>\n",
       "      <td>1</td>\n",
       "      <td>1</td>\n",
       "      <td>3.0</td>\n",
       "      <td>1</td>\n",
       "      <td>1</td>\n",
       "      <td>9</td>\n",
       "      <td>6</td>\n",
       "      <td>2</td>\n",
       "      <td>2</td>\n",
       "      <td>274.641682</td>\n",
       "    </tr>\n",
       "    <tr>\n",
       "      <th>2</th>\n",
       "      <td>11</td>\n",
       "      <td>2</td>\n",
       "      <td>1</td>\n",
       "      <td>2.0</td>\n",
       "      <td>1</td>\n",
       "      <td>1</td>\n",
       "      <td>1</td>\n",
       "      <td>2.0</td>\n",
       "      <td>1</td>\n",
       "      <td>1</td>\n",
       "      <td>9</td>\n",
       "      <td>4</td>\n",
       "      <td>2</td>\n",
       "      <td>2</td>\n",
       "      <td>478.663999</td>\n",
       "    </tr>\n",
       "    <tr>\n",
       "      <th>3</th>\n",
       "      <td>14</td>\n",
       "      <td>1</td>\n",
       "      <td>1</td>\n",
       "      <td>1.0</td>\n",
       "      <td>1</td>\n",
       "      <td>1</td>\n",
       "      <td>2</td>\n",
       "      <td>NaN</td>\n",
       "      <td>2</td>\n",
       "      <td>1</td>\n",
       "      <td>9</td>\n",
       "      <td>6</td>\n",
       "      <td>1</td>\n",
       "      <td>1</td>\n",
       "      <td>124.680583</td>\n",
       "    </tr>\n",
       "    <tr>\n",
       "      <th>4</th>\n",
       "      <td>17</td>\n",
       "      <td>1</td>\n",
       "      <td>1</td>\n",
       "      <td>2.0</td>\n",
       "      <td>1</td>\n",
       "      <td>1</td>\n",
       "      <td>1</td>\n",
       "      <td>3.0</td>\n",
       "      <td>1</td>\n",
       "      <td>1</td>\n",
       "      <td>9</td>\n",
       "      <td>6</td>\n",
       "      <td>1</td>\n",
       "      <td>1</td>\n",
       "      <td>184.098370</td>\n",
       "    </tr>\n",
       "  </tbody>\n",
       "</table>\n",
       "</div>"
      ],
      "text/plain": [
       "   DIRECTORIO  P424  P4030S1  P4030S1A1  P4030S5  P4030S3  P4030S4  P4030S4A1  \\\n",
       "0           3     2        1        4.0        1        1        1        3.0   \n",
       "1           7     1        1        2.0        1        1        1        3.0   \n",
       "2          11     2        1        2.0        1        1        1        2.0   \n",
       "3          14     1        1        1.0        1        1        2        NaN   \n",
       "4          17     1        1        2.0        1        1        1        3.0   \n",
       "\n",
       "   P4030S6  P4030S2  MES_REF  DIA_REF  CLASE  REGION   F_EXP_VIV  \n",
       "0        1        1        9        5      1       2  239.883220  \n",
       "1        1        1        9        6      2       2  274.641682  \n",
       "2        1        1        9        4      2       2  478.663999  \n",
       "3        2        1        9        6      1       1  124.680583  \n",
       "4        1        1        9        6      1       1  184.098370  "
      ]
     },
     "execution_count": 6,
     "metadata": {},
     "output_type": "execute_result"
    }
   ],
   "source": [
    "# Se visualiza las primeras 5 columnas de ENUT C1\n",
    "data_c1.head()\n"
   ]
  },
  {
   "cell_type": "code",
   "execution_count": 7,
   "id": "73d1331c",
   "metadata": {},
   "outputs": [
    {
     "data": {
      "text/html": [
       "<div>\n",
       "<style scoped>\n",
       "    .dataframe tbody tr th:only-of-type {\n",
       "        vertical-align: middle;\n",
       "    }\n",
       "\n",
       "    .dataframe tbody tr th {\n",
       "        vertical-align: top;\n",
       "    }\n",
       "\n",
       "    .dataframe thead th {\n",
       "        text-align: right;\n",
       "    }\n",
       "</style>\n",
       "<table border=\"1\" class=\"dataframe\">\n",
       "  <thead>\n",
       "    <tr style=\"text-align: right;\">\n",
       "      <th></th>\n",
       "      <th>DIRECTORIO</th>\n",
       "      <th>SECUENCIA_P</th>\n",
       "      <th>ORDEN</th>\n",
       "      <th>P6040</th>\n",
       "      <th>P6020</th>\n",
       "      <th>P425</th>\n",
       "      <th>P1174</th>\n",
       "      <th>P1174S</th>\n",
       "      <th>P1174S1A</th>\n",
       "      <th>P1174S2A</th>\n",
       "      <th>...</th>\n",
       "      <th>P1181S</th>\n",
       "      <th>P1181S1A</th>\n",
       "      <th>P1181S2A</th>\n",
       "      <th>P1181S3A</th>\n",
       "      <th>P1182</th>\n",
       "      <th>P1182S</th>\n",
       "      <th>P1182S1A</th>\n",
       "      <th>P1182S2A</th>\n",
       "      <th>P1182S3A</th>\n",
       "      <th>F_EXP</th>\n",
       "    </tr>\n",
       "  </thead>\n",
       "  <tbody>\n",
       "    <tr>\n",
       "      <th>0</th>\n",
       "      <td>3</td>\n",
       "      <td>1</td>\n",
       "      <td>1</td>\n",
       "      <td>76</td>\n",
       "      <td>1</td>\n",
       "      <td>1</td>\n",
       "      <td>1.0</td>\n",
       "      <td>1.0</td>\n",
       "      <td>2.0</td>\n",
       "      <td>NaN</td>\n",
       "      <td>...</td>\n",
       "      <td>NaN</td>\n",
       "      <td>NaN</td>\n",
       "      <td>NaN</td>\n",
       "      <td>NaN</td>\n",
       "      <td>NaN</td>\n",
       "      <td>NaN</td>\n",
       "      <td>NaN</td>\n",
       "      <td>NaN</td>\n",
       "      <td>NaN</td>\n",
       "      <td>239.883220</td>\n",
       "    </tr>\n",
       "    <tr>\n",
       "      <th>1</th>\n",
       "      <td>3</td>\n",
       "      <td>1</td>\n",
       "      <td>2</td>\n",
       "      <td>69</td>\n",
       "      <td>2</td>\n",
       "      <td>2</td>\n",
       "      <td>NaN</td>\n",
       "      <td>NaN</td>\n",
       "      <td>NaN</td>\n",
       "      <td>NaN</td>\n",
       "      <td>...</td>\n",
       "      <td>NaN</td>\n",
       "      <td>NaN</td>\n",
       "      <td>NaN</td>\n",
       "      <td>NaN</td>\n",
       "      <td>NaN</td>\n",
       "      <td>NaN</td>\n",
       "      <td>NaN</td>\n",
       "      <td>NaN</td>\n",
       "      <td>NaN</td>\n",
       "      <td>239.883220</td>\n",
       "    </tr>\n",
       "    <tr>\n",
       "      <th>2</th>\n",
       "      <td>7</td>\n",
       "      <td>1</td>\n",
       "      <td>1</td>\n",
       "      <td>56</td>\n",
       "      <td>2</td>\n",
       "      <td>1</td>\n",
       "      <td>2.0</td>\n",
       "      <td>NaN</td>\n",
       "      <td>NaN</td>\n",
       "      <td>NaN</td>\n",
       "      <td>...</td>\n",
       "      <td>NaN</td>\n",
       "      <td>NaN</td>\n",
       "      <td>NaN</td>\n",
       "      <td>NaN</td>\n",
       "      <td>2.0</td>\n",
       "      <td>NaN</td>\n",
       "      <td>NaN</td>\n",
       "      <td>NaN</td>\n",
       "      <td>NaN</td>\n",
       "      <td>274.641682</td>\n",
       "    </tr>\n",
       "    <tr>\n",
       "      <th>3</th>\n",
       "      <td>7</td>\n",
       "      <td>1</td>\n",
       "      <td>2</td>\n",
       "      <td>22</td>\n",
       "      <td>1</td>\n",
       "      <td>3</td>\n",
       "      <td>NaN</td>\n",
       "      <td>NaN</td>\n",
       "      <td>NaN</td>\n",
       "      <td>NaN</td>\n",
       "      <td>...</td>\n",
       "      <td>NaN</td>\n",
       "      <td>NaN</td>\n",
       "      <td>NaN</td>\n",
       "      <td>NaN</td>\n",
       "      <td>NaN</td>\n",
       "      <td>NaN</td>\n",
       "      <td>NaN</td>\n",
       "      <td>NaN</td>\n",
       "      <td>NaN</td>\n",
       "      <td>274.641682</td>\n",
       "    </tr>\n",
       "    <tr>\n",
       "      <th>4</th>\n",
       "      <td>7</td>\n",
       "      <td>1</td>\n",
       "      <td>3</td>\n",
       "      <td>31</td>\n",
       "      <td>1</td>\n",
       "      <td>3</td>\n",
       "      <td>NaN</td>\n",
       "      <td>NaN</td>\n",
       "      <td>NaN</td>\n",
       "      <td>NaN</td>\n",
       "      <td>...</td>\n",
       "      <td>NaN</td>\n",
       "      <td>NaN</td>\n",
       "      <td>NaN</td>\n",
       "      <td>NaN</td>\n",
       "      <td>NaN</td>\n",
       "      <td>NaN</td>\n",
       "      <td>NaN</td>\n",
       "      <td>NaN</td>\n",
       "      <td>NaN</td>\n",
       "      <td>274.641682</td>\n",
       "    </tr>\n",
       "  </tbody>\n",
       "</table>\n",
       "<p>5 rows × 40 columns</p>\n",
       "</div>"
      ],
      "text/plain": [
       "   DIRECTORIO  SECUENCIA_P  ORDEN  P6040  P6020  P425  P1174  P1174S  \\\n",
       "0           3            1      1     76      1     1    1.0     1.0   \n",
       "1           3            1      2     69      2     2    NaN     NaN   \n",
       "2           7            1      1     56      2     1    2.0     NaN   \n",
       "3           7            1      2     22      1     3    NaN     NaN   \n",
       "4           7            1      3     31      1     3    NaN     NaN   \n",
       "\n",
       "   P1174S1A  P1174S2A  ...  P1181S  P1181S1A  P1181S2A  P1181S3A  P1182  \\\n",
       "0       2.0       NaN  ...     NaN       NaN       NaN       NaN    NaN   \n",
       "1       NaN       NaN  ...     NaN       NaN       NaN       NaN    NaN   \n",
       "2       NaN       NaN  ...     NaN       NaN       NaN       NaN    2.0   \n",
       "3       NaN       NaN  ...     NaN       NaN       NaN       NaN    NaN   \n",
       "4       NaN       NaN  ...     NaN       NaN       NaN       NaN    NaN   \n",
       "\n",
       "   P1182S  P1182S1A  P1182S2A  P1182S3A       F_EXP  \n",
       "0     NaN       NaN       NaN       NaN  239.883220  \n",
       "1     NaN       NaN       NaN       NaN  239.883220  \n",
       "2     NaN       NaN       NaN       NaN  274.641682  \n",
       "3     NaN       NaN       NaN       NaN  274.641682  \n",
       "4     NaN       NaN       NaN       NaN  274.641682  \n",
       "\n",
       "[5 rows x 40 columns]"
      ]
     },
     "execution_count": 7,
     "metadata": {},
     "output_type": "execute_result"
    }
   ],
   "source": [
    "# Se visualiza las primeras 5 columnas de ENUT C3\n",
    "data_c3.head()\n"
   ]
  },
  {
   "cell_type": "code",
   "execution_count": 8,
   "id": "3039591a",
   "metadata": {},
   "outputs": [
    {
     "data": {
      "text/html": [
       "<div>\n",
       "<style scoped>\n",
       "    .dataframe tbody tr th:only-of-type {\n",
       "        vertical-align: middle;\n",
       "    }\n",
       "\n",
       "    .dataframe tbody tr th {\n",
       "        vertical-align: top;\n",
       "    }\n",
       "\n",
       "    .dataframe thead th {\n",
       "        text-align: right;\n",
       "    }\n",
       "</style>\n",
       "<table border=\"1\" class=\"dataframe\">\n",
       "  <thead>\n",
       "    <tr style=\"text-align: right;\">\n",
       "      <th></th>\n",
       "      <th>DIRECTORIO</th>\n",
       "      <th>SECUENCIA_P</th>\n",
       "      <th>ORDEN</th>\n",
       "      <th>P1144S1</th>\n",
       "      <th>P1144S1A1</th>\n",
       "      <th>P1144S1A2</th>\n",
       "      <th>P1144S2</th>\n",
       "      <th>P1144S2A1</th>\n",
       "      <th>P1144S2A2</th>\n",
       "      <th>P1144S3</th>\n",
       "      <th>...</th>\n",
       "      <th>P1120S7</th>\n",
       "      <th>P1120S8</th>\n",
       "      <th>P1183S1</th>\n",
       "      <th>P1183S2</th>\n",
       "      <th>P1183S3</th>\n",
       "      <th>P1183S4</th>\n",
       "      <th>P1183S5</th>\n",
       "      <th>P1183S6</th>\n",
       "      <th>P1183S7</th>\n",
       "      <th>F_EXP</th>\n",
       "    </tr>\n",
       "  </thead>\n",
       "  <tbody>\n",
       "    <tr>\n",
       "      <th>0</th>\n",
       "      <td>3</td>\n",
       "      <td>1</td>\n",
       "      <td>1</td>\n",
       "      <td>1.0</td>\n",
       "      <td>8.0</td>\n",
       "      <td>0.0</td>\n",
       "      <td>1.0</td>\n",
       "      <td>1.0</td>\n",
       "      <td>0.0</td>\n",
       "      <td>1.0</td>\n",
       "      <td>...</td>\n",
       "      <td>2</td>\n",
       "      <td>2</td>\n",
       "      <td>2.0</td>\n",
       "      <td>2.0</td>\n",
       "      <td>1.0</td>\n",
       "      <td>1.0</td>\n",
       "      <td>2.0</td>\n",
       "      <td>2.0</td>\n",
       "      <td>2.0</td>\n",
       "      <td>239.883220</td>\n",
       "    </tr>\n",
       "    <tr>\n",
       "      <th>1</th>\n",
       "      <td>3</td>\n",
       "      <td>1</td>\n",
       "      <td>2</td>\n",
       "      <td>1.0</td>\n",
       "      <td>7.0</td>\n",
       "      <td>0.0</td>\n",
       "      <td>1.0</td>\n",
       "      <td>1.0</td>\n",
       "      <td>0.0</td>\n",
       "      <td>1.0</td>\n",
       "      <td>...</td>\n",
       "      <td>2</td>\n",
       "      <td>2</td>\n",
       "      <td>2.0</td>\n",
       "      <td>2.0</td>\n",
       "      <td>2.0</td>\n",
       "      <td>1.0</td>\n",
       "      <td>2.0</td>\n",
       "      <td>2.0</td>\n",
       "      <td>2.0</td>\n",
       "      <td>239.883220</td>\n",
       "    </tr>\n",
       "    <tr>\n",
       "      <th>2</th>\n",
       "      <td>7</td>\n",
       "      <td>1</td>\n",
       "      <td>1</td>\n",
       "      <td>1.0</td>\n",
       "      <td>8.0</td>\n",
       "      <td>30.0</td>\n",
       "      <td>1.0</td>\n",
       "      <td>1.0</td>\n",
       "      <td>0.0</td>\n",
       "      <td>1.0</td>\n",
       "      <td>...</td>\n",
       "      <td>2</td>\n",
       "      <td>2</td>\n",
       "      <td>NaN</td>\n",
       "      <td>NaN</td>\n",
       "      <td>NaN</td>\n",
       "      <td>NaN</td>\n",
       "      <td>NaN</td>\n",
       "      <td>NaN</td>\n",
       "      <td>NaN</td>\n",
       "      <td>274.641682</td>\n",
       "    </tr>\n",
       "    <tr>\n",
       "      <th>3</th>\n",
       "      <td>7</td>\n",
       "      <td>1</td>\n",
       "      <td>2</td>\n",
       "      <td>1.0</td>\n",
       "      <td>9.0</td>\n",
       "      <td>30.0</td>\n",
       "      <td>1.0</td>\n",
       "      <td>1.0</td>\n",
       "      <td>0.0</td>\n",
       "      <td>1.0</td>\n",
       "      <td>...</td>\n",
       "      <td>2</td>\n",
       "      <td>2</td>\n",
       "      <td>NaN</td>\n",
       "      <td>NaN</td>\n",
       "      <td>NaN</td>\n",
       "      <td>NaN</td>\n",
       "      <td>NaN</td>\n",
       "      <td>NaN</td>\n",
       "      <td>NaN</td>\n",
       "      <td>274.641682</td>\n",
       "    </tr>\n",
       "    <tr>\n",
       "      <th>4</th>\n",
       "      <td>7</td>\n",
       "      <td>1</td>\n",
       "      <td>3</td>\n",
       "      <td>1.0</td>\n",
       "      <td>9.0</td>\n",
       "      <td>0.0</td>\n",
       "      <td>1.0</td>\n",
       "      <td>1.0</td>\n",
       "      <td>0.0</td>\n",
       "      <td>1.0</td>\n",
       "      <td>...</td>\n",
       "      <td>2</td>\n",
       "      <td>2</td>\n",
       "      <td>NaN</td>\n",
       "      <td>NaN</td>\n",
       "      <td>NaN</td>\n",
       "      <td>NaN</td>\n",
       "      <td>NaN</td>\n",
       "      <td>NaN</td>\n",
       "      <td>NaN</td>\n",
       "      <td>274.641682</td>\n",
       "    </tr>\n",
       "  </tbody>\n",
       "</table>\n",
       "<p>5 rows × 399 columns</p>\n",
       "</div>"
      ],
      "text/plain": [
       "   DIRECTORIO  SECUENCIA_P  ORDEN  P1144S1  P1144S1A1  P1144S1A2  P1144S2  \\\n",
       "0           3            1      1      1.0        8.0        0.0      1.0   \n",
       "1           3            1      2      1.0        7.0        0.0      1.0   \n",
       "2           7            1      1      1.0        8.0       30.0      1.0   \n",
       "3           7            1      2      1.0        9.0       30.0      1.0   \n",
       "4           7            1      3      1.0        9.0        0.0      1.0   \n",
       "\n",
       "   P1144S2A1  P1144S2A2  P1144S3  ...  P1120S7  P1120S8  P1183S1  P1183S2  \\\n",
       "0        1.0        0.0      1.0  ...        2        2      2.0      2.0   \n",
       "1        1.0        0.0      1.0  ...        2        2      2.0      2.0   \n",
       "2        1.0        0.0      1.0  ...        2        2      NaN      NaN   \n",
       "3        1.0        0.0      1.0  ...        2        2      NaN      NaN   \n",
       "4        1.0        0.0      1.0  ...        2        2      NaN      NaN   \n",
       "\n",
       "   P1183S3  P1183S4  P1183S5  P1183S6  P1183S7       F_EXP  \n",
       "0      1.0      1.0      2.0      2.0      2.0  239.883220  \n",
       "1      2.0      1.0      2.0      2.0      2.0  239.883220  \n",
       "2      NaN      NaN      NaN      NaN      NaN  274.641682  \n",
       "3      NaN      NaN      NaN      NaN      NaN  274.641682  \n",
       "4      NaN      NaN      NaN      NaN      NaN  274.641682  \n",
       "\n",
       "[5 rows x 399 columns]"
      ]
     },
     "execution_count": 8,
     "metadata": {},
     "output_type": "execute_result"
    }
   ],
   "source": [
    "# Se visualiza las primeras 5 columnas de ENUT C8\n",
    "data_c8.head()"
   ]
  },
  {
   "cell_type": "code",
   "execution_count": 9,
   "id": "99c5c9e3",
   "metadata": {},
   "outputs": [
    {
     "data": {
      "text/plain": [
       "49051"
      ]
     },
     "execution_count": 9,
     "metadata": {},
     "output_type": "execute_result"
    }
   ],
   "source": [
    "# Se obtiene el número de valores únicos en la columna DIRECTORIO en C1\n",
    "data_c1['DIRECTORIO'].nunique()"
   ]
  },
  {
   "cell_type": "code",
   "execution_count": 10,
   "id": "6efea8bc",
   "metadata": {},
   "outputs": [
    {
     "data": {
      "text/plain": [
       "49051"
      ]
     },
     "execution_count": 10,
     "metadata": {},
     "output_type": "execute_result"
    }
   ],
   "source": [
    "# Se obtiene el número de valores únicos en la columna DIRECTORIO en C1\n",
    "data_c3['DIRECTORIO'].nunique()"
   ]
  },
  {
   "cell_type": "code",
   "execution_count": 11,
   "id": "7afc21da",
   "metadata": {},
   "outputs": [
    {
     "data": {
      "text/plain": [
       "49051"
      ]
     },
     "execution_count": 11,
     "metadata": {},
     "output_type": "execute_result"
    }
   ],
   "source": [
    "# Se obtiene el número de valores únicos en la columna DIRECTORIO en C8\n",
    "data_c8['DIRECTORIO'].nunique()"
   ]
  },
  {
   "cell_type": "markdown",
   "id": "28f35fa3",
   "metadata": {},
   "source": [
    "Observamos que todos los datasets tienen la misma cantidad de valores únicos en la columna DIRECTORIO, lo que rectifica que este es el número de ID único y, por lo tanto, será la variable con la que podemos juntar las tablas."
   ]
  },
  {
   "cell_type": "markdown",
   "id": "17131519",
   "metadata": {},
   "source": [
    "## 2. Preparación de datos"
   ]
  },
  {
   "cell_type": "markdown",
   "id": "75e4693d",
   "metadata": {},
   "source": [
    "### 2.1 Ajuste de nombres de columnas y variables"
   ]
  },
  {
   "cell_type": "markdown",
   "id": "b5021443",
   "metadata": {},
   "source": [
    "Lo primero que hacemos es sustituir los valores de referencia asignados a las columnas y las variables por nombres más comprensibles. "
   ]
  },
  {
   "cell_type": "code",
   "execution_count": 12,
   "id": "8ba66a4a",
   "metadata": {},
   "outputs": [
    {
     "data": {
      "text/html": [
       "<div>\n",
       "<style scoped>\n",
       "    .dataframe tbody tr th:only-of-type {\n",
       "        vertical-align: middle;\n",
       "    }\n",
       "\n",
       "    .dataframe tbody tr th {\n",
       "        vertical-align: top;\n",
       "    }\n",
       "\n",
       "    .dataframe thead th {\n",
       "        text-align: right;\n",
       "    }\n",
       "</style>\n",
       "<table border=\"1\" class=\"dataframe\">\n",
       "  <thead>\n",
       "    <tr style=\"text-align: right;\">\n",
       "      <th></th>\n",
       "      <th>id</th>\n",
       "      <th>tipoVivienda</th>\n",
       "      <th>energiaElectrica</th>\n",
       "      <th>estratoTarifa</th>\n",
       "      <th>acueducto</th>\n",
       "      <th>alcantarillado</th>\n",
       "      <th>recoleccionBasuras</th>\n",
       "      <th>diasSemana</th>\n",
       "      <th>Internet</th>\n",
       "      <th>gasNatural</th>\n",
       "      <th>mes</th>\n",
       "      <th>dia</th>\n",
       "      <th>urbanoORural</th>\n",
       "      <th>region</th>\n",
       "      <th>factorExpansion</th>\n",
       "    </tr>\n",
       "  </thead>\n",
       "  <tbody>\n",
       "    <tr>\n",
       "      <th>0</th>\n",
       "      <td>3</td>\n",
       "      <td>2</td>\n",
       "      <td>1</td>\n",
       "      <td>4.0</td>\n",
       "      <td>1</td>\n",
       "      <td>1</td>\n",
       "      <td>1</td>\n",
       "      <td>3.0</td>\n",
       "      <td>1</td>\n",
       "      <td>1</td>\n",
       "      <td>9</td>\n",
       "      <td>5</td>\n",
       "      <td>1</td>\n",
       "      <td>2</td>\n",
       "      <td>239.883220</td>\n",
       "    </tr>\n",
       "    <tr>\n",
       "      <th>1</th>\n",
       "      <td>7</td>\n",
       "      <td>1</td>\n",
       "      <td>1</td>\n",
       "      <td>2.0</td>\n",
       "      <td>1</td>\n",
       "      <td>1</td>\n",
       "      <td>1</td>\n",
       "      <td>3.0</td>\n",
       "      <td>1</td>\n",
       "      <td>1</td>\n",
       "      <td>9</td>\n",
       "      <td>6</td>\n",
       "      <td>2</td>\n",
       "      <td>2</td>\n",
       "      <td>274.641682</td>\n",
       "    </tr>\n",
       "    <tr>\n",
       "      <th>2</th>\n",
       "      <td>11</td>\n",
       "      <td>2</td>\n",
       "      <td>1</td>\n",
       "      <td>2.0</td>\n",
       "      <td>1</td>\n",
       "      <td>1</td>\n",
       "      <td>1</td>\n",
       "      <td>2.0</td>\n",
       "      <td>1</td>\n",
       "      <td>1</td>\n",
       "      <td>9</td>\n",
       "      <td>4</td>\n",
       "      <td>2</td>\n",
       "      <td>2</td>\n",
       "      <td>478.663999</td>\n",
       "    </tr>\n",
       "    <tr>\n",
       "      <th>3</th>\n",
       "      <td>14</td>\n",
       "      <td>1</td>\n",
       "      <td>1</td>\n",
       "      <td>1.0</td>\n",
       "      <td>1</td>\n",
       "      <td>1</td>\n",
       "      <td>2</td>\n",
       "      <td>NaN</td>\n",
       "      <td>2</td>\n",
       "      <td>1</td>\n",
       "      <td>9</td>\n",
       "      <td>6</td>\n",
       "      <td>1</td>\n",
       "      <td>1</td>\n",
       "      <td>124.680583</td>\n",
       "    </tr>\n",
       "    <tr>\n",
       "      <th>4</th>\n",
       "      <td>17</td>\n",
       "      <td>1</td>\n",
       "      <td>1</td>\n",
       "      <td>2.0</td>\n",
       "      <td>1</td>\n",
       "      <td>1</td>\n",
       "      <td>1</td>\n",
       "      <td>3.0</td>\n",
       "      <td>1</td>\n",
       "      <td>1</td>\n",
       "      <td>9</td>\n",
       "      <td>6</td>\n",
       "      <td>1</td>\n",
       "      <td>1</td>\n",
       "      <td>184.098370</td>\n",
       "    </tr>\n",
       "  </tbody>\n",
       "</table>\n",
       "</div>"
      ],
      "text/plain": [
       "   id  tipoVivienda  energiaElectrica  estratoTarifa  acueducto  \\\n",
       "0   3             2                 1            4.0          1   \n",
       "1   7             1                 1            2.0          1   \n",
       "2  11             2                 1            2.0          1   \n",
       "3  14             1                 1            1.0          1   \n",
       "4  17             1                 1            2.0          1   \n",
       "\n",
       "   alcantarillado  recoleccionBasuras  diasSemana  Internet  gasNatural  mes  \\\n",
       "0               1                   1         3.0         1           1    9   \n",
       "1               1                   1         3.0         1           1    9   \n",
       "2               1                   1         2.0         1           1    9   \n",
       "3               1                   2         NaN         2           1    9   \n",
       "4               1                   1         3.0         1           1    9   \n",
       "\n",
       "   dia  urbanoORural  region  factorExpansion  \n",
       "0    5             1       2       239.883220  \n",
       "1    6             2       2       274.641682  \n",
       "2    4             2       2       478.663999  \n",
       "3    6             1       1       124.680583  \n",
       "4    6             1       1       184.098370  "
      ]
     },
     "execution_count": 12,
     "metadata": {},
     "output_type": "execute_result"
    }
   ],
   "source": [
    "# Cambio de nombre de las columnas para C1\n",
    "\n",
    "data_c1.columns = pd.read_csv('./data/Nombres_columnas_C1.csv', sep=';', encoding = 'utf-8').columns\n",
    "data_c1.head()"
   ]
  },
  {
   "cell_type": "code",
   "execution_count": 13,
   "id": "9e2be58e",
   "metadata": {},
   "outputs": [
    {
     "data": {
      "text/html": [
       "<div>\n",
       "<style scoped>\n",
       "    .dataframe tbody tr th:only-of-type {\n",
       "        vertical-align: middle;\n",
       "    }\n",
       "\n",
       "    .dataframe tbody tr th {\n",
       "        vertical-align: top;\n",
       "    }\n",
       "\n",
       "    .dataframe thead th {\n",
       "        text-align: right;\n",
       "    }\n",
       "</style>\n",
       "<table border=\"1\" class=\"dataframe\">\n",
       "  <thead>\n",
       "    <tr style=\"text-align: right;\">\n",
       "      <th></th>\n",
       "      <th>id</th>\n",
       "      <th>secuenciaP</th>\n",
       "      <th>orden</th>\n",
       "      <th>edad</th>\n",
       "      <th>sexo</th>\n",
       "      <th>parentescoJefatura</th>\n",
       "      <th>comparteJefatura</th>\n",
       "      <th>cuantas</th>\n",
       "      <th>numOrden</th>\n",
       "      <th>numOrden.1</th>\n",
       "      <th>...</th>\n",
       "      <th>cuantasPersonas.1</th>\n",
       "      <th>numOrden.10</th>\n",
       "      <th>numOrden.11</th>\n",
       "      <th>numOrden.12</th>\n",
       "      <th>decisionesVenta</th>\n",
       "      <th>cuantasPersonas.2</th>\n",
       "      <th>numOrden.13</th>\n",
       "      <th>numOrden.14</th>\n",
       "      <th>numOrden.15</th>\n",
       "      <th>factorExpansion</th>\n",
       "    </tr>\n",
       "  </thead>\n",
       "  <tbody>\n",
       "    <tr>\n",
       "      <th>0</th>\n",
       "      <td>3</td>\n",
       "      <td>1</td>\n",
       "      <td>1</td>\n",
       "      <td>76</td>\n",
       "      <td>1</td>\n",
       "      <td>1</td>\n",
       "      <td>1.0</td>\n",
       "      <td>1.0</td>\n",
       "      <td>2.0</td>\n",
       "      <td>NaN</td>\n",
       "      <td>...</td>\n",
       "      <td>NaN</td>\n",
       "      <td>NaN</td>\n",
       "      <td>NaN</td>\n",
       "      <td>NaN</td>\n",
       "      <td>NaN</td>\n",
       "      <td>NaN</td>\n",
       "      <td>NaN</td>\n",
       "      <td>NaN</td>\n",
       "      <td>NaN</td>\n",
       "      <td>239.883220</td>\n",
       "    </tr>\n",
       "    <tr>\n",
       "      <th>1</th>\n",
       "      <td>3</td>\n",
       "      <td>1</td>\n",
       "      <td>2</td>\n",
       "      <td>69</td>\n",
       "      <td>2</td>\n",
       "      <td>2</td>\n",
       "      <td>NaN</td>\n",
       "      <td>NaN</td>\n",
       "      <td>NaN</td>\n",
       "      <td>NaN</td>\n",
       "      <td>...</td>\n",
       "      <td>NaN</td>\n",
       "      <td>NaN</td>\n",
       "      <td>NaN</td>\n",
       "      <td>NaN</td>\n",
       "      <td>NaN</td>\n",
       "      <td>NaN</td>\n",
       "      <td>NaN</td>\n",
       "      <td>NaN</td>\n",
       "      <td>NaN</td>\n",
       "      <td>239.883220</td>\n",
       "    </tr>\n",
       "    <tr>\n",
       "      <th>2</th>\n",
       "      <td>7</td>\n",
       "      <td>1</td>\n",
       "      <td>1</td>\n",
       "      <td>56</td>\n",
       "      <td>2</td>\n",
       "      <td>1</td>\n",
       "      <td>2.0</td>\n",
       "      <td>NaN</td>\n",
       "      <td>NaN</td>\n",
       "      <td>NaN</td>\n",
       "      <td>...</td>\n",
       "      <td>NaN</td>\n",
       "      <td>NaN</td>\n",
       "      <td>NaN</td>\n",
       "      <td>NaN</td>\n",
       "      <td>2.0</td>\n",
       "      <td>NaN</td>\n",
       "      <td>NaN</td>\n",
       "      <td>NaN</td>\n",
       "      <td>NaN</td>\n",
       "      <td>274.641682</td>\n",
       "    </tr>\n",
       "    <tr>\n",
       "      <th>3</th>\n",
       "      <td>7</td>\n",
       "      <td>1</td>\n",
       "      <td>2</td>\n",
       "      <td>22</td>\n",
       "      <td>1</td>\n",
       "      <td>3</td>\n",
       "      <td>NaN</td>\n",
       "      <td>NaN</td>\n",
       "      <td>NaN</td>\n",
       "      <td>NaN</td>\n",
       "      <td>...</td>\n",
       "      <td>NaN</td>\n",
       "      <td>NaN</td>\n",
       "      <td>NaN</td>\n",
       "      <td>NaN</td>\n",
       "      <td>NaN</td>\n",
       "      <td>NaN</td>\n",
       "      <td>NaN</td>\n",
       "      <td>NaN</td>\n",
       "      <td>NaN</td>\n",
       "      <td>274.641682</td>\n",
       "    </tr>\n",
       "    <tr>\n",
       "      <th>4</th>\n",
       "      <td>7</td>\n",
       "      <td>1</td>\n",
       "      <td>3</td>\n",
       "      <td>31</td>\n",
       "      <td>1</td>\n",
       "      <td>3</td>\n",
       "      <td>NaN</td>\n",
       "      <td>NaN</td>\n",
       "      <td>NaN</td>\n",
       "      <td>NaN</td>\n",
       "      <td>...</td>\n",
       "      <td>NaN</td>\n",
       "      <td>NaN</td>\n",
       "      <td>NaN</td>\n",
       "      <td>NaN</td>\n",
       "      <td>NaN</td>\n",
       "      <td>NaN</td>\n",
       "      <td>NaN</td>\n",
       "      <td>NaN</td>\n",
       "      <td>NaN</td>\n",
       "      <td>274.641682</td>\n",
       "    </tr>\n",
       "  </tbody>\n",
       "</table>\n",
       "<p>5 rows × 40 columns</p>\n",
       "</div>"
      ],
      "text/plain": [
       "   id  secuenciaP  orden  edad  sexo  parentescoJefatura  comparteJefatura  \\\n",
       "0   3           1      1    76     1                   1               1.0   \n",
       "1   3           1      2    69     2                   2               NaN   \n",
       "2   7           1      1    56     2                   1               2.0   \n",
       "3   7           1      2    22     1                   3               NaN   \n",
       "4   7           1      3    31     1                   3               NaN   \n",
       "\n",
       "   cuantas  numOrden  numOrden.1  ...  cuantasPersonas.1  numOrden.10  \\\n",
       "0      1.0       2.0         NaN  ...                NaN          NaN   \n",
       "1      NaN       NaN         NaN  ...                NaN          NaN   \n",
       "2      NaN       NaN         NaN  ...                NaN          NaN   \n",
       "3      NaN       NaN         NaN  ...                NaN          NaN   \n",
       "4      NaN       NaN         NaN  ...                NaN          NaN   \n",
       "\n",
       "   numOrden.11  numOrden.12  decisionesVenta  cuantasPersonas.2  numOrden.13  \\\n",
       "0          NaN          NaN              NaN                NaN          NaN   \n",
       "1          NaN          NaN              NaN                NaN          NaN   \n",
       "2          NaN          NaN              2.0                NaN          NaN   \n",
       "3          NaN          NaN              NaN                NaN          NaN   \n",
       "4          NaN          NaN              NaN                NaN          NaN   \n",
       "\n",
       "   numOrden.14  numOrden.15  factorExpansion  \n",
       "0          NaN          NaN       239.883220  \n",
       "1          NaN          NaN       239.883220  \n",
       "2          NaN          NaN       274.641682  \n",
       "3          NaN          NaN       274.641682  \n",
       "4          NaN          NaN       274.641682  \n",
       "\n",
       "[5 rows x 40 columns]"
      ]
     },
     "execution_count": 13,
     "metadata": {},
     "output_type": "execute_result"
    }
   ],
   "source": [
    "# Cambio de nombre de las columnas para C3\n",
    "\n",
    "data_c3.columns = pd.read_csv('./data/Nombres_columnas_C3.csv', sep=';', encoding = 'utf-8').columns\n",
    "data_c3.head()"
   ]
  },
  {
   "cell_type": "code",
   "execution_count": 14,
   "id": "6a61f6cb",
   "metadata": {},
   "outputs": [
    {
     "data": {
      "text/html": [
       "<div>\n",
       "<style scoped>\n",
       "    .dataframe tbody tr th:only-of-type {\n",
       "        vertical-align: middle;\n",
       "    }\n",
       "\n",
       "    .dataframe tbody tr th {\n",
       "        vertical-align: top;\n",
       "    }\n",
       "\n",
       "    .dataframe thead th {\n",
       "        text-align: right;\n",
       "    }\n",
       "</style>\n",
       "<table border=\"1\" class=\"dataframe\">\n",
       "  <thead>\n",
       "    <tr style=\"text-align: right;\">\n",
       "      <th></th>\n",
       "      <th>DIRECTORIO</th>\n",
       "      <th>SECUENCIA_P</th>\n",
       "      <th>ORDEN</th>\n",
       "      <th>P1144S1</th>\n",
       "      <th>P1144S1A1</th>\n",
       "      <th>P1144S1A2</th>\n",
       "      <th>P1144S2</th>\n",
       "      <th>P1144S2A1</th>\n",
       "      <th>P1144S2A2</th>\n",
       "      <th>P1144S3</th>\n",
       "      <th>...</th>\n",
       "      <th>P1120S7</th>\n",
       "      <th>P1120S8</th>\n",
       "      <th>P1183S1</th>\n",
       "      <th>P1183S2</th>\n",
       "      <th>P1183S3</th>\n",
       "      <th>P1183S4</th>\n",
       "      <th>P1183S5</th>\n",
       "      <th>P1183S6</th>\n",
       "      <th>P1183S7</th>\n",
       "      <th>F_EXP</th>\n",
       "    </tr>\n",
       "  </thead>\n",
       "  <tbody>\n",
       "    <tr>\n",
       "      <th>0</th>\n",
       "      <td>3</td>\n",
       "      <td>1</td>\n",
       "      <td>1</td>\n",
       "      <td>1.0</td>\n",
       "      <td>8.0</td>\n",
       "      <td>0.0</td>\n",
       "      <td>1.0</td>\n",
       "      <td>1.0</td>\n",
       "      <td>0.0</td>\n",
       "      <td>1.0</td>\n",
       "      <td>...</td>\n",
       "      <td>2</td>\n",
       "      <td>2</td>\n",
       "      <td>2.0</td>\n",
       "      <td>2.0</td>\n",
       "      <td>1.0</td>\n",
       "      <td>1.0</td>\n",
       "      <td>2.0</td>\n",
       "      <td>2.0</td>\n",
       "      <td>2.0</td>\n",
       "      <td>239.883220</td>\n",
       "    </tr>\n",
       "    <tr>\n",
       "      <th>1</th>\n",
       "      <td>3</td>\n",
       "      <td>1</td>\n",
       "      <td>2</td>\n",
       "      <td>1.0</td>\n",
       "      <td>7.0</td>\n",
       "      <td>0.0</td>\n",
       "      <td>1.0</td>\n",
       "      <td>1.0</td>\n",
       "      <td>0.0</td>\n",
       "      <td>1.0</td>\n",
       "      <td>...</td>\n",
       "      <td>2</td>\n",
       "      <td>2</td>\n",
       "      <td>2.0</td>\n",
       "      <td>2.0</td>\n",
       "      <td>2.0</td>\n",
       "      <td>1.0</td>\n",
       "      <td>2.0</td>\n",
       "      <td>2.0</td>\n",
       "      <td>2.0</td>\n",
       "      <td>239.883220</td>\n",
       "    </tr>\n",
       "    <tr>\n",
       "      <th>2</th>\n",
       "      <td>7</td>\n",
       "      <td>1</td>\n",
       "      <td>1</td>\n",
       "      <td>1.0</td>\n",
       "      <td>8.0</td>\n",
       "      <td>30.0</td>\n",
       "      <td>1.0</td>\n",
       "      <td>1.0</td>\n",
       "      <td>0.0</td>\n",
       "      <td>1.0</td>\n",
       "      <td>...</td>\n",
       "      <td>2</td>\n",
       "      <td>2</td>\n",
       "      <td>NaN</td>\n",
       "      <td>NaN</td>\n",
       "      <td>NaN</td>\n",
       "      <td>NaN</td>\n",
       "      <td>NaN</td>\n",
       "      <td>NaN</td>\n",
       "      <td>NaN</td>\n",
       "      <td>274.641682</td>\n",
       "    </tr>\n",
       "    <tr>\n",
       "      <th>3</th>\n",
       "      <td>7</td>\n",
       "      <td>1</td>\n",
       "      <td>2</td>\n",
       "      <td>1.0</td>\n",
       "      <td>9.0</td>\n",
       "      <td>30.0</td>\n",
       "      <td>1.0</td>\n",
       "      <td>1.0</td>\n",
       "      <td>0.0</td>\n",
       "      <td>1.0</td>\n",
       "      <td>...</td>\n",
       "      <td>2</td>\n",
       "      <td>2</td>\n",
       "      <td>NaN</td>\n",
       "      <td>NaN</td>\n",
       "      <td>NaN</td>\n",
       "      <td>NaN</td>\n",
       "      <td>NaN</td>\n",
       "      <td>NaN</td>\n",
       "      <td>NaN</td>\n",
       "      <td>274.641682</td>\n",
       "    </tr>\n",
       "    <tr>\n",
       "      <th>4</th>\n",
       "      <td>7</td>\n",
       "      <td>1</td>\n",
       "      <td>3</td>\n",
       "      <td>1.0</td>\n",
       "      <td>9.0</td>\n",
       "      <td>0.0</td>\n",
       "      <td>1.0</td>\n",
       "      <td>1.0</td>\n",
       "      <td>0.0</td>\n",
       "      <td>1.0</td>\n",
       "      <td>...</td>\n",
       "      <td>2</td>\n",
       "      <td>2</td>\n",
       "      <td>NaN</td>\n",
       "      <td>NaN</td>\n",
       "      <td>NaN</td>\n",
       "      <td>NaN</td>\n",
       "      <td>NaN</td>\n",
       "      <td>NaN</td>\n",
       "      <td>NaN</td>\n",
       "      <td>274.641682</td>\n",
       "    </tr>\n",
       "  </tbody>\n",
       "</table>\n",
       "<p>5 rows × 399 columns</p>\n",
       "</div>"
      ],
      "text/plain": [
       "   DIRECTORIO  SECUENCIA_P  ORDEN  P1144S1  P1144S1A1  P1144S1A2  P1144S2  \\\n",
       "0           3            1      1      1.0        8.0        0.0      1.0   \n",
       "1           3            1      2      1.0        7.0        0.0      1.0   \n",
       "2           7            1      1      1.0        8.0       30.0      1.0   \n",
       "3           7            1      2      1.0        9.0       30.0      1.0   \n",
       "4           7            1      3      1.0        9.0        0.0      1.0   \n",
       "\n",
       "   P1144S2A1  P1144S2A2  P1144S3  ...  P1120S7  P1120S8  P1183S1  P1183S2  \\\n",
       "0        1.0        0.0      1.0  ...        2        2      2.0      2.0   \n",
       "1        1.0        0.0      1.0  ...        2        2      2.0      2.0   \n",
       "2        1.0        0.0      1.0  ...        2        2      NaN      NaN   \n",
       "3        1.0        0.0      1.0  ...        2        2      NaN      NaN   \n",
       "4        1.0        0.0      1.0  ...        2        2      NaN      NaN   \n",
       "\n",
       "   P1183S3  P1183S4  P1183S5  P1183S6  P1183S7       F_EXP  \n",
       "0      1.0      1.0      2.0      2.0      2.0  239.883220  \n",
       "1      2.0      1.0      2.0      2.0      2.0  239.883220  \n",
       "2      NaN      NaN      NaN      NaN      NaN  274.641682  \n",
       "3      NaN      NaN      NaN      NaN      NaN  274.641682  \n",
       "4      NaN      NaN      NaN      NaN      NaN  274.641682  \n",
       "\n",
       "[5 rows x 399 columns]"
      ]
     },
     "execution_count": 14,
     "metadata": {},
     "output_type": "execute_result"
    }
   ],
   "source": [
    "# Cambio de nombre de las columnas para C8  (desabilitado por solución alternativa de solo cambiar el nombre de las columnas utilizadas)\n",
    "\n",
    "# data_c8.columns = pd.read_csv('./data/Nombres_columnas_C8.csv', sep=';', encoding = 'utf-8').columns\n",
    "data_c8.head()"
   ]
  },
  {
   "cell_type": "code",
   "execution_count": 15,
   "id": "b897ea8c",
   "metadata": {},
   "outputs": [],
   "source": [
    "# Se sustituyen los nombres de referencia de las variables por nombres descriptivos con una función\n",
    "\n",
    "variables_c1 = pd.read_csv('./data/Nombres_Variables_C1.csv', sep=',', encoding = 'utf-8')\n",
    "variables_c3 = pd.read_csv('./data/Nombres_Variables_C3.csv', sep=',', encoding = 'utf-8')\n",
    "variables_c8 = pd.read_csv('./data/Nombres_Variables_C8.csv', sep=',', encoding = 'utf-8')\n",
    "\n",
    "def update_df_with_labels(df, mapping_df):\n",
    "    # Itera sobre el mapa buscando \"_valor\"\n",
    "    for col in mapping_df.columns:\n",
    "        if '_valor' in col:\n",
    "            # Saca el nombre de la columna sin '_valor'\n",
    "            original_col = col.replace('_valor', '')\n",
    "            # Revisa si la columna existe en el df original\n",
    "            if original_col in df.columns:\n",
    "                # Crea un mapa con el codigo numerico\n",
    "                # Abandona valores NA\n",
    "                mapping_series = mapping_df.dropna(subset=[original_col, col]).set_index(original_col)[col]\n",
    "                mapping_dict = mapping_series.to_dict()\n",
    "                # Actualiza el df en base al mapa\n",
    "                df[original_col] = df[original_col].map(mapping_dict).fillna(df[original_col])\n",
    "    return df"
   ]
  },
  {
   "cell_type": "code",
   "execution_count": 16,
   "id": "ca9e9863",
   "metadata": {},
   "outputs": [
    {
     "data": {
      "text/html": [
       "<div>\n",
       "<style scoped>\n",
       "    .dataframe tbody tr th:only-of-type {\n",
       "        vertical-align: middle;\n",
       "    }\n",
       "\n",
       "    .dataframe tbody tr th {\n",
       "        vertical-align: top;\n",
       "    }\n",
       "\n",
       "    .dataframe thead th {\n",
       "        text-align: right;\n",
       "    }\n",
       "</style>\n",
       "<table border=\"1\" class=\"dataframe\">\n",
       "  <thead>\n",
       "    <tr style=\"text-align: right;\">\n",
       "      <th></th>\n",
       "      <th>id</th>\n",
       "      <th>tipoVivienda</th>\n",
       "      <th>energiaElectrica</th>\n",
       "      <th>estratoTarifa</th>\n",
       "      <th>acueducto</th>\n",
       "      <th>alcantarillado</th>\n",
       "      <th>recoleccionBasuras</th>\n",
       "      <th>diasSemana</th>\n",
       "      <th>Internet</th>\n",
       "      <th>gasNatural</th>\n",
       "      <th>mes</th>\n",
       "      <th>dia</th>\n",
       "      <th>urbanoORural</th>\n",
       "      <th>region</th>\n",
       "      <th>factorExpansion</th>\n",
       "    </tr>\n",
       "  </thead>\n",
       "  <tbody>\n",
       "    <tr>\n",
       "      <th>0</th>\n",
       "      <td>3</td>\n",
       "      <td>apartamento</td>\n",
       "      <td>si</td>\n",
       "      <td>4</td>\n",
       "      <td>si</td>\n",
       "      <td>si</td>\n",
       "      <td>si</td>\n",
       "      <td>3.0</td>\n",
       "      <td>si</td>\n",
       "      <td>si</td>\n",
       "      <td>9.0</td>\n",
       "      <td>5.0</td>\n",
       "      <td>urbano</td>\n",
       "      <td>central</td>\n",
       "      <td>239.883220</td>\n",
       "    </tr>\n",
       "    <tr>\n",
       "      <th>1</th>\n",
       "      <td>7</td>\n",
       "      <td>casa</td>\n",
       "      <td>si</td>\n",
       "      <td>2</td>\n",
       "      <td>si</td>\n",
       "      <td>si</td>\n",
       "      <td>si</td>\n",
       "      <td>3.0</td>\n",
       "      <td>si</td>\n",
       "      <td>si</td>\n",
       "      <td>9.0</td>\n",
       "      <td>6.0</td>\n",
       "      <td>rural</td>\n",
       "      <td>central</td>\n",
       "      <td>274.641682</td>\n",
       "    </tr>\n",
       "    <tr>\n",
       "      <th>2</th>\n",
       "      <td>11</td>\n",
       "      <td>apartamento</td>\n",
       "      <td>si</td>\n",
       "      <td>2</td>\n",
       "      <td>si</td>\n",
       "      <td>si</td>\n",
       "      <td>si</td>\n",
       "      <td>2.0</td>\n",
       "      <td>si</td>\n",
       "      <td>si</td>\n",
       "      <td>9.0</td>\n",
       "      <td>4.0</td>\n",
       "      <td>rural</td>\n",
       "      <td>central</td>\n",
       "      <td>478.663999</td>\n",
       "    </tr>\n",
       "    <tr>\n",
       "      <th>3</th>\n",
       "      <td>14</td>\n",
       "      <td>casa</td>\n",
       "      <td>si</td>\n",
       "      <td>1</td>\n",
       "      <td>si</td>\n",
       "      <td>si</td>\n",
       "      <td>no</td>\n",
       "      <td>NaN</td>\n",
       "      <td>no</td>\n",
       "      <td>si</td>\n",
       "      <td>9.0</td>\n",
       "      <td>6.0</td>\n",
       "      <td>urbano</td>\n",
       "      <td>caribe</td>\n",
       "      <td>124.680583</td>\n",
       "    </tr>\n",
       "    <tr>\n",
       "      <th>4</th>\n",
       "      <td>17</td>\n",
       "      <td>casa</td>\n",
       "      <td>si</td>\n",
       "      <td>2</td>\n",
       "      <td>si</td>\n",
       "      <td>si</td>\n",
       "      <td>si</td>\n",
       "      <td>3.0</td>\n",
       "      <td>si</td>\n",
       "      <td>si</td>\n",
       "      <td>9.0</td>\n",
       "      <td>6.0</td>\n",
       "      <td>urbano</td>\n",
       "      <td>caribe</td>\n",
       "      <td>184.098370</td>\n",
       "    </tr>\n",
       "  </tbody>\n",
       "</table>\n",
       "</div>"
      ],
      "text/plain": [
       "   id tipoVivienda energiaElectrica  estratoTarifa acueducto alcantarillado  \\\n",
       "0   3  apartamento               si              4        si             si   \n",
       "1   7         casa               si              2        si             si   \n",
       "2  11  apartamento               si              2        si             si   \n",
       "3  14         casa               si              1        si             si   \n",
       "4  17         casa               si              2        si             si   \n",
       "\n",
       "  recoleccionBasuras  diasSemana Internet gasNatural  mes  dia urbanoORural  \\\n",
       "0                 si         3.0       si         si  9.0  5.0       urbano   \n",
       "1                 si         3.0       si         si  9.0  6.0        rural   \n",
       "2                 si         2.0       si         si  9.0  4.0        rural   \n",
       "3                 no         NaN       no         si  9.0  6.0       urbano   \n",
       "4                 si         3.0       si         si  9.0  6.0       urbano   \n",
       "\n",
       "    region  factorExpansion  \n",
       "0  central       239.883220  \n",
       "1  central       274.641682  \n",
       "2  central       478.663999  \n",
       "3   caribe       124.680583  \n",
       "4   caribe       184.098370  "
      ]
     },
     "execution_count": 16,
     "metadata": {},
     "output_type": "execute_result"
    }
   ],
   "source": [
    "# Se cambia el nombre de los valores para C1 usando la función update_df_with_labels\n",
    "data_c1 = update_df_with_labels(data_c1, variables_c1)\n",
    "\n",
    "# Se asegura de que id es un número entero\n",
    "data_c1['id'] = data_c1['id'].astype(int)\n",
    "\n",
    "# Se asegura de que estratoTarifa es un número entero\n",
    "data_c1['estratoTarifa'] = data_c1['estratoTarifa'].astype(float).fillna(0).astype(int)\n",
    "\n",
    "data_c1.head()"
   ]
  },
  {
   "cell_type": "code",
   "execution_count": 17,
   "id": "6584c704",
   "metadata": {},
   "outputs": [
    {
     "data": {
      "text/html": [
       "<div>\n",
       "<style scoped>\n",
       "    .dataframe tbody tr th:only-of-type {\n",
       "        vertical-align: middle;\n",
       "    }\n",
       "\n",
       "    .dataframe tbody tr th {\n",
       "        vertical-align: top;\n",
       "    }\n",
       "\n",
       "    .dataframe thead th {\n",
       "        text-align: right;\n",
       "    }\n",
       "</style>\n",
       "<table border=\"1\" class=\"dataframe\">\n",
       "  <thead>\n",
       "    <tr style=\"text-align: right;\">\n",
       "      <th></th>\n",
       "      <th>id</th>\n",
       "      <th>secuenciaP</th>\n",
       "      <th>orden</th>\n",
       "      <th>edad</th>\n",
       "      <th>sexo</th>\n",
       "      <th>parentescoJefatura</th>\n",
       "      <th>comparteJefatura</th>\n",
       "      <th>cuantas</th>\n",
       "      <th>numOrden</th>\n",
       "      <th>numOrden.1</th>\n",
       "      <th>...</th>\n",
       "      <th>cuantasPersonas.1</th>\n",
       "      <th>numOrden.10</th>\n",
       "      <th>numOrden.11</th>\n",
       "      <th>numOrden.12</th>\n",
       "      <th>decisionesVenta</th>\n",
       "      <th>cuantasPersonas.2</th>\n",
       "      <th>numOrden.13</th>\n",
       "      <th>numOrden.14</th>\n",
       "      <th>numOrden.15</th>\n",
       "      <th>factorExpansion</th>\n",
       "    </tr>\n",
       "  </thead>\n",
       "  <tbody>\n",
       "    <tr>\n",
       "      <th>0</th>\n",
       "      <td>3</td>\n",
       "      <td>1.0</td>\n",
       "      <td>1.0</td>\n",
       "      <td>76.0</td>\n",
       "      <td>hombre</td>\n",
       "      <td>jefe/a del hogar</td>\n",
       "      <td>si</td>\n",
       "      <td>1.0</td>\n",
       "      <td>2.0</td>\n",
       "      <td>NaN</td>\n",
       "      <td>...</td>\n",
       "      <td>NaN</td>\n",
       "      <td>NaN</td>\n",
       "      <td>NaN</td>\n",
       "      <td>NaN</td>\n",
       "      <td>NaN</td>\n",
       "      <td>NaN</td>\n",
       "      <td>NaN</td>\n",
       "      <td>NaN</td>\n",
       "      <td>NaN</td>\n",
       "      <td>239.883220</td>\n",
       "    </tr>\n",
       "    <tr>\n",
       "      <th>1</th>\n",
       "      <td>3</td>\n",
       "      <td>1.0</td>\n",
       "      <td>2.0</td>\n",
       "      <td>69.0</td>\n",
       "      <td>mujer</td>\n",
       "      <td>esposo/a o companero/a</td>\n",
       "      <td>NaN</td>\n",
       "      <td>NaN</td>\n",
       "      <td>NaN</td>\n",
       "      <td>NaN</td>\n",
       "      <td>...</td>\n",
       "      <td>NaN</td>\n",
       "      <td>NaN</td>\n",
       "      <td>NaN</td>\n",
       "      <td>NaN</td>\n",
       "      <td>NaN</td>\n",
       "      <td>NaN</td>\n",
       "      <td>NaN</td>\n",
       "      <td>NaN</td>\n",
       "      <td>NaN</td>\n",
       "      <td>239.883220</td>\n",
       "    </tr>\n",
       "    <tr>\n",
       "      <th>2</th>\n",
       "      <td>7</td>\n",
       "      <td>1.0</td>\n",
       "      <td>1.0</td>\n",
       "      <td>56.0</td>\n",
       "      <td>mujer</td>\n",
       "      <td>jefe/a del hogar</td>\n",
       "      <td>no</td>\n",
       "      <td>NaN</td>\n",
       "      <td>NaN</td>\n",
       "      <td>NaN</td>\n",
       "      <td>...</td>\n",
       "      <td>NaN</td>\n",
       "      <td>NaN</td>\n",
       "      <td>NaN</td>\n",
       "      <td>NaN</td>\n",
       "      <td>no</td>\n",
       "      <td>NaN</td>\n",
       "      <td>NaN</td>\n",
       "      <td>NaN</td>\n",
       "      <td>NaN</td>\n",
       "      <td>274.641682</td>\n",
       "    </tr>\n",
       "    <tr>\n",
       "      <th>3</th>\n",
       "      <td>7</td>\n",
       "      <td>1.0</td>\n",
       "      <td>2.0</td>\n",
       "      <td>22.0</td>\n",
       "      <td>hombre</td>\n",
       "      <td>hijo/a, hijastro/a</td>\n",
       "      <td>NaN</td>\n",
       "      <td>NaN</td>\n",
       "      <td>NaN</td>\n",
       "      <td>NaN</td>\n",
       "      <td>...</td>\n",
       "      <td>NaN</td>\n",
       "      <td>NaN</td>\n",
       "      <td>NaN</td>\n",
       "      <td>NaN</td>\n",
       "      <td>NaN</td>\n",
       "      <td>NaN</td>\n",
       "      <td>NaN</td>\n",
       "      <td>NaN</td>\n",
       "      <td>NaN</td>\n",
       "      <td>274.641682</td>\n",
       "    </tr>\n",
       "    <tr>\n",
       "      <th>4</th>\n",
       "      <td>7</td>\n",
       "      <td>1.0</td>\n",
       "      <td>3.0</td>\n",
       "      <td>31.0</td>\n",
       "      <td>hombre</td>\n",
       "      <td>hijo/a, hijastro/a</td>\n",
       "      <td>NaN</td>\n",
       "      <td>NaN</td>\n",
       "      <td>NaN</td>\n",
       "      <td>NaN</td>\n",
       "      <td>...</td>\n",
       "      <td>NaN</td>\n",
       "      <td>NaN</td>\n",
       "      <td>NaN</td>\n",
       "      <td>NaN</td>\n",
       "      <td>NaN</td>\n",
       "      <td>NaN</td>\n",
       "      <td>NaN</td>\n",
       "      <td>NaN</td>\n",
       "      <td>NaN</td>\n",
       "      <td>274.641682</td>\n",
       "    </tr>\n",
       "  </tbody>\n",
       "</table>\n",
       "<p>5 rows × 40 columns</p>\n",
       "</div>"
      ],
      "text/plain": [
       "   id  secuenciaP  orden  edad    sexo      parentescoJefatura  \\\n",
       "0   3         1.0    1.0  76.0  hombre        jefe/a del hogar   \n",
       "1   3         1.0    2.0  69.0   mujer  esposo/a o companero/a   \n",
       "2   7         1.0    1.0  56.0   mujer        jefe/a del hogar   \n",
       "3   7         1.0    2.0  22.0  hombre      hijo/a, hijastro/a   \n",
       "4   7         1.0    3.0  31.0  hombre      hijo/a, hijastro/a   \n",
       "\n",
       "  comparteJefatura  cuantas  numOrden  numOrden.1  ...  cuantasPersonas.1  \\\n",
       "0               si      1.0       2.0         NaN  ...                NaN   \n",
       "1              NaN      NaN       NaN         NaN  ...                NaN   \n",
       "2               no      NaN       NaN         NaN  ...                NaN   \n",
       "3              NaN      NaN       NaN         NaN  ...                NaN   \n",
       "4              NaN      NaN       NaN         NaN  ...                NaN   \n",
       "\n",
       "  numOrden.10 numOrden.11 numOrden.12 decisionesVenta cuantasPersonas.2  \\\n",
       "0         NaN         NaN         NaN             NaN               NaN   \n",
       "1         NaN         NaN         NaN             NaN               NaN   \n",
       "2         NaN         NaN         NaN              no               NaN   \n",
       "3         NaN         NaN         NaN             NaN               NaN   \n",
       "4         NaN         NaN         NaN             NaN               NaN   \n",
       "\n",
       "  numOrden.13  numOrden.14 numOrden.15  factorExpansion  \n",
       "0         NaN          NaN         NaN       239.883220  \n",
       "1         NaN          NaN         NaN       239.883220  \n",
       "2         NaN          NaN         NaN       274.641682  \n",
       "3         NaN          NaN         NaN       274.641682  \n",
       "4         NaN          NaN         NaN       274.641682  \n",
       "\n",
       "[5 rows x 40 columns]"
      ]
     },
     "execution_count": 17,
     "metadata": {},
     "output_type": "execute_result"
    }
   ],
   "source": [
    "# Se cambia el nombre de los valores para C3 usando la función update_df_with_labels\n",
    "data_c3 = update_df_with_labels(data_c3, variables_c3)\n",
    "\n",
    "# Se asegura de que id es un número entero\n",
    "data_c3['id'] = data_c3['id'].astype(int)\n",
    "\n",
    "data_c3.head()"
   ]
  },
  {
   "cell_type": "code",
   "execution_count": 18,
   "id": "816f6dc5",
   "metadata": {},
   "outputs": [
    {
     "data": {
      "text/html": [
       "<div>\n",
       "<style scoped>\n",
       "    .dataframe tbody tr th:only-of-type {\n",
       "        vertical-align: middle;\n",
       "    }\n",
       "\n",
       "    .dataframe tbody tr th {\n",
       "        vertical-align: top;\n",
       "    }\n",
       "\n",
       "    .dataframe thead th {\n",
       "        text-align: right;\n",
       "    }\n",
       "</style>\n",
       "<table border=\"1\" class=\"dataframe\">\n",
       "  <thead>\n",
       "    <tr style=\"text-align: right;\">\n",
       "      <th></th>\n",
       "      <th>DIRECTORIO</th>\n",
       "      <th>SECUENCIA_P</th>\n",
       "      <th>ORDEN</th>\n",
       "      <th>P1144S1</th>\n",
       "      <th>P1144S1A1</th>\n",
       "      <th>P1144S1A2</th>\n",
       "      <th>P1144S2</th>\n",
       "      <th>P1144S2A1</th>\n",
       "      <th>P1144S2A2</th>\n",
       "      <th>P1144S3</th>\n",
       "      <th>...</th>\n",
       "      <th>P1120S7</th>\n",
       "      <th>P1120S8</th>\n",
       "      <th>P1183S1</th>\n",
       "      <th>P1183S2</th>\n",
       "      <th>P1183S3</th>\n",
       "      <th>P1183S4</th>\n",
       "      <th>P1183S5</th>\n",
       "      <th>P1183S6</th>\n",
       "      <th>P1183S7</th>\n",
       "      <th>F_EXP</th>\n",
       "    </tr>\n",
       "  </thead>\n",
       "  <tbody>\n",
       "    <tr>\n",
       "      <th>0</th>\n",
       "      <td>3</td>\n",
       "      <td>1</td>\n",
       "      <td>1</td>\n",
       "      <td>1.0</td>\n",
       "      <td>8.0</td>\n",
       "      <td>0.0</td>\n",
       "      <td>1.0</td>\n",
       "      <td>1.0</td>\n",
       "      <td>0.0</td>\n",
       "      <td>1.0</td>\n",
       "      <td>...</td>\n",
       "      <td>2</td>\n",
       "      <td>2</td>\n",
       "      <td>2.0</td>\n",
       "      <td>2.0</td>\n",
       "      <td>1.0</td>\n",
       "      <td>1.0</td>\n",
       "      <td>2.0</td>\n",
       "      <td>2.0</td>\n",
       "      <td>2.0</td>\n",
       "      <td>239.883220</td>\n",
       "    </tr>\n",
       "    <tr>\n",
       "      <th>1</th>\n",
       "      <td>3</td>\n",
       "      <td>1</td>\n",
       "      <td>2</td>\n",
       "      <td>1.0</td>\n",
       "      <td>7.0</td>\n",
       "      <td>0.0</td>\n",
       "      <td>1.0</td>\n",
       "      <td>1.0</td>\n",
       "      <td>0.0</td>\n",
       "      <td>1.0</td>\n",
       "      <td>...</td>\n",
       "      <td>2</td>\n",
       "      <td>2</td>\n",
       "      <td>2.0</td>\n",
       "      <td>2.0</td>\n",
       "      <td>2.0</td>\n",
       "      <td>1.0</td>\n",
       "      <td>2.0</td>\n",
       "      <td>2.0</td>\n",
       "      <td>2.0</td>\n",
       "      <td>239.883220</td>\n",
       "    </tr>\n",
       "    <tr>\n",
       "      <th>2</th>\n",
       "      <td>7</td>\n",
       "      <td>1</td>\n",
       "      <td>1</td>\n",
       "      <td>1.0</td>\n",
       "      <td>8.0</td>\n",
       "      <td>30.0</td>\n",
       "      <td>1.0</td>\n",
       "      <td>1.0</td>\n",
       "      <td>0.0</td>\n",
       "      <td>1.0</td>\n",
       "      <td>...</td>\n",
       "      <td>2</td>\n",
       "      <td>2</td>\n",
       "      <td>NaN</td>\n",
       "      <td>NaN</td>\n",
       "      <td>NaN</td>\n",
       "      <td>NaN</td>\n",
       "      <td>NaN</td>\n",
       "      <td>NaN</td>\n",
       "      <td>NaN</td>\n",
       "      <td>274.641682</td>\n",
       "    </tr>\n",
       "    <tr>\n",
       "      <th>3</th>\n",
       "      <td>7</td>\n",
       "      <td>1</td>\n",
       "      <td>2</td>\n",
       "      <td>1.0</td>\n",
       "      <td>9.0</td>\n",
       "      <td>30.0</td>\n",
       "      <td>1.0</td>\n",
       "      <td>1.0</td>\n",
       "      <td>0.0</td>\n",
       "      <td>1.0</td>\n",
       "      <td>...</td>\n",
       "      <td>2</td>\n",
       "      <td>2</td>\n",
       "      <td>NaN</td>\n",
       "      <td>NaN</td>\n",
       "      <td>NaN</td>\n",
       "      <td>NaN</td>\n",
       "      <td>NaN</td>\n",
       "      <td>NaN</td>\n",
       "      <td>NaN</td>\n",
       "      <td>274.641682</td>\n",
       "    </tr>\n",
       "    <tr>\n",
       "      <th>4</th>\n",
       "      <td>7</td>\n",
       "      <td>1</td>\n",
       "      <td>3</td>\n",
       "      <td>1.0</td>\n",
       "      <td>9.0</td>\n",
       "      <td>0.0</td>\n",
       "      <td>1.0</td>\n",
       "      <td>1.0</td>\n",
       "      <td>0.0</td>\n",
       "      <td>1.0</td>\n",
       "      <td>...</td>\n",
       "      <td>2</td>\n",
       "      <td>2</td>\n",
       "      <td>NaN</td>\n",
       "      <td>NaN</td>\n",
       "      <td>NaN</td>\n",
       "      <td>NaN</td>\n",
       "      <td>NaN</td>\n",
       "      <td>NaN</td>\n",
       "      <td>NaN</td>\n",
       "      <td>274.641682</td>\n",
       "    </tr>\n",
       "  </tbody>\n",
       "</table>\n",
       "<p>5 rows × 399 columns</p>\n",
       "</div>"
      ],
      "text/plain": [
       "   DIRECTORIO  SECUENCIA_P  ORDEN  P1144S1  P1144S1A1  P1144S1A2  P1144S2  \\\n",
       "0           3            1      1      1.0        8.0        0.0      1.0   \n",
       "1           3            1      2      1.0        7.0        0.0      1.0   \n",
       "2           7            1      1      1.0        8.0       30.0      1.0   \n",
       "3           7            1      2      1.0        9.0       30.0      1.0   \n",
       "4           7            1      3      1.0        9.0        0.0      1.0   \n",
       "\n",
       "   P1144S2A1  P1144S2A2  P1144S3  ...  P1120S7  P1120S8  P1183S1  P1183S2  \\\n",
       "0        1.0        0.0      1.0  ...        2        2      2.0      2.0   \n",
       "1        1.0        0.0      1.0  ...        2        2      2.0      2.0   \n",
       "2        1.0        0.0      1.0  ...        2        2      NaN      NaN   \n",
       "3        1.0        0.0      1.0  ...        2        2      NaN      NaN   \n",
       "4        1.0        0.0      1.0  ...        2        2      NaN      NaN   \n",
       "\n",
       "   P1183S3  P1183S4  P1183S5  P1183S6  P1183S7       F_EXP  \n",
       "0      1.0      1.0      2.0      2.0      2.0  239.883220  \n",
       "1      2.0      1.0      2.0      2.0      2.0  239.883220  \n",
       "2      NaN      NaN      NaN      NaN      NaN  274.641682  \n",
       "3      NaN      NaN      NaN      NaN      NaN  274.641682  \n",
       "4      NaN      NaN      NaN      NaN      NaN  274.641682  \n",
       "\n",
       "[5 rows x 399 columns]"
      ]
     },
     "execution_count": 18,
     "metadata": {},
     "output_type": "execute_result"
    }
   ],
   "source": [
    "# Se cambia el nombre de los valores para C8 usando la función update_df_with_labels\n",
    "data_c8 = update_df_with_labels(data_c8, variables_c8)\n",
    "\n",
    "# Se asegura de que id es un número entero\n",
    "data_c8['DIRECTORIO'] = data_c8['DIRECTORIO'].astype(int)\n",
    "\n",
    "data_c8.head()"
   ]
  },
  {
   "cell_type": "markdown",
   "id": "26e4b54c",
   "metadata": {},
   "source": [
    "### 2.2 Eliminación de respuestas erróneas"
   ]
  },
  {
   "cell_type": "markdown",
   "id": "ccc70cbb",
   "metadata": {},
   "source": [
    "La única pregunta de interés que parece tener respuestas fuera del rango permitido es la de estratoTarifa, puesto que solo existen los estratos 1-6, pero hay algunas respuestas que se salen de este rango. "
   ]
  },
  {
   "cell_type": "code",
   "execution_count": 19,
   "id": "d9df6ab0",
   "metadata": {},
   "outputs": [
    {
     "data": {
      "text/plain": [
       "1    17937\n",
       "2    16028\n",
       "3     9546\n",
       "4     3015\n",
       "5     1216\n",
       "6      673\n",
       "0      454\n",
       "8      127\n",
       "9       55\n",
       "Name: estratoTarifa, dtype: int64"
      ]
     },
     "execution_count": 19,
     "metadata": {},
     "output_type": "execute_result"
    }
   ],
   "source": [
    "# Se validan los valores incorrectos que existen\n",
    "\n",
    "data_c1['estratoTarifa'].value_counts()"
   ]
  },
  {
   "cell_type": "code",
   "execution_count": 20,
   "id": "0bd8e8f3",
   "metadata": {},
   "outputs": [
    {
     "data": {
      "text/plain": [
       "1          17937\n",
       "2          16028\n",
       "3           9546\n",
       "4           3015\n",
       "5           1216\n",
       "6            673\n",
       "No sabe      636\n",
       "Name: estratoTarifa, dtype: int64"
      ]
     },
     "execution_count": 20,
     "metadata": {},
     "output_type": "execute_result"
    }
   ],
   "source": [
    "# Ya que los valores incorrectos son pocos, se procede a ponerles el rótulo \"No sabe\"\n",
    "\n",
    "data_c1['estratoTarifa'] = data_c1['estratoTarifa'].replace([8, 9, 0], 'No sabe')\n",
    "\n",
    "data_c1['estratoTarifa'].value_counts()"
   ]
  },
  {
   "cell_type": "markdown",
   "id": "8a28fc3f",
   "metadata": {},
   "source": [
    "### 2.3 Transformación de variable númerica a categórica"
   ]
  },
  {
   "cell_type": "code",
   "execution_count": 21,
   "id": "95af13e1",
   "metadata": {},
   "outputs": [
    {
     "name": "stderr",
     "output_type": "stream",
     "text": [
      "/var/folders/1j/4kvsqhq928q8fqfzs522_snm0000gq/T/ipykernel_41819/4137340599.py:16: SettingWithCopyWarning: \n",
      "A value is trying to be set on a copy of a slice from a DataFrame\n",
      "\n",
      "See the caveats in the documentation: https://pandas.pydata.org/pandas-docs/stable/user_guide/indexing.html#returning-a-view-versus-a-copy\n",
      "  data_c3['edad'][i] = '61-80'\n",
      "/Users/palito/opt/anaconda3/lib/python3.9/site-packages/pandas/core/indexing.py:1732: SettingWithCopyWarning: \n",
      "A value is trying to be set on a copy of a slice from a DataFrame\n",
      "\n",
      "See the caveats in the documentation: https://pandas.pydata.org/pandas-docs/stable/user_guide/indexing.html#returning-a-view-versus-a-copy\n",
      "  self._setitem_single_block(indexer, value, name)\n"
     ]
    },
    {
     "data": {
      "text/plain": [
       "31-60    57344\n",
       "19-30    28103\n",
       "61-80    18795\n",
       "12-18    15656\n",
       "6-11     13449\n",
       "0-5      11316\n",
       "81+       2916\n",
       "Name: edad, dtype: int64"
      ]
     },
     "execution_count": 21,
     "metadata": {},
     "output_type": "execute_result"
    }
   ],
   "source": [
    "# Se crean rangos etarios para poder transformar la variable númerica edad en categorias manejables\n",
    "\n",
    "for i in range(len(data_c3)):\n",
    "\n",
    "    if data_c3['edad'][i] <= 5:\n",
    "        data_c3['edad'][i] = '0-5'\n",
    "    elif data_c3['edad'][i] <= 11:\n",
    "        data_c3['edad'][i] = '6-11'\n",
    "    elif data_c3['edad'][i] <= 18:\n",
    "        data_c3['edad'][i] = '12-18'\n",
    "    elif data_c3['edad'][i] <= 30:\n",
    "        data_c3['edad'][i] = '19-30'\n",
    "    elif data_c3['edad'][i] <= 60:\n",
    "        data_c3['edad'][i] = '31-60'\n",
    "    elif data_c3['edad'][i] <= 80:\n",
    "        data_c3['edad'][i] = '61-80'\n",
    "    else:\n",
    "        data_c3['edad'][i] = '81+'\n",
    "\n",
    "data_c3['edad'].value_counts()"
   ]
  },
  {
   "cell_type": "markdown",
   "id": "72d02215",
   "metadata": {},
   "source": [
    "### 2.4 Creación de dataframe con las preguntas relevantes para el proyecto"
   ]
  },
  {
   "cell_type": "code",
   "execution_count": 22,
   "id": "92bf40cb",
   "metadata": {},
   "outputs": [
    {
     "data": {
      "text/html": [
       "<div>\n",
       "<style scoped>\n",
       "    .dataframe tbody tr th:only-of-type {\n",
       "        vertical-align: middle;\n",
       "    }\n",
       "\n",
       "    .dataframe tbody tr th {\n",
       "        vertical-align: top;\n",
       "    }\n",
       "\n",
       "    .dataframe thead th {\n",
       "        text-align: right;\n",
       "    }\n",
       "</style>\n",
       "<table border=\"1\" class=\"dataframe\">\n",
       "  <thead>\n",
       "    <tr style=\"text-align: right;\">\n",
       "      <th></th>\n",
       "      <th>DIRECTORIO</th>\n",
       "      <th>ORDEN</th>\n",
       "      <th>P1144S1A1</th>\n",
       "      <th>P1144S1A2</th>\n",
       "      <th>P1144S6A1</th>\n",
       "      <th>P1144S6A2</th>\n",
       "      <th>P1112S1A1</th>\n",
       "      <th>P1112S1A2</th>\n",
       "      <th>P1112S2A1</th>\n",
       "      <th>P1112S2A2</th>\n",
       "      <th>...</th>\n",
       "      <th>P1126S1A2</th>\n",
       "      <th>P1126S2A1</th>\n",
       "      <th>P1126S2A2</th>\n",
       "      <th>P1137S1A1</th>\n",
       "      <th>P1137S1A2</th>\n",
       "      <th>P1137S2A1</th>\n",
       "      <th>P1137S2A2</th>\n",
       "      <th>P1137S3A1</th>\n",
       "      <th>P1137S3A2</th>\n",
       "      <th>P1108</th>\n",
       "    </tr>\n",
       "  </thead>\n",
       "  <tbody>\n",
       "    <tr>\n",
       "      <th>0</th>\n",
       "      <td>3</td>\n",
       "      <td>1</td>\n",
       "      <td>8.0</td>\n",
       "      <td>0.0</td>\n",
       "      <td>NaN</td>\n",
       "      <td>NaN</td>\n",
       "      <td>NaN</td>\n",
       "      <td>NaN</td>\n",
       "      <td>NaN</td>\n",
       "      <td>NaN</td>\n",
       "      <td>...</td>\n",
       "      <td>NaN</td>\n",
       "      <td>NaN</td>\n",
       "      <td>NaN</td>\n",
       "      <td>NaN</td>\n",
       "      <td>NaN</td>\n",
       "      <td>NaN</td>\n",
       "      <td>NaN</td>\n",
       "      <td>NaN</td>\n",
       "      <td>NaN</td>\n",
       "      <td>2</td>\n",
       "    </tr>\n",
       "    <tr>\n",
       "      <th>1</th>\n",
       "      <td>3</td>\n",
       "      <td>2</td>\n",
       "      <td>7.0</td>\n",
       "      <td>0.0</td>\n",
       "      <td>NaN</td>\n",
       "      <td>NaN</td>\n",
       "      <td>NaN</td>\n",
       "      <td>NaN</td>\n",
       "      <td>NaN</td>\n",
       "      <td>NaN</td>\n",
       "      <td>...</td>\n",
       "      <td>NaN</td>\n",
       "      <td>NaN</td>\n",
       "      <td>NaN</td>\n",
       "      <td>NaN</td>\n",
       "      <td>NaN</td>\n",
       "      <td>NaN</td>\n",
       "      <td>NaN</td>\n",
       "      <td>NaN</td>\n",
       "      <td>NaN</td>\n",
       "      <td>1</td>\n",
       "    </tr>\n",
       "    <tr>\n",
       "      <th>2</th>\n",
       "      <td>7</td>\n",
       "      <td>1</td>\n",
       "      <td>8.0</td>\n",
       "      <td>30.0</td>\n",
       "      <td>NaN</td>\n",
       "      <td>NaN</td>\n",
       "      <td>NaN</td>\n",
       "      <td>NaN</td>\n",
       "      <td>NaN</td>\n",
       "      <td>NaN</td>\n",
       "      <td>...</td>\n",
       "      <td>NaN</td>\n",
       "      <td>NaN</td>\n",
       "      <td>NaN</td>\n",
       "      <td>NaN</td>\n",
       "      <td>NaN</td>\n",
       "      <td>NaN</td>\n",
       "      <td>NaN</td>\n",
       "      <td>NaN</td>\n",
       "      <td>NaN</td>\n",
       "      <td>2</td>\n",
       "    </tr>\n",
       "    <tr>\n",
       "      <th>3</th>\n",
       "      <td>7</td>\n",
       "      <td>2</td>\n",
       "      <td>9.0</td>\n",
       "      <td>30.0</td>\n",
       "      <td>9.0</td>\n",
       "      <td>0.0</td>\n",
       "      <td>NaN</td>\n",
       "      <td>NaN</td>\n",
       "      <td>NaN</td>\n",
       "      <td>NaN</td>\n",
       "      <td>...</td>\n",
       "      <td>NaN</td>\n",
       "      <td>NaN</td>\n",
       "      <td>NaN</td>\n",
       "      <td>NaN</td>\n",
       "      <td>NaN</td>\n",
       "      <td>NaN</td>\n",
       "      <td>NaN</td>\n",
       "      <td>NaN</td>\n",
       "      <td>NaN</td>\n",
       "      <td>2</td>\n",
       "    </tr>\n",
       "    <tr>\n",
       "      <th>4</th>\n",
       "      <td>7</td>\n",
       "      <td>3</td>\n",
       "      <td>9.0</td>\n",
       "      <td>0.0</td>\n",
       "      <td>NaN</td>\n",
       "      <td>NaN</td>\n",
       "      <td>NaN</td>\n",
       "      <td>NaN</td>\n",
       "      <td>NaN</td>\n",
       "      <td>NaN</td>\n",
       "      <td>...</td>\n",
       "      <td>NaN</td>\n",
       "      <td>NaN</td>\n",
       "      <td>NaN</td>\n",
       "      <td>NaN</td>\n",
       "      <td>NaN</td>\n",
       "      <td>NaN</td>\n",
       "      <td>NaN</td>\n",
       "      <td>NaN</td>\n",
       "      <td>NaN</td>\n",
       "      <td>2</td>\n",
       "    </tr>\n",
       "    <tr>\n",
       "      <th>...</th>\n",
       "      <td>...</td>\n",
       "      <td>...</td>\n",
       "      <td>...</td>\n",
       "      <td>...</td>\n",
       "      <td>...</td>\n",
       "      <td>...</td>\n",
       "      <td>...</td>\n",
       "      <td>...</td>\n",
       "      <td>...</td>\n",
       "      <td>...</td>\n",
       "      <td>...</td>\n",
       "      <td>...</td>\n",
       "      <td>...</td>\n",
       "      <td>...</td>\n",
       "      <td>...</td>\n",
       "      <td>...</td>\n",
       "      <td>...</td>\n",
       "      <td>...</td>\n",
       "      <td>...</td>\n",
       "      <td>...</td>\n",
       "      <td>...</td>\n",
       "    </tr>\n",
       "    <tr>\n",
       "      <th>126748</th>\n",
       "      <td>73884</td>\n",
       "      <td>2</td>\n",
       "      <td>9.0</td>\n",
       "      <td>0.0</td>\n",
       "      <td>NaN</td>\n",
       "      <td>NaN</td>\n",
       "      <td>2.0</td>\n",
       "      <td>0.0</td>\n",
       "      <td>NaN</td>\n",
       "      <td>NaN</td>\n",
       "      <td>...</td>\n",
       "      <td>NaN</td>\n",
       "      <td>NaN</td>\n",
       "      <td>NaN</td>\n",
       "      <td>NaN</td>\n",
       "      <td>NaN</td>\n",
       "      <td>NaN</td>\n",
       "      <td>NaN</td>\n",
       "      <td>NaN</td>\n",
       "      <td>NaN</td>\n",
       "      <td>2</td>\n",
       "    </tr>\n",
       "    <tr>\n",
       "      <th>126749</th>\n",
       "      <td>73884</td>\n",
       "      <td>3</td>\n",
       "      <td>8.0</td>\n",
       "      <td>0.0</td>\n",
       "      <td>NaN</td>\n",
       "      <td>NaN</td>\n",
       "      <td>NaN</td>\n",
       "      <td>NaN</td>\n",
       "      <td>NaN</td>\n",
       "      <td>NaN</td>\n",
       "      <td>...</td>\n",
       "      <td>NaN</td>\n",
       "      <td>NaN</td>\n",
       "      <td>NaN</td>\n",
       "      <td>1.0</td>\n",
       "      <td>0.0</td>\n",
       "      <td>0.0</td>\n",
       "      <td>20.0</td>\n",
       "      <td>NaN</td>\n",
       "      <td>NaN</td>\n",
       "      <td>2</td>\n",
       "    </tr>\n",
       "    <tr>\n",
       "      <th>126750</th>\n",
       "      <td>73884</td>\n",
       "      <td>4</td>\n",
       "      <td>7.0</td>\n",
       "      <td>0.0</td>\n",
       "      <td>NaN</td>\n",
       "      <td>NaN</td>\n",
       "      <td>2.0</td>\n",
       "      <td>0.0</td>\n",
       "      <td>NaN</td>\n",
       "      <td>NaN</td>\n",
       "      <td>...</td>\n",
       "      <td>NaN</td>\n",
       "      <td>NaN</td>\n",
       "      <td>NaN</td>\n",
       "      <td>NaN</td>\n",
       "      <td>NaN</td>\n",
       "      <td>NaN</td>\n",
       "      <td>NaN</td>\n",
       "      <td>NaN</td>\n",
       "      <td>NaN</td>\n",
       "      <td>2</td>\n",
       "    </tr>\n",
       "    <tr>\n",
       "      <th>126751</th>\n",
       "      <td>73884</td>\n",
       "      <td>6</td>\n",
       "      <td>9.0</td>\n",
       "      <td>0.0</td>\n",
       "      <td>NaN</td>\n",
       "      <td>NaN</td>\n",
       "      <td>NaN</td>\n",
       "      <td>NaN</td>\n",
       "      <td>NaN</td>\n",
       "      <td>NaN</td>\n",
       "      <td>...</td>\n",
       "      <td>NaN</td>\n",
       "      <td>NaN</td>\n",
       "      <td>NaN</td>\n",
       "      <td>3.0</td>\n",
       "      <td>0.0</td>\n",
       "      <td>0.0</td>\n",
       "      <td>20.0</td>\n",
       "      <td>NaN</td>\n",
       "      <td>NaN</td>\n",
       "      <td>2</td>\n",
       "    </tr>\n",
       "    <tr>\n",
       "      <th>126752</th>\n",
       "      <td>73884</td>\n",
       "      <td>8</td>\n",
       "      <td>8.0</td>\n",
       "      <td>30.0</td>\n",
       "      <td>NaN</td>\n",
       "      <td>NaN</td>\n",
       "      <td>2.0</td>\n",
       "      <td>0.0</td>\n",
       "      <td>NaN</td>\n",
       "      <td>NaN</td>\n",
       "      <td>...</td>\n",
       "      <td>NaN</td>\n",
       "      <td>NaN</td>\n",
       "      <td>NaN</td>\n",
       "      <td>NaN</td>\n",
       "      <td>NaN</td>\n",
       "      <td>NaN</td>\n",
       "      <td>NaN</td>\n",
       "      <td>NaN</td>\n",
       "      <td>NaN</td>\n",
       "      <td>1</td>\n",
       "    </tr>\n",
       "  </tbody>\n",
       "</table>\n",
       "<p>126753 rows × 45 columns</p>\n",
       "</div>"
      ],
      "text/plain": [
       "        DIRECTORIO  ORDEN  P1144S1A1  P1144S1A2  P1144S6A1  P1144S6A2  \\\n",
       "0                3      1        8.0        0.0        NaN        NaN   \n",
       "1                3      2        7.0        0.0        NaN        NaN   \n",
       "2                7      1        8.0       30.0        NaN        NaN   \n",
       "3                7      2        9.0       30.0        9.0        0.0   \n",
       "4                7      3        9.0        0.0        NaN        NaN   \n",
       "...            ...    ...        ...        ...        ...        ...   \n",
       "126748       73884      2        9.0        0.0        NaN        NaN   \n",
       "126749       73884      3        8.0        0.0        NaN        NaN   \n",
       "126750       73884      4        7.0        0.0        NaN        NaN   \n",
       "126751       73884      6        9.0        0.0        NaN        NaN   \n",
       "126752       73884      8        8.0       30.0        NaN        NaN   \n",
       "\n",
       "        P1112S1A1  P1112S1A2  P1112S2A1  P1112S2A2  ...  P1126S1A2  P1126S2A1  \\\n",
       "0             NaN        NaN        NaN        NaN  ...        NaN        NaN   \n",
       "1             NaN        NaN        NaN        NaN  ...        NaN        NaN   \n",
       "2             NaN        NaN        NaN        NaN  ...        NaN        NaN   \n",
       "3             NaN        NaN        NaN        NaN  ...        NaN        NaN   \n",
       "4             NaN        NaN        NaN        NaN  ...        NaN        NaN   \n",
       "...           ...        ...        ...        ...  ...        ...        ...   \n",
       "126748        2.0        0.0        NaN        NaN  ...        NaN        NaN   \n",
       "126749        NaN        NaN        NaN        NaN  ...        NaN        NaN   \n",
       "126750        2.0        0.0        NaN        NaN  ...        NaN        NaN   \n",
       "126751        NaN        NaN        NaN        NaN  ...        NaN        NaN   \n",
       "126752        2.0        0.0        NaN        NaN  ...        NaN        NaN   \n",
       "\n",
       "        P1126S2A2  P1137S1A1  P1137S1A2  P1137S2A1  P1137S2A2  P1137S3A1  \\\n",
       "0             NaN        NaN        NaN        NaN        NaN        NaN   \n",
       "1             NaN        NaN        NaN        NaN        NaN        NaN   \n",
       "2             NaN        NaN        NaN        NaN        NaN        NaN   \n",
       "3             NaN        NaN        NaN        NaN        NaN        NaN   \n",
       "4             NaN        NaN        NaN        NaN        NaN        NaN   \n",
       "...           ...        ...        ...        ...        ...        ...   \n",
       "126748        NaN        NaN        NaN        NaN        NaN        NaN   \n",
       "126749        NaN        1.0        0.0        0.0       20.0        NaN   \n",
       "126750        NaN        NaN        NaN        NaN        NaN        NaN   \n",
       "126751        NaN        3.0        0.0        0.0       20.0        NaN   \n",
       "126752        NaN        NaN        NaN        NaN        NaN        NaN   \n",
       "\n",
       "        P1137S3A2  P1108  \n",
       "0             NaN      2  \n",
       "1             NaN      1  \n",
       "2             NaN      2  \n",
       "3             NaN      2  \n",
       "4             NaN      2  \n",
       "...           ...    ...  \n",
       "126748        NaN      2  \n",
       "126749        NaN      2  \n",
       "126750        NaN      2  \n",
       "126751        NaN      2  \n",
       "126752        NaN      1  \n",
       "\n",
       "[126753 rows x 45 columns]"
      ]
     },
     "execution_count": 22,
     "metadata": {},
     "output_type": "execute_result"
    }
   ],
   "source": [
    "# Se crean dataframes depurados con valores de C1, C3 y C8\n",
    "\n",
    "data_c1_depurada = pd.concat([data_c1['id'], data_c1['region'], data_c1['urbanoORural'], data_c1['estratoTarifa'], data_c1['Internet']], axis=1)\n",
    "data_c3_depurada = pd.concat([data_c3['id'], data_c3['orden'], data_c3['edad'], data_c3['sexo'], data_c3['grupoEtnico']], axis=1)\n",
    "\n",
    "# Se traen las columnas de horas y minutos correspondientes a las preguntas de interés\n",
    "# Este es el único paso que debe hacerse manualmente. En nuestro caso las preguntas elegidas son: dormir, descansar sin hacer nada más, hacer deporte, \n",
    "# caminar, ir a bares o fiestas, conversar, navegar internet sin hacer nada más, navegar internet haciendo algo más, leer, tocar algún instrumento musical,\n",
    "# escuchar música sin hacer nada más, escuchar música haciendo algo más, aconsejar o consolar a alguien, rezar o meditar, cuidar mascotas, cuidar plantas,\n",
    "# sembrar plantas para el consumo del hogar, criar o cazar para el consumo, jugar con niños, leer cuentos con niños, llevar niños al parque y si le alcanza el tiempo \n",
    "data_c8_depurada = pd.concat([data_c8['DIRECTORIO'],data_c8['ORDEN'], data_c8['P1144S1A1'], data_c8['P1144S1A2'], data_c8['P1144S6A1'], data_c8['P1144S6A2'], \n",
    "                              data_c8['P1112S1A1'], data_c8['P1112S1A2'], data_c8['P1112S2A1'], data_c8['P1112S2A2'], data_c8['P1113S1A1'], \n",
    "                              data_c8['P1113S1A2'], data_c8['P1113S2A1'], data_c8['P1113S2A2'], data_c8['P1110S5A1'], data_c8['P1110S5A2'],\n",
    "                              data_c8['P1110S6A1'], data_c8['P1110S6A2'], data_c8['P1110S8A1'], data_c8['P1110S8A2'], data_c8['P1111S3A1'],\n",
    "                              data_c8['P1111S3A2'], data_c8['P1110S3A1'], data_c8['P1110S3A2'], data_c8['P1110S4A1'], data_c8['P1110S4A2'],\n",
    "                              data_c8['P1114S1A1'], data_c8['P1114S1A2'], data_c8['P1111S4A1'], data_c8['P1111S4A2'], data_c8['P1136S2A1'],\n",
    "                              data_c8['P1136S2A2'], data_c8['P1136S3A1'], data_c8['P1136S3A2'], data_c8['P1126S1A1'], data_c8['P1126S1A2'],\n",
    "                              data_c8['P1126S2A1'], data_c8['P1126S2A2'], data_c8['P1137S1A1'], data_c8['P1137S1A2'], data_c8['P1137S2A1'],\n",
    "                              data_c8['P1137S2A2'], data_c8['P1137S3A1'], data_c8['P1137S3A2'], data_c8['P1108']], axis=1)\n",
    "data_c8_depurada"
   ]
  },
  {
   "cell_type": "code",
   "execution_count": 23,
   "id": "fc82ff77",
   "metadata": {},
   "outputs": [
    {
     "data": {
      "text/html": [
       "<div>\n",
       "<style scoped>\n",
       "    .dataframe tbody tr th:only-of-type {\n",
       "        vertical-align: middle;\n",
       "    }\n",
       "\n",
       "    .dataframe tbody tr th {\n",
       "        vertical-align: top;\n",
       "    }\n",
       "\n",
       "    .dataframe thead th {\n",
       "        text-align: right;\n",
       "    }\n",
       "</style>\n",
       "<table border=\"1\" class=\"dataframe\">\n",
       "  <thead>\n",
       "    <tr style=\"text-align: right;\">\n",
       "      <th></th>\n",
       "      <th>DIRECTORIO</th>\n",
       "      <th>ORDEN</th>\n",
       "      <th>dormir</th>\n",
       "      <th>descansar</th>\n",
       "      <th>deporte</th>\n",
       "      <th>caminar</th>\n",
       "      <th>baresOFiestas</th>\n",
       "      <th>conversar</th>\n",
       "      <th>internet</th>\n",
       "      <th>internetAlgoMas</th>\n",
       "      <th>...</th>\n",
       "      <th>aconsejar</th>\n",
       "      <th>rezarOMeditar</th>\n",
       "      <th>cuidarMascotas</th>\n",
       "      <th>cuidarPlantas</th>\n",
       "      <th>sembrarConsumo</th>\n",
       "      <th>criarOCazar</th>\n",
       "      <th>jugarNino</th>\n",
       "      <th>cuentosNino</th>\n",
       "      <th>parqueNino</th>\n",
       "      <th>alcanzaTiempo</th>\n",
       "    </tr>\n",
       "  </thead>\n",
       "  <tbody>\n",
       "    <tr>\n",
       "      <th>0</th>\n",
       "      <td>3</td>\n",
       "      <td>1</td>\n",
       "      <td>8.0</td>\n",
       "      <td>NaN</td>\n",
       "      <td>NaN</td>\n",
       "      <td>NaN</td>\n",
       "      <td>NaN</td>\n",
       "      <td>NaN</td>\n",
       "      <td>NaN</td>\n",
       "      <td>NaN</td>\n",
       "      <td>...</td>\n",
       "      <td>NaN</td>\n",
       "      <td>NaN</td>\n",
       "      <td>NaN</td>\n",
       "      <td>NaN</td>\n",
       "      <td>NaN</td>\n",
       "      <td>NaN</td>\n",
       "      <td>NaN</td>\n",
       "      <td>NaN</td>\n",
       "      <td>NaN</td>\n",
       "      <td>2</td>\n",
       "    </tr>\n",
       "    <tr>\n",
       "      <th>1</th>\n",
       "      <td>3</td>\n",
       "      <td>2</td>\n",
       "      <td>7.0</td>\n",
       "      <td>NaN</td>\n",
       "      <td>NaN</td>\n",
       "      <td>NaN</td>\n",
       "      <td>NaN</td>\n",
       "      <td>NaN</td>\n",
       "      <td>NaN</td>\n",
       "      <td>NaN</td>\n",
       "      <td>...</td>\n",
       "      <td>NaN</td>\n",
       "      <td>NaN</td>\n",
       "      <td>NaN</td>\n",
       "      <td>NaN</td>\n",
       "      <td>NaN</td>\n",
       "      <td>NaN</td>\n",
       "      <td>NaN</td>\n",
       "      <td>NaN</td>\n",
       "      <td>NaN</td>\n",
       "      <td>1</td>\n",
       "    </tr>\n",
       "    <tr>\n",
       "      <th>2</th>\n",
       "      <td>7</td>\n",
       "      <td>1</td>\n",
       "      <td>8.5</td>\n",
       "      <td>NaN</td>\n",
       "      <td>NaN</td>\n",
       "      <td>NaN</td>\n",
       "      <td>NaN</td>\n",
       "      <td>1.0</td>\n",
       "      <td>NaN</td>\n",
       "      <td>NaN</td>\n",
       "      <td>...</td>\n",
       "      <td>NaN</td>\n",
       "      <td>NaN</td>\n",
       "      <td>NaN</td>\n",
       "      <td>NaN</td>\n",
       "      <td>NaN</td>\n",
       "      <td>NaN</td>\n",
       "      <td>NaN</td>\n",
       "      <td>NaN</td>\n",
       "      <td>NaN</td>\n",
       "      <td>2</td>\n",
       "    </tr>\n",
       "    <tr>\n",
       "      <th>3</th>\n",
       "      <td>7</td>\n",
       "      <td>2</td>\n",
       "      <td>9.5</td>\n",
       "      <td>9.0</td>\n",
       "      <td>NaN</td>\n",
       "      <td>NaN</td>\n",
       "      <td>NaN</td>\n",
       "      <td>NaN</td>\n",
       "      <td>NaN</td>\n",
       "      <td>NaN</td>\n",
       "      <td>...</td>\n",
       "      <td>NaN</td>\n",
       "      <td>NaN</td>\n",
       "      <td>NaN</td>\n",
       "      <td>NaN</td>\n",
       "      <td>NaN</td>\n",
       "      <td>NaN</td>\n",
       "      <td>NaN</td>\n",
       "      <td>NaN</td>\n",
       "      <td>NaN</td>\n",
       "      <td>2</td>\n",
       "    </tr>\n",
       "    <tr>\n",
       "      <th>4</th>\n",
       "      <td>7</td>\n",
       "      <td>3</td>\n",
       "      <td>9.0</td>\n",
       "      <td>NaN</td>\n",
       "      <td>NaN</td>\n",
       "      <td>NaN</td>\n",
       "      <td>NaN</td>\n",
       "      <td>1.0</td>\n",
       "      <td>NaN</td>\n",
       "      <td>NaN</td>\n",
       "      <td>...</td>\n",
       "      <td>NaN</td>\n",
       "      <td>NaN</td>\n",
       "      <td>NaN</td>\n",
       "      <td>NaN</td>\n",
       "      <td>NaN</td>\n",
       "      <td>NaN</td>\n",
       "      <td>NaN</td>\n",
       "      <td>NaN</td>\n",
       "      <td>NaN</td>\n",
       "      <td>2</td>\n",
       "    </tr>\n",
       "    <tr>\n",
       "      <th>...</th>\n",
       "      <td>...</td>\n",
       "      <td>...</td>\n",
       "      <td>...</td>\n",
       "      <td>...</td>\n",
       "      <td>...</td>\n",
       "      <td>...</td>\n",
       "      <td>...</td>\n",
       "      <td>...</td>\n",
       "      <td>...</td>\n",
       "      <td>...</td>\n",
       "      <td>...</td>\n",
       "      <td>...</td>\n",
       "      <td>...</td>\n",
       "      <td>...</td>\n",
       "      <td>...</td>\n",
       "      <td>...</td>\n",
       "      <td>...</td>\n",
       "      <td>...</td>\n",
       "      <td>...</td>\n",
       "      <td>...</td>\n",
       "      <td>...</td>\n",
       "    </tr>\n",
       "    <tr>\n",
       "      <th>126748</th>\n",
       "      <td>73884</td>\n",
       "      <td>2</td>\n",
       "      <td>9.0</td>\n",
       "      <td>NaN</td>\n",
       "      <td>2.0</td>\n",
       "      <td>NaN</td>\n",
       "      <td>NaN</td>\n",
       "      <td>2.0</td>\n",
       "      <td>NaN</td>\n",
       "      <td>NaN</td>\n",
       "      <td>...</td>\n",
       "      <td>NaN</td>\n",
       "      <td>NaN</td>\n",
       "      <td>NaN</td>\n",
       "      <td>NaN</td>\n",
       "      <td>NaN</td>\n",
       "      <td>NaN</td>\n",
       "      <td>NaN</td>\n",
       "      <td>NaN</td>\n",
       "      <td>NaN</td>\n",
       "      <td>2</td>\n",
       "    </tr>\n",
       "    <tr>\n",
       "      <th>126749</th>\n",
       "      <td>73884</td>\n",
       "      <td>3</td>\n",
       "      <td>8.0</td>\n",
       "      <td>NaN</td>\n",
       "      <td>NaN</td>\n",
       "      <td>NaN</td>\n",
       "      <td>NaN</td>\n",
       "      <td>3.0</td>\n",
       "      <td>2.0</td>\n",
       "      <td>NaN</td>\n",
       "      <td>...</td>\n",
       "      <td>NaN</td>\n",
       "      <td>NaN</td>\n",
       "      <td>NaN</td>\n",
       "      <td>NaN</td>\n",
       "      <td>NaN</td>\n",
       "      <td>NaN</td>\n",
       "      <td>1.0</td>\n",
       "      <td>0.333333</td>\n",
       "      <td>NaN</td>\n",
       "      <td>2</td>\n",
       "    </tr>\n",
       "    <tr>\n",
       "      <th>126750</th>\n",
       "      <td>73884</td>\n",
       "      <td>4</td>\n",
       "      <td>7.0</td>\n",
       "      <td>NaN</td>\n",
       "      <td>2.0</td>\n",
       "      <td>NaN</td>\n",
       "      <td>NaN</td>\n",
       "      <td>2.0</td>\n",
       "      <td>0.5</td>\n",
       "      <td>NaN</td>\n",
       "      <td>...</td>\n",
       "      <td>NaN</td>\n",
       "      <td>NaN</td>\n",
       "      <td>NaN</td>\n",
       "      <td>NaN</td>\n",
       "      <td>NaN</td>\n",
       "      <td>NaN</td>\n",
       "      <td>NaN</td>\n",
       "      <td>NaN</td>\n",
       "      <td>NaN</td>\n",
       "      <td>2</td>\n",
       "    </tr>\n",
       "    <tr>\n",
       "      <th>126751</th>\n",
       "      <td>73884</td>\n",
       "      <td>6</td>\n",
       "      <td>9.0</td>\n",
       "      <td>NaN</td>\n",
       "      <td>NaN</td>\n",
       "      <td>NaN</td>\n",
       "      <td>NaN</td>\n",
       "      <td>3.0</td>\n",
       "      <td>1.0</td>\n",
       "      <td>NaN</td>\n",
       "      <td>...</td>\n",
       "      <td>NaN</td>\n",
       "      <td>NaN</td>\n",
       "      <td>NaN</td>\n",
       "      <td>NaN</td>\n",
       "      <td>NaN</td>\n",
       "      <td>NaN</td>\n",
       "      <td>3.0</td>\n",
       "      <td>0.333333</td>\n",
       "      <td>NaN</td>\n",
       "      <td>2</td>\n",
       "    </tr>\n",
       "    <tr>\n",
       "      <th>126752</th>\n",
       "      <td>73884</td>\n",
       "      <td>8</td>\n",
       "      <td>8.5</td>\n",
       "      <td>NaN</td>\n",
       "      <td>2.0</td>\n",
       "      <td>NaN</td>\n",
       "      <td>NaN</td>\n",
       "      <td>3.0</td>\n",
       "      <td>NaN</td>\n",
       "      <td>NaN</td>\n",
       "      <td>...</td>\n",
       "      <td>NaN</td>\n",
       "      <td>NaN</td>\n",
       "      <td>NaN</td>\n",
       "      <td>NaN</td>\n",
       "      <td>NaN</td>\n",
       "      <td>NaN</td>\n",
       "      <td>NaN</td>\n",
       "      <td>NaN</td>\n",
       "      <td>NaN</td>\n",
       "      <td>1</td>\n",
       "    </tr>\n",
       "  </tbody>\n",
       "</table>\n",
       "<p>126753 rows × 24 columns</p>\n",
       "</div>"
      ],
      "text/plain": [
       "        DIRECTORIO  ORDEN  dormir  descansar  deporte  caminar  baresOFiestas  \\\n",
       "0                3      1     8.0        NaN      NaN      NaN            NaN   \n",
       "1                3      2     7.0        NaN      NaN      NaN            NaN   \n",
       "2                7      1     8.5        NaN      NaN      NaN            NaN   \n",
       "3                7      2     9.5        9.0      NaN      NaN            NaN   \n",
       "4                7      3     9.0        NaN      NaN      NaN            NaN   \n",
       "...            ...    ...     ...        ...      ...      ...            ...   \n",
       "126748       73884      2     9.0        NaN      2.0      NaN            NaN   \n",
       "126749       73884      3     8.0        NaN      NaN      NaN            NaN   \n",
       "126750       73884      4     7.0        NaN      2.0      NaN            NaN   \n",
       "126751       73884      6     9.0        NaN      NaN      NaN            NaN   \n",
       "126752       73884      8     8.5        NaN      2.0      NaN            NaN   \n",
       "\n",
       "        conversar  internet  internetAlgoMas  ...  aconsejar  rezarOMeditar  \\\n",
       "0             NaN       NaN              NaN  ...        NaN            NaN   \n",
       "1             NaN       NaN              NaN  ...        NaN            NaN   \n",
       "2             1.0       NaN              NaN  ...        NaN            NaN   \n",
       "3             NaN       NaN              NaN  ...        NaN            NaN   \n",
       "4             1.0       NaN              NaN  ...        NaN            NaN   \n",
       "...           ...       ...              ...  ...        ...            ...   \n",
       "126748        2.0       NaN              NaN  ...        NaN            NaN   \n",
       "126749        3.0       2.0              NaN  ...        NaN            NaN   \n",
       "126750        2.0       0.5              NaN  ...        NaN            NaN   \n",
       "126751        3.0       1.0              NaN  ...        NaN            NaN   \n",
       "126752        3.0       NaN              NaN  ...        NaN            NaN   \n",
       "\n",
       "        cuidarMascotas  cuidarPlantas  sembrarConsumo  criarOCazar  jugarNino  \\\n",
       "0                  NaN            NaN             NaN          NaN        NaN   \n",
       "1                  NaN            NaN             NaN          NaN        NaN   \n",
       "2                  NaN            NaN             NaN          NaN        NaN   \n",
       "3                  NaN            NaN             NaN          NaN        NaN   \n",
       "4                  NaN            NaN             NaN          NaN        NaN   \n",
       "...                ...            ...             ...          ...        ...   \n",
       "126748             NaN            NaN             NaN          NaN        NaN   \n",
       "126749             NaN            NaN             NaN          NaN        1.0   \n",
       "126750             NaN            NaN             NaN          NaN        NaN   \n",
       "126751             NaN            NaN             NaN          NaN        3.0   \n",
       "126752             NaN            NaN             NaN          NaN        NaN   \n",
       "\n",
       "        cuentosNino  parqueNino  alcanzaTiempo  \n",
       "0               NaN         NaN              2  \n",
       "1               NaN         NaN              1  \n",
       "2               NaN         NaN              2  \n",
       "3               NaN         NaN              2  \n",
       "4               NaN         NaN              2  \n",
       "...             ...         ...            ...  \n",
       "126748          NaN         NaN              2  \n",
       "126749     0.333333         NaN              2  \n",
       "126750          NaN         NaN              2  \n",
       "126751     0.333333         NaN              2  \n",
       "126752          NaN         NaN              1  \n",
       "\n",
       "[126753 rows x 24 columns]"
      ]
     },
     "execution_count": 23,
     "metadata": {},
     "output_type": "execute_result"
    }
   ],
   "source": [
    "# Se unifican las columnas de horas y minutos de cada actividad en una sola columna de horas\n",
    "\n",
    "data_c8_depurada['dormir'] = data_c8_depurada['P1144S1A1'] + data_c8_depurada['P1144S1A2']/60\n",
    "data_c8_depurada['descansar'] = data_c8_depurada['P1144S6A1'] + data_c8_depurada['P1144S6A2']/60\n",
    "data_c8_depurada['deporte'] = data_c8_depurada['P1112S1A1'] + data_c8_depurada['P1112S1A2']/60\n",
    "data_c8_depurada['caminar'] = data_c8_depurada['P1112S2A1'] + data_c8_depurada['P1112S2A2']/60\n",
    "data_c8_depurada['baresOFiestas'] = data_c8_depurada['P1113S1A1'] + data_c8_depurada['P1113S1A2']/60\n",
    "data_c8_depurada['conversar'] = data_c8_depurada['P1113S2A1'] + data_c8_depurada['P1113S2A2']/60\n",
    "data_c8_depurada['internet'] = data_c8_depurada['P1110S5A1'] + data_c8_depurada['P1110S5A2']/60\n",
    "data_c8_depurada['internetAlgoMas'] = data_c8_depurada['P1110S6A1'] + data_c8_depurada['P1110S6A2']/60\n",
    "data_c8_depurada['leer'] = data_c8_depurada['P1110S8A1'] + data_c8_depurada['P1110S8A2']/60\n",
    "data_c8_depurada['instrumento'] = data_c8_depurada['P1111S3A1'] + data_c8_depurada['P1111S3A2']/60\n",
    "data_c8_depurada['musica'] = data_c8_depurada['P1110S3A1'] + data_c8_depurada['P1110S3A2']/60\n",
    "data_c8_depurada['musicaAlgoMas'] = data_c8_depurada['P1110S4A1'] + data_c8_depurada['P1110S4A2']/60\n",
    "data_c8_depurada['aconsejar'] = data_c8_depurada['P1114S1A1'] + data_c8_depurada['P1114S1A2']/60\n",
    "data_c8_depurada['rezarOMeditar'] = data_c8_depurada['P1111S4A1'] + data_c8_depurada['P1111S4A2']/60\n",
    "data_c8_depurada['cuidarMascotas'] = data_c8_depurada['P1136S2A1'] + data_c8_depurada['P1136S2A2']/60\n",
    "data_c8_depurada['cuidarPlantas'] = data_c8_depurada['P1136S3A1'] + data_c8_depurada['P1136S3A2']/60\n",
    "data_c8_depurada['sembrarConsumo'] = data_c8_depurada['P1126S1A1'] + data_c8_depurada['P1126S1A2']/60\n",
    "data_c8_depurada['criarOCazar'] = data_c8_depurada['P1126S2A1'] + data_c8_depurada['P1126S2A2']/60\n",
    "data_c8_depurada['jugarNino'] = data_c8_depurada['P1137S1A1'] + data_c8_depurada['P1137S1A2']/60\n",
    "data_c8_depurada['cuentosNino'] = data_c8_depurada['P1137S2A1'] + data_c8_depurada['P1137S2A2']/60\n",
    "data_c8_depurada['parqueNino'] = data_c8_depurada['P1137S3A1'] + data_c8_depurada['P1137S3A2']/60\n",
    "data_c8_depurada['alcanzaTiempo'] = data_c8_depurada['P1108']\n",
    "\n",
    "\n",
    "# Se eliminan las columnas de minutos y horas que ya no son necesarias\n",
    "\n",
    "data_c8_depurada.drop(['P1144S1A1', 'P1144S1A2', 'P1144S6A1', 'P1144S6A2', 'P1112S1A1', 'P1112S1A2', \n",
    "                          'P1112S2A1', 'P1112S2A2', 'P1113S1A1', 'P1113S1A2', 'P1113S2A1', 'P1113S2A2', \n",
    "                          'P1110S5A1', 'P1110S5A2', 'P1110S6A1', 'P1110S6A2', 'P1110S8A1', 'P1110S8A2', \n",
    "                          'P1111S3A1', 'P1111S3A2', 'P1110S3A1', 'P1110S3A2', 'P1110S4A1', 'P1110S4A2', \n",
    "                          'P1114S1A1', 'P1114S1A2', 'P1111S4A1', 'P1111S4A2', 'P1136S2A1', 'P1136S2A2', \n",
    "                          'P1136S3A1', 'P1136S3A2', 'P1126S1A1', 'P1126S1A2', 'P1126S2A1', 'P1126S2A2', \n",
    "                          'P1137S1A1', 'P1137S1A2', 'P1137S2A1', 'P1137S2A2', 'P1137S3A1', 'P1137S3A2','P1108'], axis=1, inplace=True)\n",
    "\n",
    "data_c8_depurada"
   ]
  },
  {
   "cell_type": "code",
   "execution_count": 109,
   "id": "7a1e29af",
   "metadata": {},
   "outputs": [
    {
     "data": {
      "text/html": [
       "<div>\n",
       "<style scoped>\n",
       "    .dataframe tbody tr th:only-of-type {\n",
       "        vertical-align: middle;\n",
       "    }\n",
       "\n",
       "    .dataframe tbody tr th {\n",
       "        vertical-align: top;\n",
       "    }\n",
       "\n",
       "    .dataframe thead th {\n",
       "        text-align: right;\n",
       "    }\n",
       "</style>\n",
       "<table border=\"1\" class=\"dataframe\">\n",
       "  <thead>\n",
       "    <tr style=\"text-align: right;\">\n",
       "      <th></th>\n",
       "      <th>id</th>\n",
       "      <th>edad</th>\n",
       "      <th>sexo</th>\n",
       "      <th>grupo-etnico</th>\n",
       "      <th>region</th>\n",
       "      <th>urbana-o-rural</th>\n",
       "      <th>estrato</th>\n",
       "      <th>si-tiene-acceso-a-internet-o-no</th>\n",
       "      <th>dormir</th>\n",
       "      <th>descansar</th>\n",
       "      <th>...</th>\n",
       "      <th>aconsejar-o-consolar-a-alguien</th>\n",
       "      <th>rezar-o-meditar</th>\n",
       "      <th>cuidar-mascotas</th>\n",
       "      <th>cuidar-plantas</th>\n",
       "      <th>sembrar-plantas-para-el-consumo-del-hogar</th>\n",
       "      <th>criar-o-cazar-animales-para-el-consumo-del-hogar</th>\n",
       "      <th>jugar-con-ninos</th>\n",
       "      <th>leerle-cuentos-a-ninos</th>\n",
       "      <th>llevar-ninos-al-parque</th>\n",
       "      <th>¿le-alcanza-el-tiempo-para-hacer-todas-sus-actividades?</th>\n",
       "    </tr>\n",
       "  </thead>\n",
       "  <tbody>\n",
       "    <tr>\n",
       "      <th>0</th>\n",
       "      <td>3_1</td>\n",
       "      <td>61-80</td>\n",
       "      <td>hombre</td>\n",
       "      <td>ninguna de las anteriores</td>\n",
       "      <td>central</td>\n",
       "      <td>urbano</td>\n",
       "      <td>4</td>\n",
       "      <td>si</td>\n",
       "      <td>8.0</td>\n",
       "      <td>NaN</td>\n",
       "      <td>...</td>\n",
       "      <td>NaN</td>\n",
       "      <td>NaN</td>\n",
       "      <td>NaN</td>\n",
       "      <td>NaN</td>\n",
       "      <td>NaN</td>\n",
       "      <td>NaN</td>\n",
       "      <td>NaN</td>\n",
       "      <td>NaN</td>\n",
       "      <td>NaN</td>\n",
       "      <td>2</td>\n",
       "    </tr>\n",
       "    <tr>\n",
       "      <th>1</th>\n",
       "      <td>3_2</td>\n",
       "      <td>61-80</td>\n",
       "      <td>mujer</td>\n",
       "      <td>ninguna de las anteriores</td>\n",
       "      <td>central</td>\n",
       "      <td>urbano</td>\n",
       "      <td>4</td>\n",
       "      <td>si</td>\n",
       "      <td>7.0</td>\n",
       "      <td>NaN</td>\n",
       "      <td>...</td>\n",
       "      <td>NaN</td>\n",
       "      <td>NaN</td>\n",
       "      <td>NaN</td>\n",
       "      <td>NaN</td>\n",
       "      <td>NaN</td>\n",
       "      <td>NaN</td>\n",
       "      <td>NaN</td>\n",
       "      <td>NaN</td>\n",
       "      <td>NaN</td>\n",
       "      <td>1</td>\n",
       "    </tr>\n",
       "    <tr>\n",
       "      <th>2</th>\n",
       "      <td>7_1</td>\n",
       "      <td>31-60</td>\n",
       "      <td>mujer</td>\n",
       "      <td>ninguna de las anteriores</td>\n",
       "      <td>central</td>\n",
       "      <td>rural</td>\n",
       "      <td>2</td>\n",
       "      <td>si</td>\n",
       "      <td>8.5</td>\n",
       "      <td>NaN</td>\n",
       "      <td>...</td>\n",
       "      <td>NaN</td>\n",
       "      <td>NaN</td>\n",
       "      <td>NaN</td>\n",
       "      <td>NaN</td>\n",
       "      <td>NaN</td>\n",
       "      <td>NaN</td>\n",
       "      <td>NaN</td>\n",
       "      <td>NaN</td>\n",
       "      <td>NaN</td>\n",
       "      <td>2</td>\n",
       "    </tr>\n",
       "    <tr>\n",
       "      <th>3</th>\n",
       "      <td>7_2</td>\n",
       "      <td>19-30</td>\n",
       "      <td>hombre</td>\n",
       "      <td>ninguna de las anteriores</td>\n",
       "      <td>central</td>\n",
       "      <td>rural</td>\n",
       "      <td>2</td>\n",
       "      <td>si</td>\n",
       "      <td>9.5</td>\n",
       "      <td>9.0</td>\n",
       "      <td>...</td>\n",
       "      <td>NaN</td>\n",
       "      <td>NaN</td>\n",
       "      <td>NaN</td>\n",
       "      <td>NaN</td>\n",
       "      <td>NaN</td>\n",
       "      <td>NaN</td>\n",
       "      <td>NaN</td>\n",
       "      <td>NaN</td>\n",
       "      <td>NaN</td>\n",
       "      <td>2</td>\n",
       "    </tr>\n",
       "    <tr>\n",
       "      <th>4</th>\n",
       "      <td>7_3</td>\n",
       "      <td>31-60</td>\n",
       "      <td>hombre</td>\n",
       "      <td>ninguna de las anteriores</td>\n",
       "      <td>central</td>\n",
       "      <td>rural</td>\n",
       "      <td>2</td>\n",
       "      <td>si</td>\n",
       "      <td>9.0</td>\n",
       "      <td>NaN</td>\n",
       "      <td>...</td>\n",
       "      <td>NaN</td>\n",
       "      <td>NaN</td>\n",
       "      <td>NaN</td>\n",
       "      <td>NaN</td>\n",
       "      <td>NaN</td>\n",
       "      <td>NaN</td>\n",
       "      <td>NaN</td>\n",
       "      <td>NaN</td>\n",
       "      <td>NaN</td>\n",
       "      <td>2</td>\n",
       "    </tr>\n",
       "    <tr>\n",
       "      <th>...</th>\n",
       "      <td>...</td>\n",
       "      <td>...</td>\n",
       "      <td>...</td>\n",
       "      <td>...</td>\n",
       "      <td>...</td>\n",
       "      <td>...</td>\n",
       "      <td>...</td>\n",
       "      <td>...</td>\n",
       "      <td>...</td>\n",
       "      <td>...</td>\n",
       "      <td>...</td>\n",
       "      <td>...</td>\n",
       "      <td>...</td>\n",
       "      <td>...</td>\n",
       "      <td>...</td>\n",
       "      <td>...</td>\n",
       "      <td>...</td>\n",
       "      <td>...</td>\n",
       "      <td>...</td>\n",
       "      <td>...</td>\n",
       "      <td>...</td>\n",
       "    </tr>\n",
       "    <tr>\n",
       "      <th>128891</th>\n",
       "      <td>73884_2</td>\n",
       "      <td>31-60</td>\n",
       "      <td>hombre</td>\n",
       "      <td>ninguna de las anteriores</td>\n",
       "      <td>pacifica</td>\n",
       "      <td>urbano</td>\n",
       "      <td>1</td>\n",
       "      <td>si</td>\n",
       "      <td>9.0</td>\n",
       "      <td>NaN</td>\n",
       "      <td>...</td>\n",
       "      <td>NaN</td>\n",
       "      <td>NaN</td>\n",
       "      <td>NaN</td>\n",
       "      <td>NaN</td>\n",
       "      <td>NaN</td>\n",
       "      <td>NaN</td>\n",
       "      <td>NaN</td>\n",
       "      <td>NaN</td>\n",
       "      <td>NaN</td>\n",
       "      <td>2</td>\n",
       "    </tr>\n",
       "    <tr>\n",
       "      <th>128892</th>\n",
       "      <td>73884_3</td>\n",
       "      <td>19-30</td>\n",
       "      <td>mujer</td>\n",
       "      <td>ninguna de las anteriores</td>\n",
       "      <td>pacifica</td>\n",
       "      <td>urbano</td>\n",
       "      <td>1</td>\n",
       "      <td>si</td>\n",
       "      <td>8.0</td>\n",
       "      <td>NaN</td>\n",
       "      <td>...</td>\n",
       "      <td>NaN</td>\n",
       "      <td>NaN</td>\n",
       "      <td>NaN</td>\n",
       "      <td>NaN</td>\n",
       "      <td>NaN</td>\n",
       "      <td>NaN</td>\n",
       "      <td>1.0</td>\n",
       "      <td>0.333333</td>\n",
       "      <td>NaN</td>\n",
       "      <td>2</td>\n",
       "    </tr>\n",
       "    <tr>\n",
       "      <th>128893</th>\n",
       "      <td>73884_4</td>\n",
       "      <td>31-60</td>\n",
       "      <td>hombre</td>\n",
       "      <td>ninguna de las anteriores</td>\n",
       "      <td>pacifica</td>\n",
       "      <td>urbano</td>\n",
       "      <td>1</td>\n",
       "      <td>si</td>\n",
       "      <td>7.0</td>\n",
       "      <td>NaN</td>\n",
       "      <td>...</td>\n",
       "      <td>NaN</td>\n",
       "      <td>NaN</td>\n",
       "      <td>NaN</td>\n",
       "      <td>NaN</td>\n",
       "      <td>NaN</td>\n",
       "      <td>NaN</td>\n",
       "      <td>NaN</td>\n",
       "      <td>NaN</td>\n",
       "      <td>NaN</td>\n",
       "      <td>2</td>\n",
       "    </tr>\n",
       "    <tr>\n",
       "      <th>128894</th>\n",
       "      <td>73884_6</td>\n",
       "      <td>19-30</td>\n",
       "      <td>mujer</td>\n",
       "      <td>ninguna de las anteriores</td>\n",
       "      <td>pacifica</td>\n",
       "      <td>urbano</td>\n",
       "      <td>1</td>\n",
       "      <td>si</td>\n",
       "      <td>9.0</td>\n",
       "      <td>NaN</td>\n",
       "      <td>...</td>\n",
       "      <td>NaN</td>\n",
       "      <td>NaN</td>\n",
       "      <td>NaN</td>\n",
       "      <td>NaN</td>\n",
       "      <td>NaN</td>\n",
       "      <td>NaN</td>\n",
       "      <td>3.0</td>\n",
       "      <td>0.333333</td>\n",
       "      <td>NaN</td>\n",
       "      <td>2</td>\n",
       "    </tr>\n",
       "    <tr>\n",
       "      <th>128895</th>\n",
       "      <td>73884_8</td>\n",
       "      <td>12-18</td>\n",
       "      <td>hombre</td>\n",
       "      <td>ninguna de las anteriores</td>\n",
       "      <td>pacifica</td>\n",
       "      <td>urbano</td>\n",
       "      <td>1</td>\n",
       "      <td>si</td>\n",
       "      <td>8.5</td>\n",
       "      <td>NaN</td>\n",
       "      <td>...</td>\n",
       "      <td>NaN</td>\n",
       "      <td>NaN</td>\n",
       "      <td>NaN</td>\n",
       "      <td>NaN</td>\n",
       "      <td>NaN</td>\n",
       "      <td>NaN</td>\n",
       "      <td>NaN</td>\n",
       "      <td>NaN</td>\n",
       "      <td>NaN</td>\n",
       "      <td>1</td>\n",
       "    </tr>\n",
       "  </tbody>\n",
       "</table>\n",
       "<p>128896 rows × 30 columns</p>\n",
       "</div>"
      ],
      "text/plain": [
       "             id   edad    sexo               grupo-etnico    region  \\\n",
       "0           3_1  61-80  hombre  ninguna de las anteriores   central   \n",
       "1           3_2  61-80   mujer  ninguna de las anteriores   central   \n",
       "2           7_1  31-60   mujer  ninguna de las anteriores   central   \n",
       "3           7_2  19-30  hombre  ninguna de las anteriores   central   \n",
       "4           7_3  31-60  hombre  ninguna de las anteriores   central   \n",
       "...         ...    ...     ...                        ...       ...   \n",
       "128891  73884_2  31-60  hombre  ninguna de las anteriores  pacifica   \n",
       "128892  73884_3  19-30   mujer  ninguna de las anteriores  pacifica   \n",
       "128893  73884_4  31-60  hombre  ninguna de las anteriores  pacifica   \n",
       "128894  73884_6  19-30   mujer  ninguna de las anteriores  pacifica   \n",
       "128895  73884_8  12-18  hombre  ninguna de las anteriores  pacifica   \n",
       "\n",
       "       urbana-o-rural estrato si-tiene-acceso-a-internet-o-no  dormir  \\\n",
       "0              urbano       4                              si     8.0   \n",
       "1              urbano       4                              si     7.0   \n",
       "2               rural       2                              si     8.5   \n",
       "3               rural       2                              si     9.5   \n",
       "4               rural       2                              si     9.0   \n",
       "...               ...     ...                             ...     ...   \n",
       "128891         urbano       1                              si     9.0   \n",
       "128892         urbano       1                              si     8.0   \n",
       "128893         urbano       1                              si     7.0   \n",
       "128894         urbano       1                              si     9.0   \n",
       "128895         urbano       1                              si     8.5   \n",
       "\n",
       "        descansar  ...  aconsejar-o-consolar-a-alguien  rezar-o-meditar  \\\n",
       "0             NaN  ...                             NaN              NaN   \n",
       "1             NaN  ...                             NaN              NaN   \n",
       "2             NaN  ...                             NaN              NaN   \n",
       "3             9.0  ...                             NaN              NaN   \n",
       "4             NaN  ...                             NaN              NaN   \n",
       "...           ...  ...                             ...              ...   \n",
       "128891        NaN  ...                             NaN              NaN   \n",
       "128892        NaN  ...                             NaN              NaN   \n",
       "128893        NaN  ...                             NaN              NaN   \n",
       "128894        NaN  ...                             NaN              NaN   \n",
       "128895        NaN  ...                             NaN              NaN   \n",
       "\n",
       "        cuidar-mascotas  cuidar-plantas  \\\n",
       "0                   NaN             NaN   \n",
       "1                   NaN             NaN   \n",
       "2                   NaN             NaN   \n",
       "3                   NaN             NaN   \n",
       "4                   NaN             NaN   \n",
       "...                 ...             ...   \n",
       "128891              NaN             NaN   \n",
       "128892              NaN             NaN   \n",
       "128893              NaN             NaN   \n",
       "128894              NaN             NaN   \n",
       "128895              NaN             NaN   \n",
       "\n",
       "        sembrar-plantas-para-el-consumo-del-hogar  \\\n",
       "0                                             NaN   \n",
       "1                                             NaN   \n",
       "2                                             NaN   \n",
       "3                                             NaN   \n",
       "4                                             NaN   \n",
       "...                                           ...   \n",
       "128891                                        NaN   \n",
       "128892                                        NaN   \n",
       "128893                                        NaN   \n",
       "128894                                        NaN   \n",
       "128895                                        NaN   \n",
       "\n",
       "        criar-o-cazar-animales-para-el-consumo-del-hogar  jugar-con-ninos  \\\n",
       "0                                                    NaN              NaN   \n",
       "1                                                    NaN              NaN   \n",
       "2                                                    NaN              NaN   \n",
       "3                                                    NaN              NaN   \n",
       "4                                                    NaN              NaN   \n",
       "...                                                  ...              ...   \n",
       "128891                                               NaN              NaN   \n",
       "128892                                               NaN              1.0   \n",
       "128893                                               NaN              NaN   \n",
       "128894                                               NaN              3.0   \n",
       "128895                                               NaN              NaN   \n",
       "\n",
       "        leerle-cuentos-a-ninos  llevar-ninos-al-parque  \\\n",
       "0                          NaN                     NaN   \n",
       "1                          NaN                     NaN   \n",
       "2                          NaN                     NaN   \n",
       "3                          NaN                     NaN   \n",
       "4                          NaN                     NaN   \n",
       "...                        ...                     ...   \n",
       "128891                     NaN                     NaN   \n",
       "128892                0.333333                     NaN   \n",
       "128893                     NaN                     NaN   \n",
       "128894                0.333333                     NaN   \n",
       "128895                     NaN                     NaN   \n",
       "\n",
       "        ¿le-alcanza-el-tiempo-para-hacer-todas-sus-actividades?  \n",
       "0                                                       2        \n",
       "1                                                       1        \n",
       "2                                                       2        \n",
       "3                                                       2        \n",
       "4                                                       2        \n",
       "...                                                   ...        \n",
       "128891                                                  2        \n",
       "128892                                                  2        \n",
       "128893                                                  2        \n",
       "128894                                                  2        \n",
       "128895                                                  1        \n",
       "\n",
       "[128896 rows x 30 columns]"
      ]
     },
     "execution_count": 109,
     "metadata": {},
     "output_type": "execute_result"
    }
   ],
   "source": [
    "# Se unifican los dataframes depurados en un solo dataframe definitivo\n",
    "\n",
    "data_depurada = pd.merge(data_c3_depurada, data_c1_depurada, on='id')\n",
    "\n",
    "data_c8_depurada = data_c8_depurada.rename(columns={'DIRECTORIO': 'id'})\n",
    "data_c8_depurada = data_c8_depurada.rename(columns={'ORDEN': 'orden'})\n",
    "data_depurada = pd.merge(data_depurada, data_c8_depurada, on=['id','orden'])\n",
    "\n",
    "data_depurada['orden'] = data_depurada['orden'].astype(int)\n",
    "data_depurada['id'] = data_depurada['id'].astype(str) + '_' + data_depurada['orden'].astype(str)\n",
    "data_depurada = data_depurada.drop(columns=['orden'])\n",
    "\n",
    "# Se cambian los nombres de las columnas para que sean más descriptivos\n",
    "data_depurada = data_depurada.rename(columns={'grupoEtnico': 'grupo-etnico', 'urbanoORural': 'urbana-o-rural', 'estratoTarifa': 'estrato', 'Internet': 'si-tiene-acceso-a-internet-o-no', 'deporte': 'hacer-deporte', 'baresOFiestas': 'ir-a-bares-o-fiestas', 'internet': 'navegar-en-internet', 'internetAlgoMas': 'navegar-en-internet-mientras-hace-otra-actividad', 'instrumento': 'tocar-un-instrumento-musical', 'musica': 'escuchar-musica', 'musicaAlgoMas': 'escuchar-musica-mientras-hace-otra-actividad', 'aconsejar': 'aconsejar-o-consolar-a-alguien', 'rezarOMeditar': 'rezar-o-meditar', 'cuidarMascotas': 'cuidar-mascotas', 'cuidarPlantas': 'cuidar-plantas', 'sembrarConsumo': 'sembrar-plantas-para-el-consumo-del-hogar', 'criarOCazar': 'criar-o-cazar-animales-para-el-consumo-del-hogar', 'jugarNino': 'jugar-con-ninos', 'cuentosNino': 'leerle-cuentos-a-ninos', 'parqueNino': 'llevar-ninos-al-parque', 'alcanzaTiempo': '¿le-alcanza-el-tiempo-para-hacer-todas-sus-actividades?'})\n",
    "\n",
    "data_depurada"
   ]
  },
  {
   "cell_type": "code",
   "execution_count": 89,
   "id": "3ed8a56b",
   "metadata": {},
   "outputs": [
    {
     "name": "stderr",
     "output_type": "stream",
     "text": [
      "/var/folders/1j/4kvsqhq928q8fqfzs522_snm0000gq/T/ipykernel_41819/1423204459.py:3: FutureWarning: Dropping of nuisance columns in DataFrame reductions (with 'numeric_only=None') is deprecated; in a future version this will raise TypeError.  Select only valid columns before calling the reduction.\n",
      "  data_depurada.mean()\n"
     ]
    },
    {
     "data": {
      "text/plain": [
       "id                                                              inf\n",
       "dormir                                                     8.010293\n",
       "descansar                                                  2.353977\n",
       "hacer-deporte                                              1.467566\n",
       "caminar                                                    1.127672\n",
       "ir-a-bares-o-fiestas                                       3.116202\n",
       "conversar                                                  1.850010\n",
       "navegar-en-internet                                        2.094113\n",
       "navegar-en-internet-mientras-hace-otra-actividad           2.759882\n",
       "leer                                                       1.187343\n",
       "tocar-un-instrumento-musical                               1.632181\n",
       "escuchar-musica                                            1.831730\n",
       "escuchar-musica-mientras-hace-otra-actividad               2.949556\n",
       "aconsejar-o-consolar-a-alguien                             0.742450\n",
       "rezar-o-meditar                                            0.554939\n",
       "cuidar-mascotas                                            0.732120\n",
       "cuidar-plantas                                             0.678766\n",
       "sembrar-plantas-para-el-consumo-del-hogar                  1.988205\n",
       "criar-o-cazar-animales-para-el-consumo-del-hogar           1.252977\n",
       "jugar-con-ninos                                            1.512909\n",
       "leerle-cuentos-a-ninos                                     0.810021\n",
       "llevar-ninos-al-parque                                     1.343504\n",
       "¿Le-alcanza-el-tiempo-para-hacer-todas-sus-actividades?    1.992350\n",
       "dtype: float64"
      ]
     },
     "execution_count": 89,
     "metadata": {},
     "output_type": "execute_result"
    }
   ],
   "source": [
    "# Sersiorarse de que los valores tengan sentido\n",
    "\n",
    "data_depurada.mean()\n",
    "\n"
   ]
  },
  {
   "cell_type": "markdown",
   "id": "ca4fc47b",
   "metadata": {},
   "source": [
    "### 2.5 Exportación de dataframe final"
   ]
  },
  {
   "cell_type": "code",
   "execution_count": 90,
   "id": "2ae14565",
   "metadata": {},
   "outputs": [],
   "source": [
    "# Se exporta el dataframe a un archivo csv\n",
    "\n",
    "data_depurada.to_csv('./data/data_depurada.csv', index=False)"
   ]
  },
  {
   "cell_type": "markdown",
   "id": "a404460a",
   "metadata": {},
   "source": [
    "### 2.6 Hallar distribución porcentual de cada una de las divisiones poblacionales para el gráfico dinámico ###"
   ]
  },
  {
   "cell_type": "code",
   "execution_count": 108,
   "id": "da636492",
   "metadata": {},
   "outputs": [
    {
     "data": {
      "text/html": [
       "<div>\n",
       "<style scoped>\n",
       "    .dataframe tbody tr th:only-of-type {\n",
       "        vertical-align: middle;\n",
       "    }\n",
       "\n",
       "    .dataframe tbody tr th {\n",
       "        vertical-align: top;\n",
       "    }\n",
       "\n",
       "    .dataframe thead th {\n",
       "        text-align: right;\n",
       "    }\n",
       "</style>\n",
       "<table border=\"1\" class=\"dataframe\">\n",
       "  <thead>\n",
       "    <tr style=\"text-align: right;\">\n",
       "      <th></th>\n",
       "      <th>index</th>\n",
       "      <th>si-tiene-acceso-a-internet-o-no</th>\n",
       "    </tr>\n",
       "  </thead>\n",
       "  <tbody>\n",
       "    <tr>\n",
       "      <th>0</th>\n",
       "      <td>si</td>\n",
       "      <td>0.69231</td>\n",
       "    </tr>\n",
       "    <tr>\n",
       "      <th>1</th>\n",
       "      <td>no</td>\n",
       "      <td>0.30769</td>\n",
       "    </tr>\n",
       "  </tbody>\n",
       "</table>\n",
       "</div>"
      ],
      "text/plain": [
       "  index  si-tiene-acceso-a-internet-o-no\n",
       "0    si                          0.69231\n",
       "1    no                          0.30769"
      ]
     },
     "execution_count": 108,
     "metadata": {},
     "output_type": "execute_result"
    }
   ],
   "source": [
    "# Encontrar el porcentaje de personas en cada grupo de edad\n",
    "edad_porcentaje = data_visualizaciones['edad'].value_counts(normalize=True).reset_index()\n",
    "\n",
    "# Encontrar el porcentaje de personas en cada sexo\n",
    "sexo_porcentaje = data_visualizaciones['sexo'].value_counts(normalize=True).reset_index()\n",
    "\n",
    "# Encontrar el porcentaje de personas en cada grupo étnico\n",
    "grupo_etnico_porcentaje = data_visualizaciones['grupo-etnico'].value_counts(normalize=True).reset_index()\n",
    "\n",
    "# Encontrar el porcentaje de personas en cada región\n",
    "region_porcentaje = data_visualizaciones['region'].value_counts(normalize=True).reset_index()\n",
    "\n",
    "# Encontrar el porcentaje de personas en region urbana o rural\n",
    "urbana_o_rural_porcentaje = data_visualizaciones['urbana-o-rural'].value_counts(normalize=True).reset_index()\n",
    "\n",
    "# Encontrar el porcentaje de personas en cada estrato\n",
    "estrato_porcentaje = data_visualizaciones['estrato'].value_counts(normalize=True).reset_index()\n",
    "\n",
    "# Encontrar el porcentaje de personas que tienen acceso a internet\n",
    "internet_porcentaje = data_visualizaciones['si-tiene-acceso-a-internet-o-no'].value_counts(normalize=True).reset_index()\n",
    "\n",
    "internet_porcentaje"
   ]
  },
  {
   "cell_type": "code",
   "execution_count": 92,
   "id": "a38ebf2d",
   "metadata": {},
   "outputs": [
    {
     "data": {
      "text/html": [
       "<div>\n",
       "<style scoped>\n",
       "    .dataframe tbody tr th:only-of-type {\n",
       "        vertical-align: middle;\n",
       "    }\n",
       "\n",
       "    .dataframe tbody tr th {\n",
       "        vertical-align: top;\n",
       "    }\n",
       "\n",
       "    .dataframe thead th {\n",
       "        text-align: right;\n",
       "    }\n",
       "</style>\n",
       "<table border=\"1\" class=\"dataframe\">\n",
       "  <thead>\n",
       "    <tr style=\"text-align: right;\">\n",
       "      <th></th>\n",
       "      <th>index</th>\n",
       "      <th>edad</th>\n",
       "    </tr>\n",
       "  </thead>\n",
       "  <tbody>\n",
       "    <tr>\n",
       "      <th>0</th>\n",
       "      <td>31-60</td>\n",
       "      <td>0.451977</td>\n",
       "    </tr>\n",
       "    <tr>\n",
       "      <th>1</th>\n",
       "      <td>19-30</td>\n",
       "      <td>0.222590</td>\n",
       "    </tr>\n",
       "    <tr>\n",
       "      <th>2</th>\n",
       "      <td>61-80</td>\n",
       "      <td>0.147755</td>\n",
       "    </tr>\n",
       "    <tr>\n",
       "      <th>3</th>\n",
       "      <td>12-18</td>\n",
       "      <td>0.122525</td>\n",
       "    </tr>\n",
       "    <tr>\n",
       "      <th>4</th>\n",
       "      <td>6-11</td>\n",
       "      <td>0.031397</td>\n",
       "    </tr>\n",
       "    <tr>\n",
       "      <th>5</th>\n",
       "      <td>81+</td>\n",
       "      <td>0.022887</td>\n",
       "    </tr>\n",
       "    <tr>\n",
       "      <th>6</th>\n",
       "      <td>0-5</td>\n",
       "      <td>0.000869</td>\n",
       "    </tr>\n",
       "  </tbody>\n",
       "</table>\n",
       "</div>"
      ],
      "text/plain": [
       "   index      edad\n",
       "0  31-60  0.451977\n",
       "1  19-30  0.222590\n",
       "2  61-80  0.147755\n",
       "3  12-18  0.122525\n",
       "4   6-11  0.031397\n",
       "5    81+  0.022887\n",
       "6    0-5  0.000869"
      ]
     },
     "execution_count": 92,
     "metadata": {},
     "output_type": "execute_result"
    }
   ],
   "source": [
    "# TEMPORAL\n",
    "\n",
    "# Se crea un dataframe\n",
    "data_visualizaciones = data_depurada.copy()\n",
    "\n",
    "# Se exporta el dataframe a un archivo csv\n",
    "data_visualizaciones.to_csv('./data/data_visualizaciones.csv', index=False)"
   ]
  },
  {
   "cell_type": "markdown",
   "id": "54c90f6c",
   "metadata": {},
   "source": [
    "## 3 Identificación de variables a utilizar por medio de gráficas exploratorias"
   ]
  },
  {
   "cell_type": "markdown",
   "id": "c467847f",
   "metadata": {},
   "source": [
    "En este paso graficaremos múltiples poblaciones (bases de datos C1 y C3) contra todas las preguntas relevantes para la investigación (de la base de datos C8). Utilizaremos diferentes tipos de gráficos que se puedan generar con las librearías de matplotlib para entender cuáles tipos de visualizaciones transmiten mejor los insights de los datos y cuáles son útiles para buscar patrons y tendencias."
   ]
  },
  {
   "cell_type": "markdown",
   "id": "5e36ccbd",
   "metadata": {},
   "source": [
    "### 3.1 Exploración de tipos de gráficas que tienen las librerías de visualización"
   ]
  },
  {
   "cell_type": "code",
   "execution_count": 27,
   "id": "e94637b8",
   "metadata": {},
   "outputs": [
    {
     "data": {
      "image/png": "[encoded data removed]",
      "text/plain": [
       "<Figure size 720x432 with 1 Axes>"
      ]
     },
     "metadata": {
      "needs_background": "light"
     },
     "output_type": "display_data"
    }
   ],
   "source": [
    "# Graficar cuánto duerme cada región en un boxplot\n",
    "\n",
    "plt.figure(figsize=(10, 6))\n",
    "sns.boxplot(x=data_depurada['region'], y=data_depurada['dormir'])\n",
    "plt.title('Horas de sueño por región')\n",
    "plt.show()"
   ]
  },
  {
   "cell_type": "code",
   "execution_count": 28,
   "id": "257eb1af",
   "metadata": {},
   "outputs": [
    {
     "data": {
      "image/png": "[encoded data removed]",
      "text/plain": [
       "<Figure size 720x432 with 1 Axes>"
      ]
     },
     "metadata": {
      "needs_background": "light"
     },
     "output_type": "display_data"
    }
   ],
   "source": [
    "# Graficar cuánto tiempo dedica cada grupo etario a rezar o meditar en un gráfico de barras (debemos ordenar los grupos etarios de menor a mayor)\n",
    "\n",
    "plt.figure(figsize=(10, 6))\n",
    "sns.barplot(x=data_depurada['edad'], y=data_depurada['rezarOMeditar'], order=['0-5', '6-11', '12-18', '19-30', '31-60', '61-80', '81+'])\n",
    "plt.title('Horas rezando o meditando por edad')\n",
    "\n",
    "plt.show()"
   ]
  },
  {
   "cell_type": "code",
   "execution_count": 29,
   "id": "8f711147",
   "metadata": {},
   "outputs": [
    {
     "data": {
      "image/png": "[encoded data removed]",
      "text/plain": [
       "<Figure size 720x432 with 1 Axes>"
      ]
     },
     "metadata": {
      "needs_background": "light"
     },
     "output_type": "display_data"
    }
   ],
   "source": [
    "# Se grafica el tiempo que dedica cada región a hacer deporte en un scatterplot \n",
    "\n",
    "plt.figure(figsize=(10,6))\n",
    "plt.scatter(data_depurada['region'], data_depurada['deporte'])\n",
    "plt.title('Horas haciendo deporte por región')\n",
    "plt.xlabel('region')\n",
    "plt.ylabel('deporte')\n",
    "plt.show()"
   ]
  },
  {
   "cell_type": "code",
   "execution_count": 30,
   "id": "d71cfe2b",
   "metadata": {},
   "outputs": [
    {
     "data": {
      "image/png": "[encoded data removed]",
      "text/plain": [
       "<Figure size 720x432 with 1 Axes>"
      ]
     },
     "metadata": {
      "needs_background": "light"
     },
     "output_type": "display_data"
    }
   ],
   "source": [
    "# Graficar cuántas personas caminan cada número de horas en un histograma\n",
    "\n",
    "plt.figure(figsize=(10,6))\n",
    "plt.hist(data_depurada['caminar'], bins=30)\n",
    "plt.title('Horas caminando')\n",
    "plt.xlabel('Horas')\n",
    "plt.ylabel('Cantidad de encuestados')\n",
    "plt.show()"
   ]
  },
  {
   "cell_type": "code",
   "execution_count": 31,
   "id": "9245d14d",
   "metadata": {},
   "outputs": [
    {
     "data": {
      "image/png": "[encoded data removed]",
      "text/plain": [
       "<Figure size 720x432 with 1 Axes>"
      ]
     },
     "metadata": {
      "needs_background": "light"
     },
     "output_type": "display_data"
    }
   ],
   "source": [
    "# Se grafica la relación entre leer y leer cuentos a niños (como son dos variables dependientes, vemos que la gráfica no dice mucho)\n",
    "\n",
    "plt.figure(figsize=(10,6))\n",
    "plt.plot(data_depurada['leer'], data_depurada['cuentosNino'])\n",
    "plt.title('Leyendo vs leyendo cuentos a niños')\n",
    "plt.xlabel('Tiempo leyendo')\n",
    "plt.ylabel('Tiempo leyendo cuentos a niños')\n",
    "plt.show()"
   ]
  },
  {
   "cell_type": "code",
   "execution_count": 32,
   "id": "cff96b2b",
   "metadata": {},
   "outputs": [
    {
     "data": {
      "image/png": "[encoded data removed]",
      "text/plain": [
       "<Figure size 720x432 with 1 Axes>"
      ]
     },
     "metadata": {},
     "output_type": "display_data"
    }
   ],
   "source": [
    "# Se grafica la cantidad de encuestados por región en un gráfico de pastel\n",
    "\n",
    "plt.figure(figsize=(10,6))\n",
    "plt.pie(data_depurada['region'].value_counts(), labels=data_depurada['region'].value_counts().index)\n",
    "plt.title('Encuestados por region')\n",
    "plt.show()"
   ]
  },
  {
   "cell_type": "markdown",
   "id": "a87e66dc",
   "metadata": {},
   "source": [
    "Para efectos de buscar patrones y tendencias, la gráfica de barras muestra la información con la mayor claridad."
   ]
  },
  {
   "cell_type": "markdown",
   "id": "29617837",
   "metadata": {},
   "source": [
    "### 3.2 Identificación de tendencias"
   ]
  },
  {
   "cell_type": "markdown",
   "id": "959a45ec",
   "metadata": {},
   "source": [
    "#### Actividades que disminuyen a medida que el estrato aumenta:"
   ]
  },
  {
   "cell_type": "code",
   "execution_count": 33,
   "id": "09541f70",
   "metadata": {},
   "outputs": [
    {
     "data": {
      "image/png": "[encoded data removed]",
      "text/plain": [
       "<Figure size 720x432 with 1 Axes>"
      ]
     },
     "metadata": {
      "needs_background": "light"
     },
     "output_type": "display_data"
    }
   ],
   "source": [
    "plt.figure(figsize=(10, 6))\n",
    "sns.barplot(x=data_depurada['estratoTarifa'], y=data_depurada['dormir'], order=[1, 2, 3, 4, 5, 6, 'No sabe'])\n",
    "plt.title('Horas durmiendo por estrato')\n",
    "plt.show()"
   ]
  },
  {
   "cell_type": "code",
   "execution_count": 34,
   "id": "3fd0de21",
   "metadata": {},
   "outputs": [
    {
     "data": {
      "image/png": "[encoded data removed]",
      "text/plain": [
       "<Figure size 720x432 with 1 Axes>"
      ]
     },
     "metadata": {
      "needs_background": "light"
     },
     "output_type": "display_data"
    }
   ],
   "source": [
    "plt.figure(figsize=(10, 6))\n",
    "sns.barplot(x=data_depurada['estratoTarifa'], y=data_depurada['deporte'], order=[1, 2, 3, 4, 5, 6, 'No sabe'])\n",
    "plt.title('Horas haciendo deporte por estrato')\n",
    "plt.show()"
   ]
  },
  {
   "cell_type": "code",
   "execution_count": 35,
   "id": "d67e3f86",
   "metadata": {},
   "outputs": [
    {
     "data": {
      "image/png": "[encoded data removed]",
      "text/plain": [
       "<Figure size 720x432 with 1 Axes>"
      ]
     },
     "metadata": {
      "needs_background": "light"
     },
     "output_type": "display_data"
    }
   ],
   "source": [
    "plt.figure(figsize=(10, 6))\n",
    "sns.barplot(x=data_depurada['estratoTarifa'], y=data_depurada['baresOFiestas'], order=[1, 2, 3, 4, 5, 6, 'No sabe'])\n",
    "plt.title('Horas en bares o fiestas por estrato')\n",
    "plt.show()"
   ]
  },
  {
   "cell_type": "code",
   "execution_count": 36,
   "id": "5a9b14b5",
   "metadata": {},
   "outputs": [
    {
     "data": {
      "image/png": "[encoded data removed]",
      "text/plain": [
       "<Figure size 720x432 with 1 Axes>"
      ]
     },
     "metadata": {
      "needs_background": "light"
     },
     "output_type": "display_data"
    }
   ],
   "source": [
    "plt.figure(figsize=(10, 6))\n",
    "sns.barplot(x=data_depurada['estratoTarifa'], y=data_depurada['caminar'], order=[1, 2, 3, 4, 5, 6, 'No sabe'])\n",
    "plt.title('Horas caminando por estrato')\n",
    "plt.show()"
   ]
  },
  {
   "cell_type": "code",
   "execution_count": 37,
   "id": "44c3b7b7",
   "metadata": {},
   "outputs": [
    {
     "data": {
      "image/png": "[encoded data removed]",
      "text/plain": [
       "<Figure size 720x432 with 1 Axes>"
      ]
     },
     "metadata": {
      "needs_background": "light"
     },
     "output_type": "display_data"
    }
   ],
   "source": [
    "plt.figure(figsize=(10, 6))\n",
    "sns.barplot(x=data_depurada['estratoTarifa'], y=data_depurada['conversar'], order=[1, 2, 3, 4, 5, 6, 'No sabe'])\n",
    "plt.title('Horas conversando por estrato')\n",
    "plt.show()"
   ]
  },
  {
   "cell_type": "markdown",
   "id": "0f58ea1e",
   "metadata": {},
   "source": [
    "#### Actividades que disminuyen a medida que la conexión a internet aumenta:"
   ]
  },
  {
   "cell_type": "code",
   "execution_count": 38,
   "id": "3dd78711",
   "metadata": {},
   "outputs": [
    {
     "data": {
      "image/png": "[encoded data removed]",
      "text/plain": [
       "<Figure size 720x432 with 1 Axes>"
      ]
     },
     "metadata": {
      "needs_background": "light"
     },
     "output_type": "display_data"
    }
   ],
   "source": [
    "plt.figure(figsize=(10, 6))\n",
    "sns.barplot(x=data_depurada['Internet'], y=data_depurada['deporte'])\n",
    "plt.title('Horas haciendo deporte dependiendo si tiene acceso a internet o no')\n",
    "plt.show()"
   ]
  },
  {
   "cell_type": "code",
   "execution_count": 39,
   "id": "eaed9b4c",
   "metadata": {},
   "outputs": [
    {
     "data": {
      "image/png": "[encoded data removed]",
      "text/plain": [
       "<Figure size 720x432 with 1 Axes>"
      ]
     },
     "metadata": {
      "needs_background": "light"
     },
     "output_type": "display_data"
    }
   ],
   "source": [
    "plt.figure(figsize=(10, 6))\n",
    "sns.barplot(x=data_depurada['Internet'], y=data_depurada['instrumento'])\n",
    "plt.title('Horas tocando un instrumento dependiendo si tiene acceso a internet o no')\n",
    "plt.show()"
   ]
  },
  {
   "cell_type": "code",
   "execution_count": 40,
   "id": "bc093b66",
   "metadata": {},
   "outputs": [
    {
     "data": {
      "image/png": "[encoded data removed]",
      "text/plain": [
       "<Figure size 720x432 with 1 Axes>"
      ]
     },
     "metadata": {
      "needs_background": "light"
     },
     "output_type": "display_data"
    }
   ],
   "source": [
    "plt.figure(figsize=(10, 6))\n",
    "sns.barplot(x=data_depurada['Internet'], y=data_depurada['rezarOMeditar'])\n",
    "plt.title('Horas rezando o meditando dependiendo si tiene acceso a internet o no')\n",
    "plt.show()"
   ]
  },
  {
   "cell_type": "code",
   "execution_count": 41,
   "id": "3303b90f",
   "metadata": {},
   "outputs": [
    {
     "data": {
      "image/png": "[encoded data removed]",
      "text/plain": [
       "<Figure size 720x432 with 1 Axes>"
      ]
     },
     "metadata": {
      "needs_background": "light"
     },
     "output_type": "display_data"
    }
   ],
   "source": [
    "plt.figure(figsize=(10, 6))\n",
    "sns.barplot(x=data_depurada['Internet'], y=data_depurada['cuidarPlantas'])\n",
    "plt.title('Horas cuidando plantas dependiendo si tiene acceso a internet o no')\n",
    "plt.show()"
   ]
  },
  {
   "cell_type": "code",
   "execution_count": 42,
   "id": "4778a250",
   "metadata": {},
   "outputs": [
    {
     "data": {
      "image/png": "[encoded data removed]",
      "text/plain": [
       "<Figure size 720x432 with 1 Axes>"
      ]
     },
     "metadata": {
      "needs_background": "light"
     },
     "output_type": "display_data"
    }
   ],
   "source": [
    "plt.figure(figsize=(10, 6))\n",
    "sns.barplot(x=data_depurada['Internet'], y=data_depurada['musica'])\n",
    "plt.title('Horas oyendo música dependiendo si tiene acceso a internet o no')\n",
    "plt.show()"
   ]
  },
  {
   "cell_type": "code",
   "execution_count": 43,
   "id": "951142b5",
   "metadata": {},
   "outputs": [
    {
     "data": {
      "image/png": "[encoded data removed]",
      "text/plain": [
       "<Figure size 720x432 with 1 Axes>"
      ]
     },
     "metadata": {
      "needs_background": "light"
     },
     "output_type": "display_data"
    }
   ],
   "source": [
    "plt.figure(figsize=(10, 6))\n",
    "sns.barplot(x=data_depurada['Internet'], y=data_depurada['parqueNino'])\n",
    "plt.title('Horas llevando a un niño al parque dependiendo si tiene acceso a internet o no')\n",
    "plt.show()"
   ]
  },
  {
   "cell_type": "code",
   "execution_count": 44,
   "id": "998c4e80",
   "metadata": {},
   "outputs": [
    {
     "data": {
      "image/png": "[encoded data removed]",
      "text/plain": [
       "<Figure size 720x432 with 1 Axes>"
      ]
     },
     "metadata": {
      "needs_background": "light"
     },
     "output_type": "display_data"
    }
   ],
   "source": [
    "plt.figure(figsize=(10, 6))\n",
    "sns.barplot(x=data_depurada['Internet'], y=data_depurada['aconsejar'])\n",
    "plt.title('Horas aconsejando o consolando a alguien dependiendo si tiene acceso a internet o no')\n",
    "plt.show()"
   ]
  },
  {
   "cell_type": "code",
   "execution_count": 45,
   "id": "aa8ce64b",
   "metadata": {},
   "outputs": [
    {
     "data": {
      "image/png": "[encoded data removed]",
      "text/plain": [
       "<Figure size 720x432 with 1 Axes>"
      ]
     },
     "metadata": {
      "needs_background": "light"
     },
     "output_type": "display_data"
    }
   ],
   "source": [
    "plt.figure(figsize=(10, 6))\n",
    "sns.barplot(x=data_depurada['Internet'], y=data_depurada['conversar'])\n",
    "plt.title('Horas conversando dependiendo si tiene acceso a internet o no')\n",
    "plt.show()"
   ]
  },
  {
   "cell_type": "markdown",
   "id": "f185cdf1",
   "metadata": {},
   "source": [
    "#### Tendencias que contradicen estereotipos populares:"
   ]
  },
  {
   "cell_type": "code",
   "execution_count": 46,
   "id": "6786bb40",
   "metadata": {},
   "outputs": [
    {
     "data": {
      "image/png": "[encoded data removed]",
      "text/plain": [
       "<Figure size 720x432 with 1 Axes>"
      ]
     },
     "metadata": {
      "needs_background": "light"
     },
     "output_type": "display_data"
    }
   ],
   "source": [
    "# Va contra el estereotipo de que las mujeres hablan mucho\n",
    "plt.figure(figsize=(10, 6))\n",
    "sns.barplot(x=data_depurada['sexo'], y=data_depurada['conversar'])\n",
    "plt.title('Horas conversando por sexo')\n",
    "plt.show()"
   ]
  },
  {
   "cell_type": "code",
   "execution_count": 47,
   "id": "dc74baad",
   "metadata": {},
   "outputs": [
    {
     "data": {
      "image/png": "[encoded data removed]",
      "text/plain": [
       "<Figure size 720x432 with 1 Axes>"
      ]
     },
     "metadata": {
      "needs_background": "light"
     },
     "output_type": "display_data"
    }
   ],
   "source": [
    "# Va contra el estereotipo de que la gente en el campo no lee\n",
    "plt.figure(figsize=(10, 6))\n",
    "sns.barplot(x=data_depurada['urbanoORural'], y=data_depurada['leer'])\n",
    "plt.title('Horas leyendo en zona rural vs urbana')\n",
    "plt.show()"
   ]
  },
  {
   "cell_type": "code",
   "execution_count": 48,
   "id": "78d42961",
   "metadata": {},
   "outputs": [
    {
     "data": {
      "image/png": "[encoded data removed]",
      "text/plain": [
       "<Figure size 720x432 with 1 Axes>"
      ]
     },
     "metadata": {
      "needs_background": "light"
     },
     "output_type": "display_data"
    }
   ],
   "source": [
    "# La gente con y sin interenet en la casa parece navegar en internet el mismo tiempof\n",
    "plt.figure(figsize=(10, 6))\n",
    "sns.barplot(x=data_depurada['Internet'], y=data_depurada['internet'])\n",
    "plt.title('Horas navegando en internet de gente con y sin acceso a internet en su casa')\n",
    "plt.show()"
   ]
  },
  {
   "cell_type": "code",
   "execution_count": 49,
   "id": "23fe2a7a",
   "metadata": {},
   "outputs": [
    {
     "data": {
      "image/png": "[encoded data removed]",
      "text/plain": [
       "<Figure size 720x432 with 1 Axes>"
      ]
     },
     "metadata": {
      "needs_background": "light"
     },
     "output_type": "display_data"
    }
   ],
   "source": [
    "# Va contra el estereotipo de que en el campo se siembre su propia comida más que en la ciudad\n",
    "\n",
    "plt.figure(figsize=(10, 6))\n",
    "sns.barplot(x=data_depurada['urbanoORural'], y=data_depurada['sembrarConsumo'])\n",
    "plt.title('Horas sembrando alimentos para el consumo propio en zona rural vs urbana')\n",
    "plt.show()"
   ]
  },
  {
   "cell_type": "code",
   "execution_count": 50,
   "id": "ccf17851",
   "metadata": {},
   "outputs": [
    {
     "data": {
      "image/png": "[encoded data removed]",
      "text/plain": [
       "<Figure size 720x432 with 1 Axes>"
      ]
     },
     "metadata": {
      "needs_background": "light"
     },
     "output_type": "display_data"
    }
   ],
   "source": [
    "# Va contra el estereotipo de que los costeños son muy rumberos\n",
    "plt.figure(figsize=(10, 6))\n",
    "sns.barplot(x=data_depurada['region'], y=data_depurada['baresOFiestas'])\n",
    "plt.title('Horas en bares o fiestas por región')\n",
    "plt.show()"
   ]
  },
  {
   "cell_type": "markdown",
   "id": "aba383bc",
   "metadata": {},
   "source": [
    "#### Cosas que se hacen/dejan de hacer en Bogotá:"
   ]
  },
  {
   "cell_type": "code",
   "execution_count": 51,
   "id": "9298bda2",
   "metadata": {},
   "outputs": [
    {
     "data": {
      "image/png": "[encoded data removed]",
      "text/plain": [
       "<Figure size 720x432 with 1 Axes>"
      ]
     },
     "metadata": {
      "needs_background": "light"
     },
     "output_type": "display_data"
    }
   ],
   "source": [
    "plt.figure(figsize=(10, 6))\n",
    "sns.barplot(x=data_depurada['region'], y=data_depurada['deporte'])\n",
    "plt.title('Horas haciendo deporte por región')\n",
    "plt.show()"
   ]
  },
  {
   "cell_type": "code",
   "execution_count": 52,
   "id": "178d1e12",
   "metadata": {},
   "outputs": [
    {
     "data": {
      "image/png": "[encoded data removed]",
      "text/plain": [
       "<Figure size 720x432 with 1 Axes>"
      ]
     },
     "metadata": {
      "needs_background": "light"
     },
     "output_type": "display_data"
    }
   ],
   "source": [
    "plt.figure(figsize=(10, 6))\n",
    "sns.barplot(x=data_depurada['region'], y=data_depurada['conversar'])\n",
    "plt.title('Horas conversando por región')\n",
    "plt.show()"
   ]
  },
  {
   "cell_type": "code",
   "execution_count": 53,
   "id": "d68388c0",
   "metadata": {},
   "outputs": [
    {
     "data": {
      "image/png": "[encoded data removed]",
      "text/plain": [
       "<Figure size 720x432 with 1 Axes>"
      ]
     },
     "metadata": {
      "needs_background": "light"
     },
     "output_type": "display_data"
    }
   ],
   "source": [
    "plt.figure(figsize=(10, 6))\n",
    "sns.barplot(x=data_depurada['region'], y=data_depurada['sembrarConsumo'])\n",
    "plt.title('Horas sembrando alimentos para el consumo propio por region')\n",
    "plt.show()"
   ]
  },
  {
   "cell_type": "markdown",
   "id": "27918a10",
   "metadata": {},
   "source": [
    "#### Privilegios de clase:"
   ]
  },
  {
   "cell_type": "code",
   "execution_count": 54,
   "id": "1e756f23",
   "metadata": {},
   "outputs": [
    {
     "data": {
      "image/png": "[encoded data removed]",
      "text/plain": [
       "<Figure size 720x432 with 1 Axes>"
      ]
     },
     "metadata": {
      "needs_background": "light"
     },
     "output_type": "display_data"
    }
   ],
   "source": [
    "plt.figure(figsize=(10, 6))\n",
    "sns.barplot(x=data_depurada['estratoTarifa'], y=data_depurada['internet'], order=[1, 2, 3, 4, 5, 6, 'No sabe'])\n",
    "plt.title('Horas navegando en internet por estrato')\n",
    "plt.show()"
   ]
  },
  {
   "cell_type": "code",
   "execution_count": 55,
   "id": "bfeeac79",
   "metadata": {},
   "outputs": [
    {
     "data": {
      "image/png": "[encoded data removed]",
      "text/plain": [
       "<Figure size 720x432 with 1 Axes>"
      ]
     },
     "metadata": {
      "needs_background": "light"
     },
     "output_type": "display_data"
    }
   ],
   "source": [
    "plt.figure(figsize=(10, 6))\n",
    "sns.barplot(x=data_depurada['estratoTarifa'], y=data_depurada['rezarOMeditar'], order=[1, 2, 3, 4, 5, 6, 'No sabe'])\n",
    "plt.title('Horas rezando o meditando por estrato')\n",
    "plt.show()"
   ]
  },
  {
   "cell_type": "code",
   "execution_count": 56,
   "id": "9240ccd3",
   "metadata": {},
   "outputs": [
    {
     "data": {
      "image/png": "[encoded data removed]",
      "text/plain": [
       "<Figure size 720x432 with 1 Axes>"
      ]
     },
     "metadata": {
      "needs_background": "light"
     },
     "output_type": "display_data"
    }
   ],
   "source": [
    "plt.figure(figsize=(10, 6))\n",
    "sns.barplot(x=data_depurada['estratoTarifa'], y=data_depurada['cuidarMascotas'], order=[1, 2, 3, 4, 5, 6, 'No sabe'])\n",
    "plt.title('Horas cuidando mascotas por estrato')\n",
    "plt.show()"
   ]
  },
  {
   "cell_type": "code",
   "execution_count": 57,
   "id": "5e81384c",
   "metadata": {},
   "outputs": [
    {
     "data": {
      "image/png": "[encoded data removed]",
      "text/plain": [
       "<Figure size 720x432 with 1 Axes>"
      ]
     },
     "metadata": {
      "needs_background": "light"
     },
     "output_type": "display_data"
    }
   ],
   "source": [
    "plt.figure(figsize=(10, 6))\n",
    "sns.barplot(x=data_depurada['estratoTarifa'], y=data_depurada['leer'], order=[1, 2, 3, 4, 5, 6, 'No sabe'])\n",
    "plt.title('Horas leyendo por estrato')\n",
    "plt.show()"
   ]
  },
  {
   "cell_type": "code",
   "execution_count": 58,
   "id": "74cc0441",
   "metadata": {},
   "outputs": [
    {
     "data": {
      "image/png": "[encoded data removed]",
      "text/plain": [
       "<Figure size 720x432 with 1 Axes>"
      ]
     },
     "metadata": {
      "needs_background": "light"
     },
     "output_type": "display_data"
    }
   ],
   "source": [
    "plt.figure(figsize=(10, 6))\n",
    "sns.barplot(x=data_depurada['estratoTarifa'], y=data_depurada['jugarNino'], order=[1, 2, 3, 4, 5, 6, 'No sabe'])\n",
    "plt.title('Horas jugando con niños por estrato')\n",
    "plt.show()"
   ]
  },
  {
   "cell_type": "code",
   "execution_count": 59,
   "id": "829012b7",
   "metadata": {},
   "outputs": [
    {
     "data": {
      "image/png": "[encoded data removed]",
      "text/plain": [
       "<Figure size 720x432 with 1 Axes>"
      ]
     },
     "metadata": {
      "needs_background": "light"
     },
     "output_type": "display_data"
    }
   ],
   "source": [
    "plt.figure(figsize=(10, 6))\n",
    "sns.barplot(x=data_depurada['estratoTarifa'], y=data_depurada['criarOCazar'], order=[1, 2, 3, 4, 5, 6, 'No sabe'])\n",
    "plt.title('Horas crianzo o cazando animales por estrato')\n",
    "plt.show()"
   ]
  },
  {
   "cell_type": "code",
   "execution_count": 60,
   "id": "104bd49b",
   "metadata": {},
   "outputs": [
    {
     "data": {
      "image/png": "[encoded data removed]",
      "text/plain": [
       "<Figure size 720x432 with 1 Axes>"
      ]
     },
     "metadata": {
      "needs_background": "light"
     },
     "output_type": "display_data"
    }
   ],
   "source": [
    "plt.figure(figsize=(10, 6))\n",
    "sns.barplot(x=data_depurada['estratoTarifa'], y=data_depurada['sembrarConsumo'], order=[1, 2, 3, 4, 5, 6, 'No sabe'])\n",
    "plt.title('Horas sembrando alimentos para el consumo propio por estrato')\n",
    "plt.show()"
   ]
  },
  {
   "cell_type": "markdown",
   "id": "aca78099",
   "metadata": {},
   "source": [
    "#### Comportamientos atípicos del grupo étnico rom:"
   ]
  },
  {
   "cell_type": "code",
   "execution_count": 61,
   "id": "b87e60e9",
   "metadata": {},
   "outputs": [
    {
     "data": {
      "image/png": "[encoded data removed]",
      "text/plain": [
       "<Figure size 720x432 with 1 Axes>"
      ]
     },
     "metadata": {
      "needs_background": "light"
     },
     "output_type": "display_data"
    }
   ],
   "source": [
    "plt.figure(figsize=(10, 6))\n",
    "sns.barplot(x=data_depurada['grupoEtnico'], y=data_depurada['jugarNino'])\n",
    "plt.title('Horas jugando con niños por grupo étnico')\n",
    "plt.show()"
   ]
  },
  {
   "cell_type": "code",
   "execution_count": 62,
   "id": "8d7ba055",
   "metadata": {},
   "outputs": [
    {
     "data": {
      "image/png": "[encoded data removed]",
      "text/plain": [
       "<Figure size 720x432 with 1 Axes>"
      ]
     },
     "metadata": {
      "needs_background": "light"
     },
     "output_type": "display_data"
    }
   ],
   "source": [
    "plt.figure(figsize=(10, 6))\n",
    "sns.barplot(x=data_depurada['grupoEtnico'], y=data_depurada['criarOCazar'])\n",
    "plt.title('Horas criando o cazando animales por grupo étnico')\n",
    "plt.show()"
   ]
  },
  {
   "cell_type": "code",
   "execution_count": 63,
   "id": "6d131616",
   "metadata": {},
   "outputs": [
    {
     "data": {
      "text/plain": [
       "central       6\n",
       "pacifica      6\n",
       "caribe        2\n",
       "oriental      2\n",
       "bogota        1\n",
       "san andres    1\n",
       "Name: region, dtype: int64"
      ]
     },
     "execution_count": 63,
     "metadata": {},
     "output_type": "execute_result"
    }
   ],
   "source": [
    "# Se obtiene cuántos encuestados rom hay por región\n",
    " \n",
    "data_depurada[data_depurada['grupoEtnico'] == 'gitano/a, rom']['region'].value_counts()\n"
   ]
  },
  {
   "cell_type": "markdown",
   "id": "480a154e",
   "metadata": {},
   "source": [
    "Tras ver que solo hay 18 encuestados que se identifican como rom (dentro de los casi 130 mil encuestados), se concluye que no es una muestra significativa."
   ]
  },
  {
   "cell_type": "markdown",
   "id": "eb590eb6",
   "metadata": {},
   "source": [
    "#### Comportamientos atípicos de la población de San Andrés:"
   ]
  },
  {
   "cell_type": "code",
   "execution_count": 64,
   "id": "3e1ed23e",
   "metadata": {},
   "outputs": [
    {
     "data": {
      "image/png": "[encoded data removed]",
      "text/plain": [
       "<Figure size 720x432 with 1 Axes>"
      ]
     },
     "metadata": {
      "needs_background": "light"
     },
     "output_type": "display_data"
    }
   ],
   "source": [
    "plt.figure(figsize=(10, 6))\n",
    "sns.barplot(x=data_depurada['region'], y=data_depurada['cuidarPlantas'])\n",
    "plt.title('Horas cuidando plantas por región')\n",
    "plt.show()"
   ]
  },
  {
   "cell_type": "code",
   "execution_count": 65,
   "id": "2702ea0d",
   "metadata": {},
   "outputs": [
    {
     "data": {
      "image/png": "[encoded data removed]",
      "text/plain": [
       "<Figure size 720x432 with 1 Axes>"
      ]
     },
     "metadata": {
      "needs_background": "light"
     },
     "output_type": "display_data"
    }
   ],
   "source": [
    "plt.figure(figsize=(10, 6))\n",
    "sns.barplot(x=data_depurada['region'], y=data_depurada['cuidarMascotas'])\n",
    "plt.title('Horas cuidando mascotas por región')\n",
    "plt.show()"
   ]
  },
  {
   "cell_type": "code",
   "execution_count": 66,
   "id": "acbc6eea",
   "metadata": {},
   "outputs": [
    {
     "data": {
      "image/png": "[encoded data removed]",
      "text/plain": [
       "<Figure size 720x432 with 1 Axes>"
      ]
     },
     "metadata": {
      "needs_background": "light"
     },
     "output_type": "display_data"
    }
   ],
   "source": [
    "plt.figure(figsize=(10, 6))\n",
    "sns.barplot(x=data_depurada['region'], y=data_depurada['rezarOMeditar'])\n",
    "plt.title('Horas rezando o meditando por región')\n",
    "plt.show()"
   ]
  },
  {
   "cell_type": "code",
   "execution_count": 67,
   "id": "20c63542",
   "metadata": {},
   "outputs": [
    {
     "data": {
      "image/png": "[encoded data removed]",
      "text/plain": [
       "<Figure size 720x432 with 1 Axes>"
      ]
     },
     "metadata": {
      "needs_background": "light"
     },
     "output_type": "display_data"
    }
   ],
   "source": [
    "plt.figure(figsize=(10, 6))\n",
    "sns.barplot(x=data_depurada['region'], y=data_depurada['cuentosNino'])\n",
    "plt.title('Horas leyéndole cuentos a niños por región')\n",
    "plt.show()"
   ]
  },
  {
   "cell_type": "code",
   "execution_count": 68,
   "id": "c50fad72",
   "metadata": {},
   "outputs": [
    {
     "data": {
      "text/plain": [
       "central       31472\n",
       "caribe        30170\n",
       "oriental      22955\n",
       "pacifica      21089\n",
       "bogota        20204\n",
       "san andres     3006\n",
       "Name: region, dtype: int64"
      ]
     },
     "execution_count": 68,
     "metadata": {},
     "output_type": "execute_result"
    }
   ],
   "source": [
    "# Se obtiene la cantidad de encuestados que viven en San Andrés\n",
    "\n",
    "data_depurada['region'].value_counts()"
   ]
  },
  {
   "cell_type": "markdown",
   "id": "c51384dd",
   "metadata": {},
   "source": [
    "Se concluye que la muestra de encuestados que viven en San Andrés corresponde a una proporción similar a la de habitantes de la isla frente a la población colombiana."
   ]
  },
  {
   "cell_type": "markdown",
   "id": "02f8d892",
   "metadata": {},
   "source": [
    "#### Cambios interesantes en la relación con la naturaleza con vs sin internet:"
   ]
  },
  {
   "cell_type": "code",
   "execution_count": 69,
   "id": "360cb233",
   "metadata": {},
   "outputs": [
    {
     "data": {
      "image/png": "[encoded data removed]",
      "text/plain": [
       "<Figure size 720x432 with 1 Axes>"
      ]
     },
     "metadata": {
      "needs_background": "light"
     },
     "output_type": "display_data"
    }
   ],
   "source": [
    "plt.figure(figsize=(10, 6))\n",
    "sns.barplot(x=data_depurada['Internet'], y=data_depurada['sembrarConsumo'])\n",
    "plt.title('Horas sembrando alimentos para el consumo propio dependiendo de si se tiene o no conexión a internet')\n",
    "plt.show()"
   ]
  },
  {
   "cell_type": "code",
   "execution_count": 70,
   "id": "4e4e6120",
   "metadata": {},
   "outputs": [
    {
     "data": {
      "image/png": "[encoded data removed]",
      "text/plain": [
       "<Figure size 720x432 with 1 Axes>"
      ]
     },
     "metadata": {
      "needs_background": "light"
     },
     "output_type": "display_data"
    }
   ],
   "source": [
    "plt.figure(figsize=(10, 6))\n",
    "sns.barplot(x=data_depurada['Internet'], y=data_depurada['criarOCazar'])\n",
    "plt.title('Horas criando o cazando animales dependiendo de si se tiene o no conexión a internet')\n",
    "plt.show()"
   ]
  },
  {
   "cell_type": "code",
   "execution_count": 71,
   "id": "cca8c388",
   "metadata": {},
   "outputs": [
    {
     "data": {
      "image/png": "[encoded data removed]",
      "text/plain": [
       "<Figure size 720x432 with 1 Axes>"
      ]
     },
     "metadata": {
      "needs_background": "light"
     },
     "output_type": "display_data"
    }
   ],
   "source": [
    "plt.figure(figsize=(10, 6))\n",
    "sns.barplot(x=data_depurada['Internet'], y=data_depurada['cuidarPlantas'])\n",
    "plt.title('Horas cuidando plantas dependiendo de si se tiene o no conexión a internet')\n",
    "plt.show()"
   ]
  },
  {
   "cell_type": "code",
   "execution_count": 72,
   "id": "4ee1ac77",
   "metadata": {},
   "outputs": [
    {
     "data": {
      "image/png": "[encoded data removed]",
      "text/plain": [
       "<Figure size 720x432 with 1 Axes>"
      ]
     },
     "metadata": {
      "needs_background": "light"
     },
     "output_type": "display_data"
    }
   ],
   "source": [
    "plt.figure(figsize=(10, 6))\n",
    "sns.barplot(x=data_depurada['Internet'], y=data_depurada['cuidarMascotas'])\n",
    "plt.title('Horas cuidando mascotas dependiendo de si se tiene o no conexión a internet')\n",
    "plt.show()"
   ]
  },
  {
   "cell_type": "markdown",
   "id": "c441f46c",
   "metadata": {},
   "source": [
    "#### Fenómenos por edad:"
   ]
  },
  {
   "cell_type": "code",
   "execution_count": 73,
   "id": "3384f867",
   "metadata": {},
   "outputs": [
    {
     "data": {
      "image/png": "[encoded data removed]",
      "text/plain": [
       "<Figure size 720x432 with 1 Axes>"
      ]
     },
     "metadata": {
      "needs_background": "light"
     },
     "output_type": "display_data"
    }
   ],
   "source": [
    "plt.figure(figsize=(10, 6))\n",
    "sns.barplot(x=data_depurada['edad'], y=data_depurada['rezarOMeditar'], order=['0-5', '6-11', '12-18', '19-30', '31-60', '61-80', '81+'])\n",
    "plt.title('Horas rezando o meditando por grupo etario')\n",
    "plt.show()"
   ]
  },
  {
   "cell_type": "code",
   "execution_count": 74,
   "id": "c2d87900",
   "metadata": {},
   "outputs": [
    {
     "data": {
      "image/png": "[encoded data removed]",
      "text/plain": [
       "<Figure size 720x432 with 1 Axes>"
      ]
     },
     "metadata": {
      "needs_background": "light"
     },
     "output_type": "display_data"
    }
   ],
   "source": [
    "plt.figure(figsize=(10, 6))\n",
    "sns.barplot(x=data_depurada['edad'], y=data_depurada['alcanzaTiempo'], order=['0-5', '6-11', '12-18', '19-30', '31-60', '61-80', '81+'])\n",
    "plt.title('Le alcanza o no el tiempo para hacer sus actividades por grupo etario')\n",
    "plt.show()"
   ]
  },
  {
   "cell_type": "markdown",
   "id": "99d2c7ae",
   "metadata": {},
   "source": [
    "### Al final, la percepción del tiempo es muy similar entre todos los grupos: (narrativa que buscamos contar)"
   ]
  },
  {
   "cell_type": "code",
   "execution_count": 75,
   "id": "5a791e6e",
   "metadata": {},
   "outputs": [
    {
     "data": {
      "image/png": "[encoded data removed]",
      "text/plain": [
       "<Figure size 720x432 with 1 Axes>"
      ]
     },
     "metadata": {
      "needs_background": "light"
     },
     "output_type": "display_data"
    }
   ],
   "source": [
    "plt.figure(figsize=(10, 6))\n",
    "sns.barplot(x=data_depurada['region'], y=data_depurada['alcanzaTiempo'])\n",
    "plt.title('Le alcanza o no el tiempo para hacer sus actividades por region')\n",
    "plt.show()"
   ]
  },
  {
   "cell_type": "code",
   "execution_count": 76,
   "id": "7c843b5b",
   "metadata": {},
   "outputs": [
    {
     "data": {
      "image/png": "[encoded data removed]",
      "text/plain": [
       "<Figure size 720x432 with 1 Axes>"
      ]
     },
     "metadata": {
      "needs_background": "light"
     },
     "output_type": "display_data"
    }
   ],
   "source": [
    "plt.figure(figsize=(10, 6))\n",
    "sns.barplot(x=data_depurada['urbanoORural'], y=data_depurada['alcanzaTiempo'])\n",
    "plt.title('Le alcanza o no el tiempo para hacer sus actividades en zona urbana vs rural')\n",
    "plt.show()"
   ]
  },
  {
   "cell_type": "code",
   "execution_count": 77,
   "id": "8a707f02",
   "metadata": {},
   "outputs": [
    {
     "data": {
      "image/png": "[encoded data removed]",
      "text/plain": [
       "<Figure size 720x432 with 1 Axes>"
      ]
     },
     "metadata": {
      "needs_background": "light"
     },
     "output_type": "display_data"
    }
   ],
   "source": [
    "plt.figure(figsize=(10, 6))\n",
    "sns.barplot(x=data_depurada['estratoTarifa'], y=data_depurada['alcanzaTiempo'], order=[1, 2, 3, 4, 5, 6, 'No sabe'])\n",
    "plt.title('Le alcanza o no el tiempo para hacer sus actividades por estrato')\n",
    "plt.show()"
   ]
  },
  {
   "cell_type": "code",
   "execution_count": 78,
   "id": "0c2f24d4",
   "metadata": {},
   "outputs": [
    {
     "data": {
      "image/png": "[encoded data removed]",
      "text/plain": [
       "<Figure size 720x432 with 1 Axes>"
      ]
     },
     "metadata": {
      "needs_background": "light"
     },
     "output_type": "display_data"
    }
   ],
   "source": [
    "plt.figure(figsize=(10, 6))\n",
    "sns.barplot(x=data_depurada['Internet'], y=data_depurada['alcanzaTiempo'])\n",
    "plt.title('Le alcanza o no el tiempo dependiendo de si tiene acceso a internet o no')\n",
    "plt.show()"
   ]
  },
  {
   "cell_type": "code",
   "execution_count": 79,
   "id": "00db7b2e",
   "metadata": {},
   "outputs": [
    {
     "data": {
      "image/png": "[encoded data removed]",
      "text/plain": [
       "<Figure size 720x432 with 1 Axes>"
      ]
     },
     "metadata": {
      "needs_background": "light"
     },
     "output_type": "display_data"
    }
   ],
   "source": [
    "plt.figure(figsize=(10, 6))\n",
    "sns.barplot(x=data_depurada['sexo'], y=data_depurada['alcanzaTiempo'])\n",
    "plt.title('Le alcanza o no el tiempo para hacer sus actividades por sexo')\n",
    "plt.show()"
   ]
  },
  {
   "cell_type": "code",
   "execution_count": 80,
   "id": "9a987bf7",
   "metadata": {},
   "outputs": [
    {
     "data": {
      "image/png": "[encoded data removed]",
      "text/plain": [
       "<Figure size 720x432 with 1 Axes>"
      ]
     },
     "metadata": {
      "needs_background": "light"
     },
     "output_type": "display_data"
    }
   ],
   "source": [
    "plt.figure(figsize=(10, 6))\n",
    "sns.barplot(x=data_depurada['grupoEtnico'], y=data_depurada['alcanzaTiempo'])\n",
    "plt.title('Le alcanza o no el tiempo para hacer sus actividades por grupo étnico')\n",
    "plt.show()"
   ]
  },
  {
   "cell_type": "markdown",
   "id": "8bd5fa50",
   "metadata": {},
   "source": [
    "## 4 Fase predictiva (en caso de ser necesitada)"
   ]
  },
  {
   "cell_type": "code",
   "execution_count": 81,
   "id": "25d98ebc",
   "metadata": {},
   "outputs": [
    {
     "data": {
      "text/plain": [
       "\"\\n# Se separa el conjunto de datos en entrenamiento y test\\nX = data_depurada[['edad', 'sexo', 'grupoEtnico', 'region', 'urbanoORural', 'estratoTarifa', 'Internet']]\\ny = data_depurada['dormir']\\n\\nX_train, X_test, y_train, y_test = train_test_split(X, y, test_size=0.2, random_state=42)\\n\\n# Se crea un modelo de regresión lineal\\nreg = LinearRegression()\\n\\n# Se entrena el modelo\\nreg.fit(X_train, y_train)\\n\\n# Se realizan las predicciones\\ny_pred = reg.predict(X_test)\\n\\n# Se calculan las métricas\\nmse = mean_squared_error(y_test, y_pred)\\nmae = mean_absolute_error(y_test, y_pred)\\nr2 = r2_score(y_test, y_pred)\\n\\nprint(f'MSE: {mse}')\\nprint(f'MAE: {mae}')\\nprint(f'R2: {r2}')\\n\""
      ]
     },
     "execution_count": 81,
     "metadata": {},
     "output_type": "execute_result"
    }
   ],
   "source": [
    "# Se crea un modelo de regresión lineal para predecir las horas de sueño (no será utilizado por el momento)\n",
    "\n",
    "'''\n",
    "# Se separa el conjunto de datos en entrenamiento y test\n",
    "X = data_depurada[['edad', 'sexo', 'grupoEtnico', 'region', 'urbanoORural', 'estratoTarifa', 'Internet']]\n",
    "y = data_depurada['dormir']\n",
    "\n",
    "X_train, X_test, y_train, y_test = train_test_split(X, y, test_size=0.2, random_state=42)\n",
    "\n",
    "# Se crea un modelo de regresión lineal\n",
    "reg = LinearRegression()\n",
    "\n",
    "# Se entrena el modelo\n",
    "reg.fit(X_train, y_train)\n",
    "\n",
    "# Se realizan las predicciones\n",
    "y_pred = reg.predict(X_test)\n",
    "\n",
    "# Se calculan las métricas\n",
    "mse = mean_squared_error(y_test, y_pred)\n",
    "mae = mean_absolute_error(y_test, y_pred)\n",
    "r2 = r2_score(y_test, y_pred)\n",
    "\n",
    "print(f'MSE: {mse}')\n",
    "print(f'MAE: {mae}')\n",
    "print(f'R2: {r2}')\n",
    "'''"
   ]
  }
 ],
 "metadata": {
  "kernelspec": {
   "display_name": "Python 3 (ipykernel)",
   "language": "python",
   "name": "python3"
  },
  "language_info": {
   "codemirror_mode": {
    "name": "ipython",
    "version": 3
   },
   "file_extension": ".py",
   "mimetype": "text/x-python",
   "name": "python",
   "nbconvert_exporter": "python",
   "pygments_lexer": "ipython3",
   "version": "3.9.7"
  }
 },
 "nbformat": 4,
 "nbformat_minor": 5
}
